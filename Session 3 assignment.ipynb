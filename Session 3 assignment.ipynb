{
 "cells": [
  {
   "cell_type": "code",
   "execution_count": 0,
   "metadata": {
    "application/vnd.databricks.v1+cell": {
     "cellMetadata": {
      "byteLimit": 2048000,
      "rowLimit": 10000
     },
     "inputWidgets": {},
     "nuid": "1a60ec8d-5577-4efa-a07b-264cd2b7fbef",
     "showTitle": false,
     "tableResultSettingsMap": {
      "0": {
       "dataGridStateBlob": "{\"version\":1,\"tableState\":{\"columnPinning\":{\"left\":[\"#row_number#\"],\"right\":[]},\"columnSizing\":{},\"columnVisibility\":{}},\"settings\":{\"columns\":{}},\"syncTimestamp\":1760352011231}",
       "filterBlob": null,
       "queryPlanFiltersBlob": null,
       "tableResultIndex": 0
      }
     },
     "title": ""
    }
   },
   "outputs": [
    {
     "output_type": "display_data",
     "data": {
      "text/html": [
       "<style scoped>\n",
       "  .table-result-container {\n",
       "    max-height: 300px;\n",
       "    overflow: auto;\n",
       "  }\n",
       "  table, th, td {\n",
       "    border: 1px solid black;\n",
       "    border-collapse: collapse;\n",
       "  }\n",
       "  th, td {\n",
       "    padding: 5px;\n",
       "  }\n",
       "  th {\n",
       "    text-align: left;\n",
       "  }\n",
       "</style><div class='table-result-container'><table class='table-result'><thead style='background-color: white'><tr><th> case_id</th><th>province</th><th>city</th><th>group</th><th>infection_case</th><th>confirmed</th><th>latitude</th><th>longitude</th></tr></thead><tbody><tr><td>1000001</td><td>Seoul</td><td>Yongsan-gu</td><td>TRUE</td><td>Itaewon Clubs</td><td>139</td><td>37.538621</td><td>126.992652</td></tr><tr><td>1000002</td><td>Seoul</td><td>Gwanak-gu</td><td>TRUE</td><td>Richway</td><td>119</td><td>37.48208</td><td>126.901384</td></tr><tr><td>1000003</td><td>Seoul</td><td>Guro-gu</td><td>TRUE</td><td>Guro-gu Call Center</td><td>95</td><td>37.508163</td><td>126.884387</td></tr><tr><td>1000004</td><td>Seoul</td><td>Yangcheon-gu</td><td>TRUE</td><td>Yangcheon Table Tennis Club</td><td>43</td><td>37.546061</td><td>126.874209</td></tr><tr><td>1000005</td><td>Seoul</td><td>Dobong-gu</td><td>TRUE</td><td>Day Care Center</td><td>43</td><td>37.679422</td><td>127.044374</td></tr><tr><td>1000006</td><td>Seoul</td><td>Guro-gu</td><td>TRUE</td><td>Manmin Central Church</td><td>41</td><td>37.481059</td><td>126.894343</td></tr><tr><td>1000007</td><td>Seoul</td><td>from other city</td><td>TRUE</td><td>SMR Newly Planted Churches Group</td><td>36</td><td>-</td><td>-</td></tr><tr><td>1000008</td><td>Seoul</td><td>Dongdaemun-gu</td><td>TRUE</td><td>Dongan Church</td><td>17</td><td>37.592888</td><td>127.056766</td></tr><tr><td>1000009</td><td>Seoul</td><td>from other city</td><td>TRUE</td><td>Coupang Logistics Center</td><td>25</td><td>-</td><td>-</td></tr><tr><td>1000010</td><td>Seoul</td><td>Gwanak-gu</td><td>TRUE</td><td>Wangsung Church</td><td>30</td><td>37.481735</td><td>126.930121</td></tr><tr><td>1000011</td><td>Seoul</td><td>Eunpyeong-gu</td><td>TRUE</td><td>Eunpyeong St. Mary's Hospital</td><td>14</td><td>37.63369</td><td>126.9165</td></tr><tr><td>1000012</td><td>Seoul</td><td>Seongdong-gu</td><td>TRUE</td><td>Seongdong-gu APT</td><td>13</td><td>37.55713</td><td>127.0403</td></tr><tr><td>1000013</td><td>Seoul</td><td>Jongno-gu</td><td>TRUE</td><td>Jongno Community Center</td><td>10</td><td>37.57681</td><td>127.006</td></tr><tr><td>1000014</td><td>Seoul</td><td>Gangnam-gu</td><td>TRUE</td><td>Samsung Medical Center</td><td>7</td><td>37.48825</td><td>127.08559</td></tr><tr><td>1000015</td><td>Seoul</td><td>Jung-gu</td><td>TRUE</td><td>Jung-gu Fashion Company</td><td>7</td><td>37.562405</td><td>126.984377</td></tr><tr><td>1000016</td><td>Seoul</td><td>Seodaemun-gu</td><td>TRUE</td><td>Yeonana News Class</td><td>5</td><td>37.558147</td><td>126.943799</td></tr><tr><td>1000017</td><td>Seoul</td><td>Jongno-gu</td><td>TRUE</td><td>Korea Campus Crusade of Christ</td><td>7</td><td>37.594782</td><td>126.968022</td></tr><tr><td>1000018</td><td>Seoul</td><td>Gangnam-gu</td><td>TRUE</td><td>Gangnam Yeoksam-dong gathering</td><td>6</td><td>-</td><td>-</td></tr><tr><td>1000019</td><td>Seoul</td><td>from other city</td><td>TRUE</td><td>Daejeon door-to-door sales</td><td>1</td><td>-</td><td>-</td></tr><tr><td>1000020</td><td>Seoul</td><td>Geumcheon-gu</td><td>TRUE</td><td>Geumcheon-gu rice milling machine manufacture</td><td>6</td><td>-</td><td>-</td></tr><tr><td>1000021</td><td>Seoul</td><td>from other city</td><td>TRUE</td><td>Shincheonji Church</td><td>8</td><td>-</td><td>-</td></tr><tr><td>1000022</td><td>Seoul</td><td>from other city</td><td>TRUE</td><td>Guri Collective Infection</td><td>5</td><td>-</td><td>-</td></tr><tr><td>1000023</td><td>Seoul</td><td>Jung-gu</td><td>TRUE</td><td>KB Life Insurance</td><td>13</td><td>37.560899</td><td>126.966998</td></tr><tr><td>1000024</td><td>Seoul</td><td>Yeongdeungpo-gu</td><td>TRUE</td><td>Yeongdeungpo Learning Institute</td><td>3</td><td>37.520846</td><td>126.931278</td></tr><tr><td>1000025</td><td>Seoul</td><td>Gangnam-gu</td><td>TRUE</td><td>Gangnam Dongin Church</td><td>1</td><td>37.522331</td><td>127.057388</td></tr><tr><td>1000026</td><td>Seoul</td><td>Yangcheon-gu</td><td>TRUE</td><td>Biblical Language study meeting</td><td>3</td><td>37.524623</td><td>126.843118</td></tr><tr><td>1000027</td><td>Seoul</td><td>Seocho-gu</td><td>TRUE</td><td>Seocho Family</td><td>5</td><td>-</td><td>-</td></tr><tr><td>1000028</td><td>Seoul</td><td>from other city</td><td>TRUE</td><td>Anyang Gunpo Pastors Group</td><td>1</td><td>-</td><td>-</td></tr><tr><td>1000029</td><td>Seoul</td><td>Gangnam-gu</td><td>TRUE</td><td>Samsung Fire & Marine Insurance</td><td>4</td><td>37.498279</td><td>127.030139</td></tr><tr><td>1000030</td><td>Seoul</td><td>Gangseo-gu</td><td>TRUE</td><td>SJ Investment Call Center</td><td>0</td><td>37.559649</td><td>126.835102</td></tr><tr><td>1000031</td><td>Seoul</td><td>from other city</td><td>TRUE</td><td>Yongin Brothers</td><td>4</td><td>-</td><td>-</td></tr><tr><td>1000032</td><td>Seoul</td><td>Jung-gu</td><td>TRUE</td><td>Seoul City Hall Station safety worker</td><td>3</td><td>37.565699</td><td>126.977079</td></tr><tr><td>1000033</td><td>Seoul</td><td>from other city</td><td>TRUE</td><td>Uiwang Logistics Center</td><td>2</td><td>-</td><td>-</td></tr><tr><td>1000034</td><td>Seoul</td><td>-</td><td>TRUE</td><td>Orange Life</td><td>1</td><td>-</td><td>-</td></tr><tr><td>1000035</td><td>Seoul</td><td>Guro-gu</td><td>TRUE</td><td>Daezayeon Korea</td><td>3</td><td>37.486837</td><td>126.893163</td></tr><tr><td>1000036</td><td>Seoul</td><td>-</td><td>FALSE</td><td>overseas inflow</td><td>298</td><td>-</td><td>-</td></tr><tr><td>1000037</td><td>Seoul</td><td>-</td><td>FALSE</td><td>contact with patient</td><td>162</td><td>-</td><td>-</td></tr><tr><td>1000038</td><td>Seoul</td><td>-</td><td>FALSE</td><td>etc</td><td>100</td><td>-</td><td>-</td></tr><tr><td>1100001</td><td>Busan</td><td>Dongnae-gu</td><td>TRUE</td><td>Onchun Church</td><td>39</td><td>35.21628</td><td>129.0771</td></tr><tr><td>1100002</td><td>Busan</td><td>from other city</td><td>TRUE</td><td>Shincheonji Church</td><td>12</td><td>-</td><td>-</td></tr><tr><td>1100003</td><td>Busan</td><td>Suyeong-gu</td><td>TRUE</td><td>Suyeong-gu Kindergarten</td><td>5</td><td>35.16708</td><td>129.1124</td></tr><tr><td>1100004</td><td>Busan</td><td>Haeundae-gu</td><td>TRUE</td><td>Haeundae-gu Catholic Church</td><td>6</td><td>35.20599</td><td>129.1256</td></tr><tr><td>1100005</td><td>Busan</td><td>Jin-gu</td><td>TRUE</td><td>Jin-gu Academy</td><td>4</td><td>35.17371</td><td>129.0633</td></tr><tr><td>1100006</td><td>Busan</td><td>from other city</td><td>TRUE</td><td>Itaewon Clubs</td><td>4</td><td>-</td><td>-</td></tr><tr><td>1100007</td><td>Busan</td><td>from other city</td><td>TRUE</td><td>Cheongdo Daenam Hospital</td><td>1</td><td>-</td><td>-</td></tr><tr><td>1100008</td><td>Busan</td><td>-</td><td>FALSE</td><td>overseas inflow</td><td>36</td><td>-</td><td>-</td></tr><tr><td>1100009</td><td>Busan</td><td>-</td><td>FALSE</td><td>contact with patient</td><td>19</td><td>-</td><td>-</td></tr><tr><td>1100010</td><td>Busan</td><td>-</td><td>FALSE</td><td>etc</td><td>30</td><td>-</td><td>-</td></tr><tr><td>1200001</td><td>Daegu</td><td>Nam-gu</td><td>TRUE</td><td>Shincheonji Church</td><td>4511</td><td>35.84008</td><td>128.5667</td></tr><tr><td>1200002</td><td>Daegu</td><td>Dalseong-gun</td><td>TRUE</td><td>Second Mi-Ju Hospital</td><td>196</td><td>35.857375</td><td>128.466651</td></tr><tr><td>1200003</td><td>Daegu</td><td>Seo-gu</td><td>TRUE</td><td>Hansarang Convalescent Hospital</td><td>124</td><td>35.885592</td><td>128.556649</td></tr><tr><td>1200004</td><td>Daegu</td><td>Dalseong-gun</td><td>TRUE</td><td>Daesil Convalescent Hospital</td><td>101</td><td>35.857393</td><td>128.466653</td></tr><tr><td>1200005</td><td>Daegu</td><td>Dong-gu</td><td>TRUE</td><td>Fatima Hospital</td><td>39</td><td>35.88395</td><td>128.624059</td></tr><tr><td>1200006</td><td>Daegu</td><td>from other city</td><td>TRUE</td><td>Itaewon Clubs</td><td>2</td><td>-</td><td>-</td></tr><tr><td>1200007</td><td>Daegu</td><td>from other city</td><td>TRUE</td><td>Cheongdo Daenam Hospital</td><td>2</td><td>-</td><td>-</td></tr><tr><td>1200008</td><td>Daegu</td><td>-</td><td>FALSE</td><td>overseas inflow</td><td>41</td><td>-</td><td>-</td></tr><tr><td>1200009</td><td>Daegu</td><td>-</td><td>FALSE</td><td>contact with patient</td><td>917</td><td>-</td><td>-</td></tr><tr><td>1200010</td><td>Daegu</td><td>-</td><td>FALSE</td><td>etc</td><td>747</td><td>-</td><td>-</td></tr><tr><td>1300001</td><td>Gwangju</td><td>Dong-gu</td><td>TRUE</td><td>Gwangneuksa Temple</td><td>5</td><td>35.136035</td><td>126.956405</td></tr><tr><td>1300002</td><td>Gwangju</td><td>from other city</td><td>TRUE</td><td>Shincheonji Church</td><td>9</td><td>-</td><td>-</td></tr><tr><td>1300003</td><td>Gwangju</td><td>-</td><td>FALSE</td><td>overseas inflow</td><td>23</td><td>-</td><td>-</td></tr><tr><td>1300004</td><td>Gwangju</td><td>-</td><td>FALSE</td><td>contact with patient</td><td>5</td><td>-</td><td>-</td></tr><tr><td>1300005</td><td>Gwangju</td><td>-</td><td>FALSE</td><td>etc</td><td>1</td><td>-</td><td>-</td></tr><tr><td>1400001</td><td>Incheon</td><td>from other city</td><td>TRUE</td><td>Itaewon Clubs</td><td>53</td><td>-</td><td>-</td></tr><tr><td>1400002</td><td>Incheon</td><td>from other city</td><td>TRUE</td><td>Coupang Logistics Center</td><td>42</td><td>-</td><td>-</td></tr><tr><td>1400003</td><td>Incheon</td><td>from other city</td><td>TRUE</td><td>Guro-gu Call Center</td><td>20</td><td>-</td><td>-</td></tr><tr><td>1400004</td><td>Incheon</td><td>from other city</td><td>TRUE</td><td>Shincheonji Church</td><td>2</td><td>-</td><td>-</td></tr><tr><td>1400005</td><td>Incheon</td><td>-</td><td>FALSE</td><td>overseas inflow</td><td>68</td><td>-</td><td>-</td></tr><tr><td>1400006</td><td>Incheon</td><td>-</td><td>FALSE</td><td>contact with patient</td><td>6</td><td>-</td><td>-</td></tr><tr><td>1400007</td><td>Incheon</td><td>-</td><td>FALSE</td><td>etc</td><td>11</td><td>-</td><td>-</td></tr><tr><td>1500001</td><td>Daejeon</td><td>-</td><td>TRUE</td><td>Door-to-door sales in Daejeon</td><td>55</td><td>-</td><td>-</td></tr><tr><td>1500002</td><td>Daejeon</td><td>Seo-gu</td><td>TRUE</td><td>Dunsan Electronics Town</td><td>13</td><td>36.3400973</td><td>127.3927099</td></tr><tr><td>1500003</td><td>Daejeon</td><td>Seo-gu</td><td>TRUE</td><td>Orange Town</td><td>7</td><td>36.3398739</td><td>127.3819744</td></tr><tr><td>1500004</td><td>Daejeon</td><td>Seo-gu</td><td>TRUE</td><td>Dreaming Church</td><td>4</td><td>36.346869</td><td>127.368594</td></tr><tr><td>1500005</td><td>Daejeon</td><td>Seo-gu</td><td>TRUE</td><td>Korea Forest Engineer Institute</td><td>3</td><td>36.358123</td><td>127.388856</td></tr><tr><td>1500006</td><td>Daejeon</td><td>from other city</td><td>TRUE</td><td>Shincheonji Church</td><td>2</td><td>-</td><td>-</td></tr><tr><td>1500007</td><td>Daejeon</td><td>from other city</td><td>TRUE</td><td>Seosan-si Laboratory</td><td>2</td><td>-</td><td>-</td></tr><tr><td>1500008</td><td>Daejeon</td><td>-</td><td>FALSE</td><td>overseas inflow</td><td>15</td><td>-</td><td>-</td></tr><tr><td>1500009</td><td>Daejeon</td><td>-</td><td>FALSE</td><td>contact with patient</td><td>15</td><td>-</td><td>-</td></tr><tr><td>1500010</td><td>Daejeon</td><td>-</td><td>FALSE</td><td>etc</td><td>15</td><td>-</td><td>-</td></tr><tr><td>1600001</td><td>Ulsan</td><td>from other city</td><td>TRUE</td><td>Shincheonji Church</td><td>16</td><td>-</td><td>-</td></tr><tr><td>1600002</td><td>Ulsan</td><td>-</td><td>FALSE</td><td>overseas inflow</td><td>25</td><td>-</td><td>-</td></tr><tr><td>1600003</td><td>Ulsan</td><td>-</td><td>FALSE</td><td>contact with patient</td><td>3</td><td>-</td><td>-</td></tr><tr><td>1600004</td><td>Ulsan</td><td>-</td><td>FALSE</td><td>etc</td><td>7</td><td>-</td><td>-</td></tr><tr><td>1700001</td><td>Sejong</td><td>Sejong</td><td>TRUE</td><td>Ministry of Oceans and Fisheries</td><td>31</td><td>36.504713</td><td>127.265172</td></tr><tr><td>1700002</td><td>Sejong</td><td>Sejong</td><td>TRUE</td><td>gym facility in Sejong</td><td>8</td><td>36.48025</td><td>127.289</td></tr><tr><td>1700003</td><td>Sejong</td><td>from other city</td><td>TRUE</td><td>Shincheonji Church</td><td>1</td><td>-</td><td>-</td></tr><tr><td>1700004</td><td>Sejong</td><td>-</td><td>FALSE</td><td>overseas inflow</td><td>5</td><td>-</td><td>-</td></tr><tr><td>1700005</td><td>Sejong</td><td>-</td><td>FALSE</td><td>contact with patient</td><td>3</td><td>-</td><td>-</td></tr><tr><td>1700006</td><td>Sejong</td><td>-</td><td>FALSE</td><td>etc</td><td>1</td><td>-</td><td>-</td></tr><tr><td>2000001</td><td>Gyeonggi-do</td><td>Seongnam-si</td><td>TRUE</td><td>River of Grace Community Church</td><td>67</td><td>37.455687</td><td>127.161627</td></tr><tr><td>2000002</td><td>Gyeonggi-do</td><td>Bucheon-si</td><td>TRUE</td><td>Coupang Logistics Center</td><td>67</td><td>37.530579</td><td>126.775254</td></tr><tr><td>2000003</td><td>Gyeonggi-do</td><td>from other city</td><td>TRUE</td><td>Itaewon Clubs</td><td>59</td><td>-</td><td>-</td></tr><tr><td>2000004</td><td>Gyeonggi-do</td><td>from other city</td><td>TRUE</td><td>Richway</td><td>58</td><td>-</td><td>-</td></tr><tr><td>2000005</td><td>Gyeonggi-do</td><td>Uijeongbu-si</td><td>TRUE</td><td>Uijeongbu St. Mary’s Hospital</td><td>50</td><td>37.758635</td><td>127.077716</td></tr><tr><td>2000006</td><td>Gyeonggi-do</td><td>from other city</td><td>TRUE</td><td>Guro-gu Call Center</td><td>50</td><td>-</td><td>-</td></tr><tr><td>2000007</td><td>Gyeonggi-do</td><td>from other city</td><td>TRUE</td><td>Shincheonji Church</td><td>29</td><td>-</td><td>-</td></tr><tr><td>2000008</td><td>Gyeonggi-do</td><td>from other city</td><td>TRUE</td><td>Yangcheon Table Tennis Club</td><td>28</td><td>-</td><td>-</td></tr><tr><td>2000009</td><td>Gyeonggi-do</td><td>-</td><td>TRUE</td><td>SMR Newly Planted Churches Group</td><td>25</td><td>-</td><td>-</td></tr><tr><td>2000010</td><td>Gyeonggi-do</td><td>Seongnam-si</td><td>TRUE</td><td>Bundang Jesaeng Hospital</td><td>22</td><td>37.38833</td><td>127.1218</td></tr><tr><td>2000011</td><td>Gyeonggi-do</td><td>Anyang-si</td><td>TRUE</td><td>Anyang Gunpo Pastors Group</td><td>22</td><td>37.381784</td><td>126.93615</td></tr><tr><td>2000012</td><td>Gyeonggi-do</td><td>Suwon-si</td><td>TRUE</td><td>Lotte Confectionery logistics center</td><td>15</td><td>37.287356</td><td>127.013827</td></tr><tr><td>2000013</td><td>Gyeonggi-do</td><td>Anyang-si</td><td>TRUE</td><td>Lord Glory Church</td><td>17</td><td>37.403722</td><td>126.954939</td></tr><tr><td>2000014</td><td>Gyeonggi-do</td><td>Suwon-si</td><td>TRUE</td><td>Suwon Saeng Myeong Saem Church</td><td>10</td><td>37.2376</td><td>127.0517</td></tr><tr><td>2000015</td><td>Gyeonggi-do</td><td>from other city</td><td>TRUE</td><td>Korea Campus Crusade of Christ</td><td>7</td><td>-</td><td>-</td></tr><tr><td>2000016</td><td>Gyeonggi-do</td><td>from other city</td><td>TRUE</td><td>Geumcheon-gu rice milling machine manufacture</td><td>6</td><td>-</td><td>-</td></tr><tr><td>2000017</td><td>Gyeonggi-do</td><td>from other city</td><td>TRUE</td><td>Wangsung Church</td><td>6</td><td>-</td><td>-</td></tr><tr><td>2000018</td><td>Gyeonggi-do</td><td>from other city</td><td>TRUE</td><td>Seoul City Hall Station safety worker</td><td>5</td><td>-</td><td>-</td></tr><tr><td>2000019</td><td>Gyeonggi-do</td><td>Seongnam-si</td><td>TRUE</td><td>Seongnam neighbors gathering</td><td>5</td><td>-</td><td>-</td></tr><tr><td>2000020</td><td>Gyeonggi-do</td><td>-</td><td>FALSE</td><td>overseas inflow</td><td>305</td><td>-</td><td>-</td></tr><tr><td>2000021</td><td>Gyeonggi-do</td><td>-</td><td>FALSE</td><td>contact with patient</td><td>63</td><td>-</td><td>-</td></tr><tr><td>2000022</td><td>Gyeonggi-do</td><td>-</td><td>FALSE</td><td>etc</td><td>84</td><td>-</td><td>-</td></tr><tr><td>3000001</td><td>Gangwon-do</td><td>from other city</td><td>TRUE</td><td>Shincheonji Church</td><td>17</td><td>-</td><td>-</td></tr><tr><td>3000002</td><td>Gangwon-do</td><td>from other city</td><td>TRUE</td><td>Uijeongbu St. Mary’s Hospital</td><td>10</td><td>-</td><td>-</td></tr><tr><td>3000003</td><td>Gangwon-do</td><td>Wonju-si</td><td>TRUE</td><td>Wonju-si Apartments</td><td>4</td><td>37.342762</td><td>127.983815</td></tr><tr><td>3000004</td><td>Gangwon-do</td><td>from other city</td><td>TRUE</td><td>Richway</td><td>4</td><td>-</td><td>-</td></tr><tr><td>3000005</td><td>Gangwon-do</td><td>from other city</td><td>TRUE</td><td>Geumcheon-gu rice milling machine manufacture</td><td>4</td><td>-</td><td>-</td></tr><tr><td>3000006</td><td>Gangwon-do</td><td>-</td><td>FALSE</td><td>overseas inflow</td><td>16</td><td>-</td><td>-</td></tr><tr><td>3000007</td><td>Gangwon-do</td><td>-</td><td>FALSE</td><td>contact with patient</td><td>0</td><td>-</td><td>-</td></tr><tr><td>3000008</td><td>Gangwon-do</td><td>-</td><td>FALSE</td><td>etc</td><td>7</td><td>-</td><td>-</td></tr><tr><td>4000001</td><td>Chungcheongbuk-do</td><td>Goesan-gun</td><td>TRUE</td><td>Goesan-gun Jangyeon-myeon</td><td>11</td><td>36.82422</td><td>127.9552</td></tr><tr><td>4000002</td><td>Chungcheongbuk-do</td><td>from other city</td><td>TRUE</td><td>Itaewon Clubs</td><td>9</td><td>-</td><td>-</td></tr><tr><td>4000003</td><td>Chungcheongbuk-do</td><td>from other city</td><td>TRUE</td><td>Guro-gu Call Center</td><td>2</td><td>-</td><td>-</td></tr><tr><td>4000004</td><td>Chungcheongbuk-do</td><td>from other city</td><td>TRUE</td><td>Shincheonji Church</td><td>6</td><td>-</td><td>-</td></tr><tr><td>4000005</td><td>Chungcheongbuk-do</td><td>-</td><td>FALSE</td><td>overseas inflow</td><td>13</td><td>-</td><td>-</td></tr><tr><td>4000006</td><td>Chungcheongbuk-do</td><td>-</td><td>FALSE</td><td>contact with patient</td><td>8</td><td>-</td><td>-</td></tr><tr><td>4000007</td><td>Chungcheongbuk-do</td><td>-</td><td>FALSE</td><td>etc</td><td>11</td><td>-</td><td>-</td></tr><tr><td>4100001</td><td>Chungcheongnam-do</td><td>Cheonan-si</td><td>TRUE</td><td>gym facility in Cheonan</td><td>103</td><td>36.81503</td><td>127.1139</td></tr><tr><td>4100002</td><td>Chungcheongnam-do</td><td>from other city</td><td>TRUE</td><td>Door-to-door sales in Daejeon</td><td>10</td><td>-</td><td>-</td></tr><tr><td>4100003</td><td>Chungcheongnam-do</td><td>Seosan-si</td><td>TRUE</td><td>Seosan-si Laboratory</td><td>9</td><td>37.000354</td><td>126.354443</td></tr><tr><td>4100004</td><td>Chungcheongnam-do</td><td>from other city</td><td>TRUE</td><td>Richway</td><td>3</td><td>-</td><td>-</td></tr><tr><td>4100005</td><td>Chungcheongnam-do</td><td>from other city</td><td>TRUE</td><td>Eunpyeong-Boksagol culture center</td><td>3</td><td>-</td><td>-</td></tr><tr><td>4100006</td><td>Chungcheongnam-do</td><td>-</td><td>FALSE</td><td>overseas inflow</td><td>16</td><td>-</td><td>-</td></tr><tr><td>4100007</td><td>Chungcheongnam-do</td><td>-</td><td>FALSE</td><td>contact with patient</td><td>2</td><td>-</td><td>-</td></tr><tr><td>4100008</td><td>Chungcheongnam-do</td><td>-</td><td>FALSE</td><td>etc</td><td>12</td><td>-</td><td>-</td></tr><tr><td>5000001</td><td>Jeollabuk-do</td><td>from other city</td><td>TRUE</td><td>Itaewon Clubs</td><td>2</td><td>-</td><td>-</td></tr><tr><td>5000002</td><td>Jeollabuk-do</td><td>from other city</td><td>TRUE</td><td>Door-to-door sales in Daejeon</td><td>3</td><td>-</td><td>-</td></tr><tr><td>5000003</td><td>Jeollabuk-do</td><td>from other city</td><td>TRUE</td><td>Shincheonji Church</td><td>1</td><td>-</td><td>-</td></tr><tr><td>5000004</td><td>Jeollabuk-do</td><td>-</td><td>FALSE</td><td>overseas inflow</td><td>12</td><td>-</td><td>-</td></tr><tr><td>5000005</td><td>Jeollabuk-do</td><td>-</td><td>FALSE</td><td>etc</td><td>5</td><td>-</td><td>-</td></tr><tr><td>5100001</td><td>Jeollanam-do</td><td>Muan-gun</td><td>TRUE</td><td>Manmin Central Church</td><td>2</td><td>35.078825</td><td>126.316746</td></tr><tr><td>5100002</td><td>Jeollanam-do</td><td>from other city</td><td>TRUE</td><td>Shincheonji Church</td><td>1</td><td>-</td><td>-</td></tr><tr><td>5100003</td><td>Jeollanam-do</td><td>-</td><td>FALSE</td><td>overseas inflow</td><td>14</td><td>-</td><td>-</td></tr><tr><td>5100004</td><td>Jeollanam-do</td><td>-</td><td>FALSE</td><td>contact with patient</td><td>4</td><td>-</td><td>-</td></tr><tr><td>5100005</td><td>Jeollanam-do</td><td>-</td><td>FALSE</td><td>etc</td><td>4</td><td>-</td><td>-</td></tr><tr><td>6000001</td><td>Gyeongsangbuk-do</td><td>from other city</td><td>TRUE</td><td>Shincheonji Church</td><td>566</td><td>-</td><td>-</td></tr><tr><td>6000002</td><td>Gyeongsangbuk-do</td><td>Cheongdo-gun</td><td>TRUE</td><td>Cheongdo Daenam Hospital</td><td>119</td><td>35.64887</td><td>128.7368</td></tr><tr><td>6000003</td><td>Gyeongsangbuk-do</td><td>Bonghwa-gun</td><td>TRUE</td><td>Bonghwa Pureun Nursing Home</td><td>68</td><td>36.92757</td><td>128.9099</td></tr><tr><td>6000004</td><td>Gyeongsangbuk-do</td><td>Gyeongsan-si</td><td>TRUE</td><td>Gyeongsan Seorin Nursing Home</td><td>66</td><td>35.782149</td><td>128.801498</td></tr><tr><td>6000005</td><td>Gyeongsangbuk-do</td><td>from other city</td><td>TRUE</td><td>Pilgrimage to Israel</td><td>41</td><td>-</td><td>-</td></tr><tr><td>6000006</td><td>Gyeongsangbuk-do</td><td>Yechun-gun</td><td>TRUE</td><td>Yechun-gun</td><td>40</td><td>36.646845</td><td>128.437416</td></tr><tr><td>6000007</td><td>Gyeongsangbuk-do</td><td>Chilgok-gun</td><td>TRUE</td><td>Milal Shelter</td><td>36</td><td>36.0581</td><td>128.4941</td></tr><tr><td>6000008</td><td>Gyeongsangbuk-do</td><td>Gyeongsan-si</td><td>TRUE</td><td>Gyeongsan Jeil Silver Town</td><td>17</td><td>35.84819</td><td>128.7621</td></tr><tr><td>6000009</td><td>Gyeongsangbuk-do</td><td>Gyeongsan-si</td><td>TRUE</td><td>Gyeongsan Cham Joeun Community Center</td><td>16</td><td>35.82558</td><td>128.7373</td></tr><tr><td>6000010</td><td>Gyeongsangbuk-do</td><td>Gumi-si</td><td>TRUE</td><td>Gumi Elim Church</td><td>10</td><td>-</td><td>-</td></tr><tr><td>6000011</td><td>Gyeongsangbuk-do</td><td>-</td><td>FALSE</td><td>overseas inflow</td><td>22</td><td>-</td><td>-</td></tr><tr><td>6000012</td><td>Gyeongsangbuk-do</td><td>-</td><td>FALSE</td><td>contact with patient</td><td>190</td><td>-</td><td>-</td></tr><tr><td>6000013</td><td>Gyeongsangbuk-do</td><td>-</td><td>FALSE</td><td>etc</td><td>133</td><td>-</td><td>-</td></tr><tr><td>6100001</td><td>Gyeongsangnam-do</td><td>from other city</td><td>TRUE</td><td>Shincheonji Church</td><td>32</td><td>-</td><td>-</td></tr><tr><td>6100002</td><td>Gyeongsangnam-do</td><td>Geochang-gun</td><td>TRUE</td><td>Geochang Church</td><td>10</td><td>35.68556</td><td>127.9127</td></tr><tr><td>6100003</td><td>Gyeongsangnam-do</td><td>Jinju-si</td><td>TRUE</td><td>Wings Tower</td><td>9</td><td>35.164845</td><td>128.126969</td></tr><tr><td>6100004</td><td>Gyeongsangnam-do</td><td>Geochang-gun</td><td>TRUE</td><td>Geochang-gun Woongyang-myeon</td><td>8</td><td>35.805681</td><td>127.917805</td></tr><tr><td>6100005</td><td>Gyeongsangnam-do</td><td>Changwon-si</td><td>TRUE</td><td>Hanmaeum Changwon Hospital</td><td>7</td><td>35.22115</td><td>128.6866</td></tr><tr><td>6100006</td><td>Gyeongsangnam-do</td><td>Changnyeong-gun</td><td>TRUE</td><td>Changnyeong Coin Karaoke</td><td>7</td><td>35.54127</td><td>128.5008</td></tr><tr><td>6100007</td><td>Gyeongsangnam-do</td><td>Yangsan-si</td><td>TRUE</td><td>Soso Seowon</td><td>3</td><td>35.338811</td><td>129.017508</td></tr><tr><td>6100008</td><td>Gyeongsangnam-do</td><td>from other city</td><td>TRUE</td><td>Itaewon Clubs</td><td>2</td><td>-</td><td>-</td></tr><tr><td>6100009</td><td>Gyeongsangnam-do</td><td>from other city</td><td>TRUE</td><td>Onchun Church</td><td>2</td><td>-</td><td>-</td></tr><tr><td>6100010</td><td>Gyeongsangnam-do</td><td>-</td><td>FALSE</td><td>overseas inflow</td><td>26</td><td>-</td><td>-</td></tr><tr><td>6100011</td><td>Gyeongsangnam-do</td><td>-</td><td>FALSE</td><td>contact with patient</td><td>6</td><td>-</td><td>-</td></tr><tr><td>6100012</td><td>Gyeongsangnam-do</td><td>-</td><td>FALSE</td><td>etc</td><td>20</td><td>-</td><td>-</td></tr><tr><td>7000001</td><td>Jeju-do</td><td>-</td><td>FALSE</td><td>overseas inflow</td><td>14</td><td>-</td><td>-</td></tr><tr><td>7000002</td><td>Jeju-do</td><td>-</td><td>FALSE</td><td>contact with patient</td><td>0</td><td>-</td><td>-</td></tr><tr><td>7000003</td><td>Jeju-do</td><td>-</td><td>FALSE</td><td>etc</td><td>4</td><td>-</td><td>-</td></tr><tr><td>7000004</td><td>Jeju-do</td><td>from other city</td><td>TRUE</td><td>Itaewon Clubs</td><td>1</td><td>-</td><td>-</td></tr></tbody></table></div>"
      ]
     },
     "metadata": {
      "application/vnd.databricks.v1+output": {
       "addedWidgets": {},
       "aggData": [],
       "aggError": "",
       "aggOverflow": false,
       "aggSchema": [],
       "aggSeriesLimitReached": false,
       "aggType": "",
       "arguments": {},
       "columnCustomDisplayInfos": {},
       "data": [
        [
         "1000001",
         "Seoul",
         "Yongsan-gu",
         "TRUE",
         "Itaewon Clubs",
         "139",
         "37.538621",
         "126.992652"
        ],
        [
         "1000002",
         "Seoul",
         "Gwanak-gu",
         "TRUE",
         "Richway",
         "119",
         "37.48208",
         "126.901384"
        ],
        [
         "1000003",
         "Seoul",
         "Guro-gu",
         "TRUE",
         "Guro-gu Call Center",
         "95",
         "37.508163",
         "126.884387"
        ],
        [
         "1000004",
         "Seoul",
         "Yangcheon-gu",
         "TRUE",
         "Yangcheon Table Tennis Club",
         "43",
         "37.546061",
         "126.874209"
        ],
        [
         "1000005",
         "Seoul",
         "Dobong-gu",
         "TRUE",
         "Day Care Center",
         "43",
         "37.679422",
         "127.044374"
        ],
        [
         "1000006",
         "Seoul",
         "Guro-gu",
         "TRUE",
         "Manmin Central Church",
         "41",
         "37.481059",
         "126.894343"
        ],
        [
         "1000007",
         "Seoul",
         "from other city",
         "TRUE",
         "SMR Newly Planted Churches Group",
         "36",
         "-",
         "-"
        ],
        [
         "1000008",
         "Seoul",
         "Dongdaemun-gu",
         "TRUE",
         "Dongan Church",
         "17",
         "37.592888",
         "127.056766"
        ],
        [
         "1000009",
         "Seoul",
         "from other city",
         "TRUE",
         "Coupang Logistics Center",
         "25",
         "-",
         "-"
        ],
        [
         "1000010",
         "Seoul",
         "Gwanak-gu",
         "TRUE",
         "Wangsung Church",
         "30",
         "37.481735",
         "126.930121"
        ],
        [
         "1000011",
         "Seoul",
         "Eunpyeong-gu",
         "TRUE",
         "Eunpyeong St. Mary's Hospital",
         "14",
         "37.63369",
         "126.9165"
        ],
        [
         "1000012",
         "Seoul",
         "Seongdong-gu",
         "TRUE",
         "Seongdong-gu APT",
         "13",
         "37.55713",
         "127.0403"
        ],
        [
         "1000013",
         "Seoul",
         "Jongno-gu",
         "TRUE",
         "Jongno Community Center",
         "10",
         "37.57681",
         "127.006"
        ],
        [
         "1000014",
         "Seoul",
         "Gangnam-gu",
         "TRUE",
         "Samsung Medical Center",
         "7",
         "37.48825",
         "127.08559"
        ],
        [
         "1000015",
         "Seoul",
         "Jung-gu",
         "TRUE",
         "Jung-gu Fashion Company",
         "7",
         "37.562405",
         "126.984377"
        ],
        [
         "1000016",
         "Seoul",
         "Seodaemun-gu",
         "TRUE",
         "Yeonana News Class",
         "5",
         "37.558147",
         "126.943799"
        ],
        [
         "1000017",
         "Seoul",
         "Jongno-gu",
         "TRUE",
         "Korea Campus Crusade of Christ",
         "7",
         "37.594782",
         "126.968022"
        ],
        [
         "1000018",
         "Seoul",
         "Gangnam-gu",
         "TRUE",
         "Gangnam Yeoksam-dong gathering",
         "6",
         "-",
         "-"
        ],
        [
         "1000019",
         "Seoul",
         "from other city",
         "TRUE",
         "Daejeon door-to-door sales",
         "1",
         "-",
         "-"
        ],
        [
         "1000020",
         "Seoul",
         "Geumcheon-gu",
         "TRUE",
         "Geumcheon-gu rice milling machine manufacture",
         "6",
         "-",
         "-"
        ],
        [
         "1000021",
         "Seoul",
         "from other city",
         "TRUE",
         "Shincheonji Church",
         "8",
         "-",
         "-"
        ],
        [
         "1000022",
         "Seoul",
         "from other city",
         "TRUE",
         "Guri Collective Infection",
         "5",
         "-",
         "-"
        ],
        [
         "1000023",
         "Seoul",
         "Jung-gu",
         "TRUE",
         "KB Life Insurance",
         "13",
         "37.560899",
         "126.966998"
        ],
        [
         "1000024",
         "Seoul",
         "Yeongdeungpo-gu",
         "TRUE",
         "Yeongdeungpo Learning Institute",
         "3",
         "37.520846",
         "126.931278"
        ],
        [
         "1000025",
         "Seoul",
         "Gangnam-gu",
         "TRUE",
         "Gangnam Dongin Church",
         "1",
         "37.522331",
         "127.057388"
        ],
        [
         "1000026",
         "Seoul",
         "Yangcheon-gu",
         "TRUE",
         "Biblical Language study meeting",
         "3",
         "37.524623",
         "126.843118"
        ],
        [
         "1000027",
         "Seoul",
         "Seocho-gu",
         "TRUE",
         "Seocho Family",
         "5",
         "-",
         "-"
        ],
        [
         "1000028",
         "Seoul",
         "from other city",
         "TRUE",
         "Anyang Gunpo Pastors Group",
         "1",
         "-",
         "-"
        ],
        [
         "1000029",
         "Seoul",
         "Gangnam-gu",
         "TRUE",
         "Samsung Fire & Marine Insurance",
         "4",
         "37.498279",
         "127.030139"
        ],
        [
         "1000030",
         "Seoul",
         "Gangseo-gu",
         "TRUE",
         "SJ Investment Call Center",
         "0",
         "37.559649",
         "126.835102"
        ],
        [
         "1000031",
         "Seoul",
         "from other city",
         "TRUE",
         "Yongin Brothers",
         "4",
         "-",
         "-"
        ],
        [
         "1000032",
         "Seoul",
         "Jung-gu",
         "TRUE",
         "Seoul City Hall Station safety worker",
         "3",
         "37.565699",
         "126.977079"
        ],
        [
         "1000033",
         "Seoul",
         "from other city",
         "TRUE",
         "Uiwang Logistics Center",
         "2",
         "-",
         "-"
        ],
        [
         "1000034",
         "Seoul",
         "-",
         "TRUE",
         "Orange Life",
         "1",
         "-",
         "-"
        ],
        [
         "1000035",
         "Seoul",
         "Guro-gu",
         "TRUE",
         "Daezayeon Korea",
         "3",
         "37.486837",
         "126.893163"
        ],
        [
         "1000036",
         "Seoul",
         "-",
         "FALSE",
         "overseas inflow",
         "298",
         "-",
         "-"
        ],
        [
         "1000037",
         "Seoul",
         "-",
         "FALSE",
         "contact with patient",
         "162",
         "-",
         "-"
        ],
        [
         "1000038",
         "Seoul",
         "-",
         "FALSE",
         "etc",
         "100",
         "-",
         "-"
        ],
        [
         "1100001",
         "Busan",
         "Dongnae-gu",
         "TRUE",
         "Onchun Church",
         "39",
         "35.21628",
         "129.0771"
        ],
        [
         "1100002",
         "Busan",
         "from other city",
         "TRUE",
         "Shincheonji Church",
         "12",
         "-",
         "-"
        ],
        [
         "1100003",
         "Busan",
         "Suyeong-gu",
         "TRUE",
         "Suyeong-gu Kindergarten",
         "5",
         "35.16708",
         "129.1124"
        ],
        [
         "1100004",
         "Busan",
         "Haeundae-gu",
         "TRUE",
         "Haeundae-gu Catholic Church",
         "6",
         "35.20599",
         "129.1256"
        ],
        [
         "1100005",
         "Busan",
         "Jin-gu",
         "TRUE",
         "Jin-gu Academy",
         "4",
         "35.17371",
         "129.0633"
        ],
        [
         "1100006",
         "Busan",
         "from other city",
         "TRUE",
         "Itaewon Clubs",
         "4",
         "-",
         "-"
        ],
        [
         "1100007",
         "Busan",
         "from other city",
         "TRUE",
         "Cheongdo Daenam Hospital",
         "1",
         "-",
         "-"
        ],
        [
         "1100008",
         "Busan",
         "-",
         "FALSE",
         "overseas inflow",
         "36",
         "-",
         "-"
        ],
        [
         "1100009",
         "Busan",
         "-",
         "FALSE",
         "contact with patient",
         "19",
         "-",
         "-"
        ],
        [
         "1100010",
         "Busan",
         "-",
         "FALSE",
         "etc",
         "30",
         "-",
         "-"
        ],
        [
         "1200001",
         "Daegu",
         "Nam-gu",
         "TRUE",
         "Shincheonji Church",
         "4511",
         "35.84008",
         "128.5667"
        ],
        [
         "1200002",
         "Daegu",
         "Dalseong-gun",
         "TRUE",
         "Second Mi-Ju Hospital",
         "196",
         "35.857375",
         "128.466651"
        ],
        [
         "1200003",
         "Daegu",
         "Seo-gu",
         "TRUE",
         "Hansarang Convalescent Hospital",
         "124",
         "35.885592",
         "128.556649"
        ],
        [
         "1200004",
         "Daegu",
         "Dalseong-gun",
         "TRUE",
         "Daesil Convalescent Hospital",
         "101",
         "35.857393",
         "128.466653"
        ],
        [
         "1200005",
         "Daegu",
         "Dong-gu",
         "TRUE",
         "Fatima Hospital",
         "39",
         "35.88395",
         "128.624059"
        ],
        [
         "1200006",
         "Daegu",
         "from other city",
         "TRUE",
         "Itaewon Clubs",
         "2",
         "-",
         "-"
        ],
        [
         "1200007",
         "Daegu",
         "from other city",
         "TRUE",
         "Cheongdo Daenam Hospital",
         "2",
         "-",
         "-"
        ],
        [
         "1200008",
         "Daegu",
         "-",
         "FALSE",
         "overseas inflow",
         "41",
         "-",
         "-"
        ],
        [
         "1200009",
         "Daegu",
         "-",
         "FALSE",
         "contact with patient",
         "917",
         "-",
         "-"
        ],
        [
         "1200010",
         "Daegu",
         "-",
         "FALSE",
         "etc",
         "747",
         "-",
         "-"
        ],
        [
         "1300001",
         "Gwangju",
         "Dong-gu",
         "TRUE",
         "Gwangneuksa Temple",
         "5",
         "35.136035",
         "126.956405"
        ],
        [
         "1300002",
         "Gwangju",
         "from other city",
         "TRUE",
         "Shincheonji Church",
         "9",
         "-",
         "-"
        ],
        [
         "1300003",
         "Gwangju",
         "-",
         "FALSE",
         "overseas inflow",
         "23",
         "-",
         "-"
        ],
        [
         "1300004",
         "Gwangju",
         "-",
         "FALSE",
         "contact with patient",
         "5",
         "-",
         "-"
        ],
        [
         "1300005",
         "Gwangju",
         "-",
         "FALSE",
         "etc",
         "1",
         "-",
         "-"
        ],
        [
         "1400001",
         "Incheon",
         "from other city",
         "TRUE",
         "Itaewon Clubs",
         "53",
         "-",
         "-"
        ],
        [
         "1400002",
         "Incheon",
         "from other city",
         "TRUE",
         "Coupang Logistics Center",
         "42",
         "-",
         "-"
        ],
        [
         "1400003",
         "Incheon",
         "from other city",
         "TRUE",
         "Guro-gu Call Center",
         "20",
         "-",
         "-"
        ],
        [
         "1400004",
         "Incheon",
         "from other city",
         "TRUE",
         "Shincheonji Church",
         "2",
         "-",
         "-"
        ],
        [
         "1400005",
         "Incheon",
         "-",
         "FALSE",
         "overseas inflow",
         "68",
         "-",
         "-"
        ],
        [
         "1400006",
         "Incheon",
         "-",
         "FALSE",
         "contact with patient",
         "6",
         "-",
         "-"
        ],
        [
         "1400007",
         "Incheon",
         "-",
         "FALSE",
         "etc",
         "11",
         "-",
         "-"
        ],
        [
         "1500001",
         "Daejeon",
         "-",
         "TRUE",
         "Door-to-door sales in Daejeon",
         "55",
         "-",
         "-"
        ],
        [
         "1500002",
         "Daejeon",
         "Seo-gu",
         "TRUE",
         "Dunsan Electronics Town",
         "13",
         "36.3400973",
         "127.3927099"
        ],
        [
         "1500003",
         "Daejeon",
         "Seo-gu",
         "TRUE",
         "Orange Town",
         "7",
         "36.3398739",
         "127.3819744"
        ],
        [
         "1500004",
         "Daejeon",
         "Seo-gu",
         "TRUE",
         "Dreaming Church",
         "4",
         "36.346869",
         "127.368594"
        ],
        [
         "1500005",
         "Daejeon",
         "Seo-gu",
         "TRUE",
         "Korea Forest Engineer Institute",
         "3",
         "36.358123",
         "127.388856"
        ],
        [
         "1500006",
         "Daejeon",
         "from other city",
         "TRUE",
         "Shincheonji Church",
         "2",
         "-",
         "-"
        ],
        [
         "1500007",
         "Daejeon",
         "from other city",
         "TRUE",
         "Seosan-si Laboratory",
         "2",
         "-",
         "-"
        ],
        [
         "1500008",
         "Daejeon",
         "-",
         "FALSE",
         "overseas inflow",
         "15",
         "-",
         "-"
        ],
        [
         "1500009",
         "Daejeon",
         "-",
         "FALSE",
         "contact with patient",
         "15",
         "-",
         "-"
        ],
        [
         "1500010",
         "Daejeon",
         "-",
         "FALSE",
         "etc",
         "15",
         "-",
         "-"
        ],
        [
         "1600001",
         "Ulsan",
         "from other city",
         "TRUE",
         "Shincheonji Church",
         "16",
         "-",
         "-"
        ],
        [
         "1600002",
         "Ulsan",
         "-",
         "FALSE",
         "overseas inflow",
         "25",
         "-",
         "-"
        ],
        [
         "1600003",
         "Ulsan",
         "-",
         "FALSE",
         "contact with patient",
         "3",
         "-",
         "-"
        ],
        [
         "1600004",
         "Ulsan",
         "-",
         "FALSE",
         "etc",
         "7",
         "-",
         "-"
        ],
        [
         "1700001",
         "Sejong",
         "Sejong",
         "TRUE",
         "Ministry of Oceans and Fisheries",
         "31",
         "36.504713",
         "127.265172"
        ],
        [
         "1700002",
         "Sejong",
         "Sejong",
         "TRUE",
         "gym facility in Sejong",
         "8",
         "36.48025",
         "127.289"
        ],
        [
         "1700003",
         "Sejong",
         "from other city",
         "TRUE",
         "Shincheonji Church",
         "1",
         "-",
         "-"
        ],
        [
         "1700004",
         "Sejong",
         "-",
         "FALSE",
         "overseas inflow",
         "5",
         "-",
         "-"
        ],
        [
         "1700005",
         "Sejong",
         "-",
         "FALSE",
         "contact with patient",
         "3",
         "-",
         "-"
        ],
        [
         "1700006",
         "Sejong",
         "-",
         "FALSE",
         "etc",
         "1",
         "-",
         "-"
        ],
        [
         "2000001",
         "Gyeonggi-do",
         "Seongnam-si",
         "TRUE",
         "River of Grace Community Church",
         "67",
         "37.455687",
         "127.161627"
        ],
        [
         "2000002",
         "Gyeonggi-do",
         "Bucheon-si",
         "TRUE",
         "Coupang Logistics Center",
         "67",
         "37.530579",
         "126.775254"
        ],
        [
         "2000003",
         "Gyeonggi-do",
         "from other city",
         "TRUE",
         "Itaewon Clubs",
         "59",
         "-",
         "-"
        ],
        [
         "2000004",
         "Gyeonggi-do",
         "from other city",
         "TRUE",
         "Richway",
         "58",
         "-",
         "-"
        ],
        [
         "2000005",
         "Gyeonggi-do",
         "Uijeongbu-si",
         "TRUE",
         "Uijeongbu St. Mary’s Hospital",
         "50",
         "37.758635",
         "127.077716"
        ],
        [
         "2000006",
         "Gyeonggi-do",
         "from other city",
         "TRUE",
         "Guro-gu Call Center",
         "50",
         "-",
         "-"
        ],
        [
         "2000007",
         "Gyeonggi-do",
         "from other city",
         "TRUE",
         "Shincheonji Church",
         "29",
         "-",
         "-"
        ],
        [
         "2000008",
         "Gyeonggi-do",
         "from other city",
         "TRUE",
         "Yangcheon Table Tennis Club",
         "28",
         "-",
         "-"
        ],
        [
         "2000009",
         "Gyeonggi-do",
         "-",
         "TRUE",
         "SMR Newly Planted Churches Group",
         "25",
         "-",
         "-"
        ],
        [
         "2000010",
         "Gyeonggi-do",
         "Seongnam-si",
         "TRUE",
         "Bundang Jesaeng Hospital",
         "22",
         "37.38833",
         "127.1218"
        ],
        [
         "2000011",
         "Gyeonggi-do",
         "Anyang-si",
         "TRUE",
         "Anyang Gunpo Pastors Group",
         "22",
         "37.381784",
         "126.93615"
        ],
        [
         "2000012",
         "Gyeonggi-do",
         "Suwon-si",
         "TRUE",
         "Lotte Confectionery logistics center",
         "15",
         "37.287356",
         "127.013827"
        ],
        [
         "2000013",
         "Gyeonggi-do",
         "Anyang-si",
         "TRUE",
         "Lord Glory Church",
         "17",
         "37.403722",
         "126.954939"
        ],
        [
         "2000014",
         "Gyeonggi-do",
         "Suwon-si",
         "TRUE",
         "Suwon Saeng Myeong Saem Church",
         "10",
         "37.2376",
         "127.0517"
        ],
        [
         "2000015",
         "Gyeonggi-do",
         "from other city",
         "TRUE",
         "Korea Campus Crusade of Christ",
         "7",
         "-",
         "-"
        ],
        [
         "2000016",
         "Gyeonggi-do",
         "from other city",
         "TRUE",
         "Geumcheon-gu rice milling machine manufacture",
         "6",
         "-",
         "-"
        ],
        [
         "2000017",
         "Gyeonggi-do",
         "from other city",
         "TRUE",
         "Wangsung Church",
         "6",
         "-",
         "-"
        ],
        [
         "2000018",
         "Gyeonggi-do",
         "from other city",
         "TRUE",
         "Seoul City Hall Station safety worker",
         "5",
         "-",
         "-"
        ],
        [
         "2000019",
         "Gyeonggi-do",
         "Seongnam-si",
         "TRUE",
         "Seongnam neighbors gathering",
         "5",
         "-",
         "-"
        ],
        [
         "2000020",
         "Gyeonggi-do",
         "-",
         "FALSE",
         "overseas inflow",
         "305",
         "-",
         "-"
        ],
        [
         "2000021",
         "Gyeonggi-do",
         "-",
         "FALSE",
         "contact with patient",
         "63",
         "-",
         "-"
        ],
        [
         "2000022",
         "Gyeonggi-do",
         "-",
         "FALSE",
         "etc",
         "84",
         "-",
         "-"
        ],
        [
         "3000001",
         "Gangwon-do",
         "from other city",
         "TRUE",
         "Shincheonji Church",
         "17",
         "-",
         "-"
        ],
        [
         "3000002",
         "Gangwon-do",
         "from other city",
         "TRUE",
         "Uijeongbu St. Mary’s Hospital",
         "10",
         "-",
         "-"
        ],
        [
         "3000003",
         "Gangwon-do",
         "Wonju-si",
         "TRUE",
         "Wonju-si Apartments",
         "4",
         "37.342762",
         "127.983815"
        ],
        [
         "3000004",
         "Gangwon-do",
         "from other city",
         "TRUE",
         "Richway",
         "4",
         "-",
         "-"
        ],
        [
         "3000005",
         "Gangwon-do",
         "from other city",
         "TRUE",
         "Geumcheon-gu rice milling machine manufacture",
         "4",
         "-",
         "-"
        ],
        [
         "3000006",
         "Gangwon-do",
         "-",
         "FALSE",
         "overseas inflow",
         "16",
         "-",
         "-"
        ],
        [
         "3000007",
         "Gangwon-do",
         "-",
         "FALSE",
         "contact with patient",
         "0",
         "-",
         "-"
        ],
        [
         "3000008",
         "Gangwon-do",
         "-",
         "FALSE",
         "etc",
         "7",
         "-",
         "-"
        ],
        [
         "4000001",
         "Chungcheongbuk-do",
         "Goesan-gun",
         "TRUE",
         "Goesan-gun Jangyeon-myeon",
         "11",
         "36.82422",
         "127.9552"
        ],
        [
         "4000002",
         "Chungcheongbuk-do",
         "from other city",
         "TRUE",
         "Itaewon Clubs",
         "9",
         "-",
         "-"
        ],
        [
         "4000003",
         "Chungcheongbuk-do",
         "from other city",
         "TRUE",
         "Guro-gu Call Center",
         "2",
         "-",
         "-"
        ],
        [
         "4000004",
         "Chungcheongbuk-do",
         "from other city",
         "TRUE",
         "Shincheonji Church",
         "6",
         "-",
         "-"
        ],
        [
         "4000005",
         "Chungcheongbuk-do",
         "-",
         "FALSE",
         "overseas inflow",
         "13",
         "-",
         "-"
        ],
        [
         "4000006",
         "Chungcheongbuk-do",
         "-",
         "FALSE",
         "contact with patient",
         "8",
         "-",
         "-"
        ],
        [
         "4000007",
         "Chungcheongbuk-do",
         "-",
         "FALSE",
         "etc",
         "11",
         "-",
         "-"
        ],
        [
         "4100001",
         "Chungcheongnam-do",
         "Cheonan-si",
         "TRUE",
         "gym facility in Cheonan",
         "103",
         "36.81503",
         "127.1139"
        ],
        [
         "4100002",
         "Chungcheongnam-do",
         "from other city",
         "TRUE",
         "Door-to-door sales in Daejeon",
         "10",
         "-",
         "-"
        ],
        [
         "4100003",
         "Chungcheongnam-do",
         "Seosan-si",
         "TRUE",
         "Seosan-si Laboratory",
         "9",
         "37.000354",
         "126.354443"
        ],
        [
         "4100004",
         "Chungcheongnam-do",
         "from other city",
         "TRUE",
         "Richway",
         "3",
         "-",
         "-"
        ],
        [
         "4100005",
         "Chungcheongnam-do",
         "from other city",
         "TRUE",
         "Eunpyeong-Boksagol culture center",
         "3",
         "-",
         "-"
        ],
        [
         "4100006",
         "Chungcheongnam-do",
         "-",
         "FALSE",
         "overseas inflow",
         "16",
         "-",
         "-"
        ],
        [
         "4100007",
         "Chungcheongnam-do",
         "-",
         "FALSE",
         "contact with patient",
         "2",
         "-",
         "-"
        ],
        [
         "4100008",
         "Chungcheongnam-do",
         "-",
         "FALSE",
         "etc",
         "12",
         "-",
         "-"
        ],
        [
         "5000001",
         "Jeollabuk-do",
         "from other city",
         "TRUE",
         "Itaewon Clubs",
         "2",
         "-",
         "-"
        ],
        [
         "5000002",
         "Jeollabuk-do",
         "from other city",
         "TRUE",
         "Door-to-door sales in Daejeon",
         "3",
         "-",
         "-"
        ],
        [
         "5000003",
         "Jeollabuk-do",
         "from other city",
         "TRUE",
         "Shincheonji Church",
         "1",
         "-",
         "-"
        ],
        [
         "5000004",
         "Jeollabuk-do",
         "-",
         "FALSE",
         "overseas inflow",
         "12",
         "-",
         "-"
        ],
        [
         "5000005",
         "Jeollabuk-do",
         "-",
         "FALSE",
         "etc",
         "5",
         "-",
         "-"
        ],
        [
         "5100001",
         "Jeollanam-do",
         "Muan-gun",
         "TRUE",
         "Manmin Central Church",
         "2",
         "35.078825",
         "126.316746"
        ],
        [
         "5100002",
         "Jeollanam-do",
         "from other city",
         "TRUE",
         "Shincheonji Church",
         "1",
         "-",
         "-"
        ],
        [
         "5100003",
         "Jeollanam-do",
         "-",
         "FALSE",
         "overseas inflow",
         "14",
         "-",
         "-"
        ],
        [
         "5100004",
         "Jeollanam-do",
         "-",
         "FALSE",
         "contact with patient",
         "4",
         "-",
         "-"
        ],
        [
         "5100005",
         "Jeollanam-do",
         "-",
         "FALSE",
         "etc",
         "4",
         "-",
         "-"
        ],
        [
         "6000001",
         "Gyeongsangbuk-do",
         "from other city",
         "TRUE",
         "Shincheonji Church",
         "566",
         "-",
         "-"
        ],
        [
         "6000002",
         "Gyeongsangbuk-do",
         "Cheongdo-gun",
         "TRUE",
         "Cheongdo Daenam Hospital",
         "119",
         "35.64887",
         "128.7368"
        ],
        [
         "6000003",
         "Gyeongsangbuk-do",
         "Bonghwa-gun",
         "TRUE",
         "Bonghwa Pureun Nursing Home",
         "68",
         "36.92757",
         "128.9099"
        ],
        [
         "6000004",
         "Gyeongsangbuk-do",
         "Gyeongsan-si",
         "TRUE",
         "Gyeongsan Seorin Nursing Home",
         "66",
         "35.782149",
         "128.801498"
        ],
        [
         "6000005",
         "Gyeongsangbuk-do",
         "from other city",
         "TRUE",
         "Pilgrimage to Israel",
         "41",
         "-",
         "-"
        ],
        [
         "6000006",
         "Gyeongsangbuk-do",
         "Yechun-gun",
         "TRUE",
         "Yechun-gun",
         "40",
         "36.646845",
         "128.437416"
        ],
        [
         "6000007",
         "Gyeongsangbuk-do",
         "Chilgok-gun",
         "TRUE",
         "Milal Shelter",
         "36",
         "36.0581",
         "128.4941"
        ],
        [
         "6000008",
         "Gyeongsangbuk-do",
         "Gyeongsan-si",
         "TRUE",
         "Gyeongsan Jeil Silver Town",
         "17",
         "35.84819",
         "128.7621"
        ],
        [
         "6000009",
         "Gyeongsangbuk-do",
         "Gyeongsan-si",
         "TRUE",
         "Gyeongsan Cham Joeun Community Center",
         "16",
         "35.82558",
         "128.7373"
        ],
        [
         "6000010",
         "Gyeongsangbuk-do",
         "Gumi-si",
         "TRUE",
         "Gumi Elim Church",
         "10",
         "-",
         "-"
        ],
        [
         "6000011",
         "Gyeongsangbuk-do",
         "-",
         "FALSE",
         "overseas inflow",
         "22",
         "-",
         "-"
        ],
        [
         "6000012",
         "Gyeongsangbuk-do",
         "-",
         "FALSE",
         "contact with patient",
         "190",
         "-",
         "-"
        ],
        [
         "6000013",
         "Gyeongsangbuk-do",
         "-",
         "FALSE",
         "etc",
         "133",
         "-",
         "-"
        ],
        [
         "6100001",
         "Gyeongsangnam-do",
         "from other city",
         "TRUE",
         "Shincheonji Church",
         "32",
         "-",
         "-"
        ],
        [
         "6100002",
         "Gyeongsangnam-do",
         "Geochang-gun",
         "TRUE",
         "Geochang Church",
         "10",
         "35.68556",
         "127.9127"
        ],
        [
         "6100003",
         "Gyeongsangnam-do",
         "Jinju-si",
         "TRUE",
         "Wings Tower",
         "9",
         "35.164845",
         "128.126969"
        ],
        [
         "6100004",
         "Gyeongsangnam-do",
         "Geochang-gun",
         "TRUE",
         "Geochang-gun Woongyang-myeon",
         "8",
         "35.805681",
         "127.917805"
        ],
        [
         "6100005",
         "Gyeongsangnam-do",
         "Changwon-si",
         "TRUE",
         "Hanmaeum Changwon Hospital",
         "7",
         "35.22115",
         "128.6866"
        ],
        [
         "6100006",
         "Gyeongsangnam-do",
         "Changnyeong-gun",
         "TRUE",
         "Changnyeong Coin Karaoke",
         "7",
         "35.54127",
         "128.5008"
        ],
        [
         "6100007",
         "Gyeongsangnam-do",
         "Yangsan-si",
         "TRUE",
         "Soso Seowon",
         "3",
         "35.338811",
         "129.017508"
        ],
        [
         "6100008",
         "Gyeongsangnam-do",
         "from other city",
         "TRUE",
         "Itaewon Clubs",
         "2",
         "-",
         "-"
        ],
        [
         "6100009",
         "Gyeongsangnam-do",
         "from other city",
         "TRUE",
         "Onchun Church",
         "2",
         "-",
         "-"
        ],
        [
         "6100010",
         "Gyeongsangnam-do",
         "-",
         "FALSE",
         "overseas inflow",
         "26",
         "-",
         "-"
        ],
        [
         "6100011",
         "Gyeongsangnam-do",
         "-",
         "FALSE",
         "contact with patient",
         "6",
         "-",
         "-"
        ],
        [
         "6100012",
         "Gyeongsangnam-do",
         "-",
         "FALSE",
         "etc",
         "20",
         "-",
         "-"
        ],
        [
         "7000001",
         "Jeju-do",
         "-",
         "FALSE",
         "overseas inflow",
         "14",
         "-",
         "-"
        ],
        [
         "7000002",
         "Jeju-do",
         "-",
         "FALSE",
         "contact with patient",
         "0",
         "-",
         "-"
        ],
        [
         "7000003",
         "Jeju-do",
         "-",
         "FALSE",
         "etc",
         "4",
         "-",
         "-"
        ],
        [
         "7000004",
         "Jeju-do",
         "from other city",
         "TRUE",
         "Itaewon Clubs",
         "1",
         "-",
         "-"
        ]
       ],
       "datasetInfos": [],
       "dbfsResultPath": null,
       "isJsonSchema": true,
       "metadata": {},
       "overflow": false,
       "plotOptions": {
        "customPlotOptions": {},
        "displayType": "table",
        "pivotAggregation": null,
        "pivotColumns": null,
        "xColumns": null,
        "yColumns": null
       },
       "removedWidgets": [],
       "schema": [
        {
         "metadata": "{}",
         "name": " case_id",
         "type": "\"string\""
        },
        {
         "metadata": "{}",
         "name": "province",
         "type": "\"string\""
        },
        {
         "metadata": "{}",
         "name": "city",
         "type": "\"string\""
        },
        {
         "metadata": "{}",
         "name": "group",
         "type": "\"string\""
        },
        {
         "metadata": "{}",
         "name": "infection_case",
         "type": "\"string\""
        },
        {
         "metadata": "{}",
         "name": "confirmed",
         "type": "\"string\""
        },
        {
         "metadata": "{}",
         "name": "latitude",
         "type": "\"string\""
        },
        {
         "metadata": "{}",
         "name": "longitude",
         "type": "\"string\""
        }
       ],
       "type": "table"
      }
     },
     "output_type": "display_data"
    }
   ],
   "source": [
    "path = \"/databricks-datasets/COVID/coronavirusdataset/Case.csv\"\n",
    "df = spark.read.option(\"header\",True).csv(path)\n",
    "display(df)"
   ]
  },
  {
   "cell_type": "code",
   "execution_count": 0,
   "metadata": {
    "application/vnd.databricks.v1+cell": {
     "cellMetadata": {
      "byteLimit": 2048000,
      "rowLimit": 10000
     },
     "inputWidgets": {},
     "nuid": "4cd7f9f0-60ba-43b4-9d62-55f3af1fe56d",
     "showTitle": false,
     "tableResultSettingsMap": {},
     "title": ""
    }
   },
   "outputs": [
    {
     "output_type": "display_data",
     "data": {
      "text/html": [
       "<style scoped>\n",
       "  .table-result-container {\n",
       "    max-height: 300px;\n",
       "    overflow: auto;\n",
       "  }\n",
       "  table, th, td {\n",
       "    border: 1px solid black;\n",
       "    border-collapse: collapse;\n",
       "  }\n",
       "  th, td {\n",
       "    padding: 5px;\n",
       "  }\n",
       "  th {\n",
       "    text-align: left;\n",
       "  }\n",
       "</style><div class='table-result-container'><table class='table-result'><thead style='background-color: white'><tr><th>province</th><th>city</th><th>infection_case</th><th>confirmed</th></tr></thead><tbody><tr><td>Seoul</td><td>Yongsan-gu</td><td>Itaewon Clubs</td><td>139</td></tr><tr><td>Seoul</td><td>Gwanak-gu</td><td>Richway</td><td>119</td></tr><tr><td>Seoul</td><td>Guro-gu</td><td>Guro-gu Call Center</td><td>95</td></tr><tr><td>Seoul</td><td>Yangcheon-gu</td><td>Yangcheon Table Tennis Club</td><td>43</td></tr><tr><td>Seoul</td><td>Dobong-gu</td><td>Day Care Center</td><td>43</td></tr><tr><td>Seoul</td><td>Guro-gu</td><td>Manmin Central Church</td><td>41</td></tr><tr><td>Seoul</td><td>from other city</td><td>SMR Newly Planted Churches Group</td><td>36</td></tr><tr><td>Seoul</td><td>Dongdaemun-gu</td><td>Dongan Church</td><td>17</td></tr><tr><td>Seoul</td><td>from other city</td><td>Coupang Logistics Center</td><td>25</td></tr><tr><td>Seoul</td><td>Gwanak-gu</td><td>Wangsung Church</td><td>30</td></tr><tr><td>Seoul</td><td>Eunpyeong-gu</td><td>Eunpyeong St. Mary's Hospital</td><td>14</td></tr><tr><td>Seoul</td><td>Seongdong-gu</td><td>Seongdong-gu APT</td><td>13</td></tr><tr><td>Seoul</td><td>Jongno-gu</td><td>Jongno Community Center</td><td>10</td></tr><tr><td>Seoul</td><td>Gangnam-gu</td><td>Samsung Medical Center</td><td>7</td></tr><tr><td>Seoul</td><td>Jung-gu</td><td>Jung-gu Fashion Company</td><td>7</td></tr><tr><td>Seoul</td><td>Seodaemun-gu</td><td>Yeonana News Class</td><td>5</td></tr><tr><td>Seoul</td><td>Jongno-gu</td><td>Korea Campus Crusade of Christ</td><td>7</td></tr><tr><td>Seoul</td><td>Gangnam-gu</td><td>Gangnam Yeoksam-dong gathering</td><td>6</td></tr><tr><td>Seoul</td><td>from other city</td><td>Daejeon door-to-door sales</td><td>1</td></tr><tr><td>Seoul</td><td>Geumcheon-gu</td><td>Geumcheon-gu rice milling machine manufacture</td><td>6</td></tr><tr><td>Seoul</td><td>from other city</td><td>Shincheonji Church</td><td>8</td></tr><tr><td>Seoul</td><td>from other city</td><td>Guri Collective Infection</td><td>5</td></tr><tr><td>Seoul</td><td>Jung-gu</td><td>KB Life Insurance</td><td>13</td></tr><tr><td>Seoul</td><td>Yeongdeungpo-gu</td><td>Yeongdeungpo Learning Institute</td><td>3</td></tr><tr><td>Seoul</td><td>Gangnam-gu</td><td>Gangnam Dongin Church</td><td>1</td></tr><tr><td>Seoul</td><td>Yangcheon-gu</td><td>Biblical Language study meeting</td><td>3</td></tr><tr><td>Seoul</td><td>Seocho-gu</td><td>Seocho Family</td><td>5</td></tr><tr><td>Seoul</td><td>from other city</td><td>Anyang Gunpo Pastors Group</td><td>1</td></tr><tr><td>Seoul</td><td>Gangnam-gu</td><td>Samsung Fire & Marine Insurance</td><td>4</td></tr><tr><td>Seoul</td><td>Gangseo-gu</td><td>SJ Investment Call Center</td><td>0</td></tr><tr><td>Seoul</td><td>from other city</td><td>Yongin Brothers</td><td>4</td></tr><tr><td>Seoul</td><td>Jung-gu</td><td>Seoul City Hall Station safety worker</td><td>3</td></tr><tr><td>Seoul</td><td>from other city</td><td>Uiwang Logistics Center</td><td>2</td></tr><tr><td>Seoul</td><td>-</td><td>Orange Life</td><td>1</td></tr><tr><td>Seoul</td><td>Guro-gu</td><td>Daezayeon Korea</td><td>3</td></tr><tr><td>Seoul</td><td>-</td><td>overseas inflow</td><td>298</td></tr><tr><td>Seoul</td><td>-</td><td>contact with patient</td><td>162</td></tr><tr><td>Seoul</td><td>-</td><td>etc</td><td>100</td></tr><tr><td>Busan</td><td>Dongnae-gu</td><td>Onchun Church</td><td>39</td></tr><tr><td>Busan</td><td>from other city</td><td>Shincheonji Church</td><td>12</td></tr><tr><td>Busan</td><td>Suyeong-gu</td><td>Suyeong-gu Kindergarten</td><td>5</td></tr><tr><td>Busan</td><td>Haeundae-gu</td><td>Haeundae-gu Catholic Church</td><td>6</td></tr><tr><td>Busan</td><td>Jin-gu</td><td>Jin-gu Academy</td><td>4</td></tr><tr><td>Busan</td><td>from other city</td><td>Itaewon Clubs</td><td>4</td></tr><tr><td>Busan</td><td>from other city</td><td>Cheongdo Daenam Hospital</td><td>1</td></tr><tr><td>Busan</td><td>-</td><td>overseas inflow</td><td>36</td></tr><tr><td>Busan</td><td>-</td><td>contact with patient</td><td>19</td></tr><tr><td>Busan</td><td>-</td><td>etc</td><td>30</td></tr><tr><td>Daegu</td><td>Nam-gu</td><td>Shincheonji Church</td><td>4511</td></tr><tr><td>Daegu</td><td>Dalseong-gun</td><td>Second Mi-Ju Hospital</td><td>196</td></tr><tr><td>Daegu</td><td>Seo-gu</td><td>Hansarang Convalescent Hospital</td><td>124</td></tr><tr><td>Daegu</td><td>Dalseong-gun</td><td>Daesil Convalescent Hospital</td><td>101</td></tr><tr><td>Daegu</td><td>Dong-gu</td><td>Fatima Hospital</td><td>39</td></tr><tr><td>Daegu</td><td>from other city</td><td>Itaewon Clubs</td><td>2</td></tr><tr><td>Daegu</td><td>from other city</td><td>Cheongdo Daenam Hospital</td><td>2</td></tr><tr><td>Daegu</td><td>-</td><td>overseas inflow</td><td>41</td></tr><tr><td>Daegu</td><td>-</td><td>contact with patient</td><td>917</td></tr><tr><td>Daegu</td><td>-</td><td>etc</td><td>747</td></tr><tr><td>Gwangju</td><td>Dong-gu</td><td>Gwangneuksa Temple</td><td>5</td></tr><tr><td>Gwangju</td><td>from other city</td><td>Shincheonji Church</td><td>9</td></tr><tr><td>Gwangju</td><td>-</td><td>overseas inflow</td><td>23</td></tr><tr><td>Gwangju</td><td>-</td><td>contact with patient</td><td>5</td></tr><tr><td>Gwangju</td><td>-</td><td>etc</td><td>1</td></tr><tr><td>Incheon</td><td>from other city</td><td>Itaewon Clubs</td><td>53</td></tr><tr><td>Incheon</td><td>from other city</td><td>Coupang Logistics Center</td><td>42</td></tr><tr><td>Incheon</td><td>from other city</td><td>Guro-gu Call Center</td><td>20</td></tr><tr><td>Incheon</td><td>from other city</td><td>Shincheonji Church</td><td>2</td></tr><tr><td>Incheon</td><td>-</td><td>overseas inflow</td><td>68</td></tr><tr><td>Incheon</td><td>-</td><td>contact with patient</td><td>6</td></tr><tr><td>Incheon</td><td>-</td><td>etc</td><td>11</td></tr><tr><td>Daejeon</td><td>-</td><td>Door-to-door sales in Daejeon</td><td>55</td></tr><tr><td>Daejeon</td><td>Seo-gu</td><td>Dunsan Electronics Town</td><td>13</td></tr><tr><td>Daejeon</td><td>Seo-gu</td><td>Orange Town</td><td>7</td></tr><tr><td>Daejeon</td><td>Seo-gu</td><td>Dreaming Church</td><td>4</td></tr><tr><td>Daejeon</td><td>Seo-gu</td><td>Korea Forest Engineer Institute</td><td>3</td></tr><tr><td>Daejeon</td><td>from other city</td><td>Shincheonji Church</td><td>2</td></tr><tr><td>Daejeon</td><td>from other city</td><td>Seosan-si Laboratory</td><td>2</td></tr><tr><td>Daejeon</td><td>-</td><td>overseas inflow</td><td>15</td></tr><tr><td>Daejeon</td><td>-</td><td>contact with patient</td><td>15</td></tr><tr><td>Daejeon</td><td>-</td><td>etc</td><td>15</td></tr><tr><td>Ulsan</td><td>from other city</td><td>Shincheonji Church</td><td>16</td></tr><tr><td>Ulsan</td><td>-</td><td>overseas inflow</td><td>25</td></tr><tr><td>Ulsan</td><td>-</td><td>contact with patient</td><td>3</td></tr><tr><td>Ulsan</td><td>-</td><td>etc</td><td>7</td></tr><tr><td>Sejong</td><td>Sejong</td><td>Ministry of Oceans and Fisheries</td><td>31</td></tr><tr><td>Sejong</td><td>Sejong</td><td>gym facility in Sejong</td><td>8</td></tr><tr><td>Sejong</td><td>from other city</td><td>Shincheonji Church</td><td>1</td></tr><tr><td>Sejong</td><td>-</td><td>overseas inflow</td><td>5</td></tr><tr><td>Sejong</td><td>-</td><td>contact with patient</td><td>3</td></tr><tr><td>Sejong</td><td>-</td><td>etc</td><td>1</td></tr><tr><td>Gyeonggi-do</td><td>Seongnam-si</td><td>River of Grace Community Church</td><td>67</td></tr><tr><td>Gyeonggi-do</td><td>Bucheon-si</td><td>Coupang Logistics Center</td><td>67</td></tr><tr><td>Gyeonggi-do</td><td>from other city</td><td>Itaewon Clubs</td><td>59</td></tr><tr><td>Gyeonggi-do</td><td>from other city</td><td>Richway</td><td>58</td></tr><tr><td>Gyeonggi-do</td><td>Uijeongbu-si</td><td>Uijeongbu St. Mary’s Hospital</td><td>50</td></tr><tr><td>Gyeonggi-do</td><td>from other city</td><td>Guro-gu Call Center</td><td>50</td></tr><tr><td>Gyeonggi-do</td><td>from other city</td><td>Shincheonji Church</td><td>29</td></tr><tr><td>Gyeonggi-do</td><td>from other city</td><td>Yangcheon Table Tennis Club</td><td>28</td></tr><tr><td>Gyeonggi-do</td><td>-</td><td>SMR Newly Planted Churches Group</td><td>25</td></tr><tr><td>Gyeonggi-do</td><td>Seongnam-si</td><td>Bundang Jesaeng Hospital</td><td>22</td></tr><tr><td>Gyeonggi-do</td><td>Anyang-si</td><td>Anyang Gunpo Pastors Group</td><td>22</td></tr><tr><td>Gyeonggi-do</td><td>Suwon-si</td><td>Lotte Confectionery logistics center</td><td>15</td></tr><tr><td>Gyeonggi-do</td><td>Anyang-si</td><td>Lord Glory Church</td><td>17</td></tr><tr><td>Gyeonggi-do</td><td>Suwon-si</td><td>Suwon Saeng Myeong Saem Church</td><td>10</td></tr><tr><td>Gyeonggi-do</td><td>from other city</td><td>Korea Campus Crusade of Christ</td><td>7</td></tr><tr><td>Gyeonggi-do</td><td>from other city</td><td>Geumcheon-gu rice milling machine manufacture</td><td>6</td></tr><tr><td>Gyeonggi-do</td><td>from other city</td><td>Wangsung Church</td><td>6</td></tr><tr><td>Gyeonggi-do</td><td>from other city</td><td>Seoul City Hall Station safety worker</td><td>5</td></tr><tr><td>Gyeonggi-do</td><td>Seongnam-si</td><td>Seongnam neighbors gathering</td><td>5</td></tr><tr><td>Gyeonggi-do</td><td>-</td><td>overseas inflow</td><td>305</td></tr><tr><td>Gyeonggi-do</td><td>-</td><td>contact with patient</td><td>63</td></tr><tr><td>Gyeonggi-do</td><td>-</td><td>etc</td><td>84</td></tr><tr><td>Gangwon-do</td><td>from other city</td><td>Shincheonji Church</td><td>17</td></tr><tr><td>Gangwon-do</td><td>from other city</td><td>Uijeongbu St. Mary’s Hospital</td><td>10</td></tr><tr><td>Gangwon-do</td><td>Wonju-si</td><td>Wonju-si Apartments</td><td>4</td></tr><tr><td>Gangwon-do</td><td>from other city</td><td>Richway</td><td>4</td></tr><tr><td>Gangwon-do</td><td>from other city</td><td>Geumcheon-gu rice milling machine manufacture</td><td>4</td></tr><tr><td>Gangwon-do</td><td>-</td><td>overseas inflow</td><td>16</td></tr><tr><td>Gangwon-do</td><td>-</td><td>contact with patient</td><td>0</td></tr><tr><td>Gangwon-do</td><td>-</td><td>etc</td><td>7</td></tr><tr><td>Chungcheongbuk-do</td><td>Goesan-gun</td><td>Goesan-gun Jangyeon-myeon</td><td>11</td></tr><tr><td>Chungcheongbuk-do</td><td>from other city</td><td>Itaewon Clubs</td><td>9</td></tr><tr><td>Chungcheongbuk-do</td><td>from other city</td><td>Guro-gu Call Center</td><td>2</td></tr><tr><td>Chungcheongbuk-do</td><td>from other city</td><td>Shincheonji Church</td><td>6</td></tr><tr><td>Chungcheongbuk-do</td><td>-</td><td>overseas inflow</td><td>13</td></tr><tr><td>Chungcheongbuk-do</td><td>-</td><td>contact with patient</td><td>8</td></tr><tr><td>Chungcheongbuk-do</td><td>-</td><td>etc</td><td>11</td></tr><tr><td>Chungcheongnam-do</td><td>Cheonan-si</td><td>gym facility in Cheonan</td><td>103</td></tr><tr><td>Chungcheongnam-do</td><td>from other city</td><td>Door-to-door sales in Daejeon</td><td>10</td></tr><tr><td>Chungcheongnam-do</td><td>Seosan-si</td><td>Seosan-si Laboratory</td><td>9</td></tr><tr><td>Chungcheongnam-do</td><td>from other city</td><td>Richway</td><td>3</td></tr><tr><td>Chungcheongnam-do</td><td>from other city</td><td>Eunpyeong-Boksagol culture center</td><td>3</td></tr><tr><td>Chungcheongnam-do</td><td>-</td><td>overseas inflow</td><td>16</td></tr><tr><td>Chungcheongnam-do</td><td>-</td><td>contact with patient</td><td>2</td></tr><tr><td>Chungcheongnam-do</td><td>-</td><td>etc</td><td>12</td></tr><tr><td>Jeollabuk-do</td><td>from other city</td><td>Itaewon Clubs</td><td>2</td></tr><tr><td>Jeollabuk-do</td><td>from other city</td><td>Door-to-door sales in Daejeon</td><td>3</td></tr><tr><td>Jeollabuk-do</td><td>from other city</td><td>Shincheonji Church</td><td>1</td></tr><tr><td>Jeollabuk-do</td><td>-</td><td>overseas inflow</td><td>12</td></tr><tr><td>Jeollabuk-do</td><td>-</td><td>etc</td><td>5</td></tr><tr><td>Jeollanam-do</td><td>Muan-gun</td><td>Manmin Central Church</td><td>2</td></tr><tr><td>Jeollanam-do</td><td>from other city</td><td>Shincheonji Church</td><td>1</td></tr><tr><td>Jeollanam-do</td><td>-</td><td>overseas inflow</td><td>14</td></tr><tr><td>Jeollanam-do</td><td>-</td><td>contact with patient</td><td>4</td></tr><tr><td>Jeollanam-do</td><td>-</td><td>etc</td><td>4</td></tr><tr><td>Gyeongsangbuk-do</td><td>from other city</td><td>Shincheonji Church</td><td>566</td></tr><tr><td>Gyeongsangbuk-do</td><td>Cheongdo-gun</td><td>Cheongdo Daenam Hospital</td><td>119</td></tr><tr><td>Gyeongsangbuk-do</td><td>Bonghwa-gun</td><td>Bonghwa Pureun Nursing Home</td><td>68</td></tr><tr><td>Gyeongsangbuk-do</td><td>Gyeongsan-si</td><td>Gyeongsan Seorin Nursing Home</td><td>66</td></tr><tr><td>Gyeongsangbuk-do</td><td>from other city</td><td>Pilgrimage to Israel</td><td>41</td></tr><tr><td>Gyeongsangbuk-do</td><td>Yechun-gun</td><td>Yechun-gun</td><td>40</td></tr><tr><td>Gyeongsangbuk-do</td><td>Chilgok-gun</td><td>Milal Shelter</td><td>36</td></tr><tr><td>Gyeongsangbuk-do</td><td>Gyeongsan-si</td><td>Gyeongsan Jeil Silver Town</td><td>17</td></tr><tr><td>Gyeongsangbuk-do</td><td>Gyeongsan-si</td><td>Gyeongsan Cham Joeun Community Center</td><td>16</td></tr><tr><td>Gyeongsangbuk-do</td><td>Gumi-si</td><td>Gumi Elim Church</td><td>10</td></tr><tr><td>Gyeongsangbuk-do</td><td>-</td><td>overseas inflow</td><td>22</td></tr><tr><td>Gyeongsangbuk-do</td><td>-</td><td>contact with patient</td><td>190</td></tr><tr><td>Gyeongsangbuk-do</td><td>-</td><td>etc</td><td>133</td></tr><tr><td>Gyeongsangnam-do</td><td>from other city</td><td>Shincheonji Church</td><td>32</td></tr><tr><td>Gyeongsangnam-do</td><td>Geochang-gun</td><td>Geochang Church</td><td>10</td></tr><tr><td>Gyeongsangnam-do</td><td>Jinju-si</td><td>Wings Tower</td><td>9</td></tr><tr><td>Gyeongsangnam-do</td><td>Geochang-gun</td><td>Geochang-gun Woongyang-myeon</td><td>8</td></tr><tr><td>Gyeongsangnam-do</td><td>Changwon-si</td><td>Hanmaeum Changwon Hospital</td><td>7</td></tr><tr><td>Gyeongsangnam-do</td><td>Changnyeong-gun</td><td>Changnyeong Coin Karaoke</td><td>7</td></tr><tr><td>Gyeongsangnam-do</td><td>Yangsan-si</td><td>Soso Seowon</td><td>3</td></tr><tr><td>Gyeongsangnam-do</td><td>from other city</td><td>Itaewon Clubs</td><td>2</td></tr><tr><td>Gyeongsangnam-do</td><td>from other city</td><td>Onchun Church</td><td>2</td></tr><tr><td>Gyeongsangnam-do</td><td>-</td><td>overseas inflow</td><td>26</td></tr><tr><td>Gyeongsangnam-do</td><td>-</td><td>contact with patient</td><td>6</td></tr><tr><td>Gyeongsangnam-do</td><td>-</td><td>etc</td><td>20</td></tr><tr><td>Jeju-do</td><td>-</td><td>overseas inflow</td><td>14</td></tr><tr><td>Jeju-do</td><td>-</td><td>contact with patient</td><td>0</td></tr><tr><td>Jeju-do</td><td>-</td><td>etc</td><td>4</td></tr><tr><td>Jeju-do</td><td>from other city</td><td>Itaewon Clubs</td><td>1</td></tr></tbody></table></div>"
      ]
     },
     "metadata": {
      "application/vnd.databricks.v1+output": {
       "addedWidgets": {},
       "aggData": [],
       "aggError": "",
       "aggOverflow": false,
       "aggSchema": [],
       "aggSeriesLimitReached": false,
       "aggType": "",
       "arguments": {},
       "columnCustomDisplayInfos": {},
       "data": [
        [
         "Seoul",
         "Yongsan-gu",
         "Itaewon Clubs",
         "139"
        ],
        [
         "Seoul",
         "Gwanak-gu",
         "Richway",
         "119"
        ],
        [
         "Seoul",
         "Guro-gu",
         "Guro-gu Call Center",
         "95"
        ],
        [
         "Seoul",
         "Yangcheon-gu",
         "Yangcheon Table Tennis Club",
         "43"
        ],
        [
         "Seoul",
         "Dobong-gu",
         "Day Care Center",
         "43"
        ],
        [
         "Seoul",
         "Guro-gu",
         "Manmin Central Church",
         "41"
        ],
        [
         "Seoul",
         "from other city",
         "SMR Newly Planted Churches Group",
         "36"
        ],
        [
         "Seoul",
         "Dongdaemun-gu",
         "Dongan Church",
         "17"
        ],
        [
         "Seoul",
         "from other city",
         "Coupang Logistics Center",
         "25"
        ],
        [
         "Seoul",
         "Gwanak-gu",
         "Wangsung Church",
         "30"
        ],
        [
         "Seoul",
         "Eunpyeong-gu",
         "Eunpyeong St. Mary's Hospital",
         "14"
        ],
        [
         "Seoul",
         "Seongdong-gu",
         "Seongdong-gu APT",
         "13"
        ],
        [
         "Seoul",
         "Jongno-gu",
         "Jongno Community Center",
         "10"
        ],
        [
         "Seoul",
         "Gangnam-gu",
         "Samsung Medical Center",
         "7"
        ],
        [
         "Seoul",
         "Jung-gu",
         "Jung-gu Fashion Company",
         "7"
        ],
        [
         "Seoul",
         "Seodaemun-gu",
         "Yeonana News Class",
         "5"
        ],
        [
         "Seoul",
         "Jongno-gu",
         "Korea Campus Crusade of Christ",
         "7"
        ],
        [
         "Seoul",
         "Gangnam-gu",
         "Gangnam Yeoksam-dong gathering",
         "6"
        ],
        [
         "Seoul",
         "from other city",
         "Daejeon door-to-door sales",
         "1"
        ],
        [
         "Seoul",
         "Geumcheon-gu",
         "Geumcheon-gu rice milling machine manufacture",
         "6"
        ],
        [
         "Seoul",
         "from other city",
         "Shincheonji Church",
         "8"
        ],
        [
         "Seoul",
         "from other city",
         "Guri Collective Infection",
         "5"
        ],
        [
         "Seoul",
         "Jung-gu",
         "KB Life Insurance",
         "13"
        ],
        [
         "Seoul",
         "Yeongdeungpo-gu",
         "Yeongdeungpo Learning Institute",
         "3"
        ],
        [
         "Seoul",
         "Gangnam-gu",
         "Gangnam Dongin Church",
         "1"
        ],
        [
         "Seoul",
         "Yangcheon-gu",
         "Biblical Language study meeting",
         "3"
        ],
        [
         "Seoul",
         "Seocho-gu",
         "Seocho Family",
         "5"
        ],
        [
         "Seoul",
         "from other city",
         "Anyang Gunpo Pastors Group",
         "1"
        ],
        [
         "Seoul",
         "Gangnam-gu",
         "Samsung Fire & Marine Insurance",
         "4"
        ],
        [
         "Seoul",
         "Gangseo-gu",
         "SJ Investment Call Center",
         "0"
        ],
        [
         "Seoul",
         "from other city",
         "Yongin Brothers",
         "4"
        ],
        [
         "Seoul",
         "Jung-gu",
         "Seoul City Hall Station safety worker",
         "3"
        ],
        [
         "Seoul",
         "from other city",
         "Uiwang Logistics Center",
         "2"
        ],
        [
         "Seoul",
         "-",
         "Orange Life",
         "1"
        ],
        [
         "Seoul",
         "Guro-gu",
         "Daezayeon Korea",
         "3"
        ],
        [
         "Seoul",
         "-",
         "overseas inflow",
         "298"
        ],
        [
         "Seoul",
         "-",
         "contact with patient",
         "162"
        ],
        [
         "Seoul",
         "-",
         "etc",
         "100"
        ],
        [
         "Busan",
         "Dongnae-gu",
         "Onchun Church",
         "39"
        ],
        [
         "Busan",
         "from other city",
         "Shincheonji Church",
         "12"
        ],
        [
         "Busan",
         "Suyeong-gu",
         "Suyeong-gu Kindergarten",
         "5"
        ],
        [
         "Busan",
         "Haeundae-gu",
         "Haeundae-gu Catholic Church",
         "6"
        ],
        [
         "Busan",
         "Jin-gu",
         "Jin-gu Academy",
         "4"
        ],
        [
         "Busan",
         "from other city",
         "Itaewon Clubs",
         "4"
        ],
        [
         "Busan",
         "from other city",
         "Cheongdo Daenam Hospital",
         "1"
        ],
        [
         "Busan",
         "-",
         "overseas inflow",
         "36"
        ],
        [
         "Busan",
         "-",
         "contact with patient",
         "19"
        ],
        [
         "Busan",
         "-",
         "etc",
         "30"
        ],
        [
         "Daegu",
         "Nam-gu",
         "Shincheonji Church",
         "4511"
        ],
        [
         "Daegu",
         "Dalseong-gun",
         "Second Mi-Ju Hospital",
         "196"
        ],
        [
         "Daegu",
         "Seo-gu",
         "Hansarang Convalescent Hospital",
         "124"
        ],
        [
         "Daegu",
         "Dalseong-gun",
         "Daesil Convalescent Hospital",
         "101"
        ],
        [
         "Daegu",
         "Dong-gu",
         "Fatima Hospital",
         "39"
        ],
        [
         "Daegu",
         "from other city",
         "Itaewon Clubs",
         "2"
        ],
        [
         "Daegu",
         "from other city",
         "Cheongdo Daenam Hospital",
         "2"
        ],
        [
         "Daegu",
         "-",
         "overseas inflow",
         "41"
        ],
        [
         "Daegu",
         "-",
         "contact with patient",
         "917"
        ],
        [
         "Daegu",
         "-",
         "etc",
         "747"
        ],
        [
         "Gwangju",
         "Dong-gu",
         "Gwangneuksa Temple",
         "5"
        ],
        [
         "Gwangju",
         "from other city",
         "Shincheonji Church",
         "9"
        ],
        [
         "Gwangju",
         "-",
         "overseas inflow",
         "23"
        ],
        [
         "Gwangju",
         "-",
         "contact with patient",
         "5"
        ],
        [
         "Gwangju",
         "-",
         "etc",
         "1"
        ],
        [
         "Incheon",
         "from other city",
         "Itaewon Clubs",
         "53"
        ],
        [
         "Incheon",
         "from other city",
         "Coupang Logistics Center",
         "42"
        ],
        [
         "Incheon",
         "from other city",
         "Guro-gu Call Center",
         "20"
        ],
        [
         "Incheon",
         "from other city",
         "Shincheonji Church",
         "2"
        ],
        [
         "Incheon",
         "-",
         "overseas inflow",
         "68"
        ],
        [
         "Incheon",
         "-",
         "contact with patient",
         "6"
        ],
        [
         "Incheon",
         "-",
         "etc",
         "11"
        ],
        [
         "Daejeon",
         "-",
         "Door-to-door sales in Daejeon",
         "55"
        ],
        [
         "Daejeon",
         "Seo-gu",
         "Dunsan Electronics Town",
         "13"
        ],
        [
         "Daejeon",
         "Seo-gu",
         "Orange Town",
         "7"
        ],
        [
         "Daejeon",
         "Seo-gu",
         "Dreaming Church",
         "4"
        ],
        [
         "Daejeon",
         "Seo-gu",
         "Korea Forest Engineer Institute",
         "3"
        ],
        [
         "Daejeon",
         "from other city",
         "Shincheonji Church",
         "2"
        ],
        [
         "Daejeon",
         "from other city",
         "Seosan-si Laboratory",
         "2"
        ],
        [
         "Daejeon",
         "-",
         "overseas inflow",
         "15"
        ],
        [
         "Daejeon",
         "-",
         "contact with patient",
         "15"
        ],
        [
         "Daejeon",
         "-",
         "etc",
         "15"
        ],
        [
         "Ulsan",
         "from other city",
         "Shincheonji Church",
         "16"
        ],
        [
         "Ulsan",
         "-",
         "overseas inflow",
         "25"
        ],
        [
         "Ulsan",
         "-",
         "contact with patient",
         "3"
        ],
        [
         "Ulsan",
         "-",
         "etc",
         "7"
        ],
        [
         "Sejong",
         "Sejong",
         "Ministry of Oceans and Fisheries",
         "31"
        ],
        [
         "Sejong",
         "Sejong",
         "gym facility in Sejong",
         "8"
        ],
        [
         "Sejong",
         "from other city",
         "Shincheonji Church",
         "1"
        ],
        [
         "Sejong",
         "-",
         "overseas inflow",
         "5"
        ],
        [
         "Sejong",
         "-",
         "contact with patient",
         "3"
        ],
        [
         "Sejong",
         "-",
         "etc",
         "1"
        ],
        [
         "Gyeonggi-do",
         "Seongnam-si",
         "River of Grace Community Church",
         "67"
        ],
        [
         "Gyeonggi-do",
         "Bucheon-si",
         "Coupang Logistics Center",
         "67"
        ],
        [
         "Gyeonggi-do",
         "from other city",
         "Itaewon Clubs",
         "59"
        ],
        [
         "Gyeonggi-do",
         "from other city",
         "Richway",
         "58"
        ],
        [
         "Gyeonggi-do",
         "Uijeongbu-si",
         "Uijeongbu St. Mary’s Hospital",
         "50"
        ],
        [
         "Gyeonggi-do",
         "from other city",
         "Guro-gu Call Center",
         "50"
        ],
        [
         "Gyeonggi-do",
         "from other city",
         "Shincheonji Church",
         "29"
        ],
        [
         "Gyeonggi-do",
         "from other city",
         "Yangcheon Table Tennis Club",
         "28"
        ],
        [
         "Gyeonggi-do",
         "-",
         "SMR Newly Planted Churches Group",
         "25"
        ],
        [
         "Gyeonggi-do",
         "Seongnam-si",
         "Bundang Jesaeng Hospital",
         "22"
        ],
        [
         "Gyeonggi-do",
         "Anyang-si",
         "Anyang Gunpo Pastors Group",
         "22"
        ],
        [
         "Gyeonggi-do",
         "Suwon-si",
         "Lotte Confectionery logistics center",
         "15"
        ],
        [
         "Gyeonggi-do",
         "Anyang-si",
         "Lord Glory Church",
         "17"
        ],
        [
         "Gyeonggi-do",
         "Suwon-si",
         "Suwon Saeng Myeong Saem Church",
         "10"
        ],
        [
         "Gyeonggi-do",
         "from other city",
         "Korea Campus Crusade of Christ",
         "7"
        ],
        [
         "Gyeonggi-do",
         "from other city",
         "Geumcheon-gu rice milling machine manufacture",
         "6"
        ],
        [
         "Gyeonggi-do",
         "from other city",
         "Wangsung Church",
         "6"
        ],
        [
         "Gyeonggi-do",
         "from other city",
         "Seoul City Hall Station safety worker",
         "5"
        ],
        [
         "Gyeonggi-do",
         "Seongnam-si",
         "Seongnam neighbors gathering",
         "5"
        ],
        [
         "Gyeonggi-do",
         "-",
         "overseas inflow",
         "305"
        ],
        [
         "Gyeonggi-do",
         "-",
         "contact with patient",
         "63"
        ],
        [
         "Gyeonggi-do",
         "-",
         "etc",
         "84"
        ],
        [
         "Gangwon-do",
         "from other city",
         "Shincheonji Church",
         "17"
        ],
        [
         "Gangwon-do",
         "from other city",
         "Uijeongbu St. Mary’s Hospital",
         "10"
        ],
        [
         "Gangwon-do",
         "Wonju-si",
         "Wonju-si Apartments",
         "4"
        ],
        [
         "Gangwon-do",
         "from other city",
         "Richway",
         "4"
        ],
        [
         "Gangwon-do",
         "from other city",
         "Geumcheon-gu rice milling machine manufacture",
         "4"
        ],
        [
         "Gangwon-do",
         "-",
         "overseas inflow",
         "16"
        ],
        [
         "Gangwon-do",
         "-",
         "contact with patient",
         "0"
        ],
        [
         "Gangwon-do",
         "-",
         "etc",
         "7"
        ],
        [
         "Chungcheongbuk-do",
         "Goesan-gun",
         "Goesan-gun Jangyeon-myeon",
         "11"
        ],
        [
         "Chungcheongbuk-do",
         "from other city",
         "Itaewon Clubs",
         "9"
        ],
        [
         "Chungcheongbuk-do",
         "from other city",
         "Guro-gu Call Center",
         "2"
        ],
        [
         "Chungcheongbuk-do",
         "from other city",
         "Shincheonji Church",
         "6"
        ],
        [
         "Chungcheongbuk-do",
         "-",
         "overseas inflow",
         "13"
        ],
        [
         "Chungcheongbuk-do",
         "-",
         "contact with patient",
         "8"
        ],
        [
         "Chungcheongbuk-do",
         "-",
         "etc",
         "11"
        ],
        [
         "Chungcheongnam-do",
         "Cheonan-si",
         "gym facility in Cheonan",
         "103"
        ],
        [
         "Chungcheongnam-do",
         "from other city",
         "Door-to-door sales in Daejeon",
         "10"
        ],
        [
         "Chungcheongnam-do",
         "Seosan-si",
         "Seosan-si Laboratory",
         "9"
        ],
        [
         "Chungcheongnam-do",
         "from other city",
         "Richway",
         "3"
        ],
        [
         "Chungcheongnam-do",
         "from other city",
         "Eunpyeong-Boksagol culture center",
         "3"
        ],
        [
         "Chungcheongnam-do",
         "-",
         "overseas inflow",
         "16"
        ],
        [
         "Chungcheongnam-do",
         "-",
         "contact with patient",
         "2"
        ],
        [
         "Chungcheongnam-do",
         "-",
         "etc",
         "12"
        ],
        [
         "Jeollabuk-do",
         "from other city",
         "Itaewon Clubs",
         "2"
        ],
        [
         "Jeollabuk-do",
         "from other city",
         "Door-to-door sales in Daejeon",
         "3"
        ],
        [
         "Jeollabuk-do",
         "from other city",
         "Shincheonji Church",
         "1"
        ],
        [
         "Jeollabuk-do",
         "-",
         "overseas inflow",
         "12"
        ],
        [
         "Jeollabuk-do",
         "-",
         "etc",
         "5"
        ],
        [
         "Jeollanam-do",
         "Muan-gun",
         "Manmin Central Church",
         "2"
        ],
        [
         "Jeollanam-do",
         "from other city",
         "Shincheonji Church",
         "1"
        ],
        [
         "Jeollanam-do",
         "-",
         "overseas inflow",
         "14"
        ],
        [
         "Jeollanam-do",
         "-",
         "contact with patient",
         "4"
        ],
        [
         "Jeollanam-do",
         "-",
         "etc",
         "4"
        ],
        [
         "Gyeongsangbuk-do",
         "from other city",
         "Shincheonji Church",
         "566"
        ],
        [
         "Gyeongsangbuk-do",
         "Cheongdo-gun",
         "Cheongdo Daenam Hospital",
         "119"
        ],
        [
         "Gyeongsangbuk-do",
         "Bonghwa-gun",
         "Bonghwa Pureun Nursing Home",
         "68"
        ],
        [
         "Gyeongsangbuk-do",
         "Gyeongsan-si",
         "Gyeongsan Seorin Nursing Home",
         "66"
        ],
        [
         "Gyeongsangbuk-do",
         "from other city",
         "Pilgrimage to Israel",
         "41"
        ],
        [
         "Gyeongsangbuk-do",
         "Yechun-gun",
         "Yechun-gun",
         "40"
        ],
        [
         "Gyeongsangbuk-do",
         "Chilgok-gun",
         "Milal Shelter",
         "36"
        ],
        [
         "Gyeongsangbuk-do",
         "Gyeongsan-si",
         "Gyeongsan Jeil Silver Town",
         "17"
        ],
        [
         "Gyeongsangbuk-do",
         "Gyeongsan-si",
         "Gyeongsan Cham Joeun Community Center",
         "16"
        ],
        [
         "Gyeongsangbuk-do",
         "Gumi-si",
         "Gumi Elim Church",
         "10"
        ],
        [
         "Gyeongsangbuk-do",
         "-",
         "overseas inflow",
         "22"
        ],
        [
         "Gyeongsangbuk-do",
         "-",
         "contact with patient",
         "190"
        ],
        [
         "Gyeongsangbuk-do",
         "-",
         "etc",
         "133"
        ],
        [
         "Gyeongsangnam-do",
         "from other city",
         "Shincheonji Church",
         "32"
        ],
        [
         "Gyeongsangnam-do",
         "Geochang-gun",
         "Geochang Church",
         "10"
        ],
        [
         "Gyeongsangnam-do",
         "Jinju-si",
         "Wings Tower",
         "9"
        ],
        [
         "Gyeongsangnam-do",
         "Geochang-gun",
         "Geochang-gun Woongyang-myeon",
         "8"
        ],
        [
         "Gyeongsangnam-do",
         "Changwon-si",
         "Hanmaeum Changwon Hospital",
         "7"
        ],
        [
         "Gyeongsangnam-do",
         "Changnyeong-gun",
         "Changnyeong Coin Karaoke",
         "7"
        ],
        [
         "Gyeongsangnam-do",
         "Yangsan-si",
         "Soso Seowon",
         "3"
        ],
        [
         "Gyeongsangnam-do",
         "from other city",
         "Itaewon Clubs",
         "2"
        ],
        [
         "Gyeongsangnam-do",
         "from other city",
         "Onchun Church",
         "2"
        ],
        [
         "Gyeongsangnam-do",
         "-",
         "overseas inflow",
         "26"
        ],
        [
         "Gyeongsangnam-do",
         "-",
         "contact with patient",
         "6"
        ],
        [
         "Gyeongsangnam-do",
         "-",
         "etc",
         "20"
        ],
        [
         "Jeju-do",
         "-",
         "overseas inflow",
         "14"
        ],
        [
         "Jeju-do",
         "-",
         "contact with patient",
         "0"
        ],
        [
         "Jeju-do",
         "-",
         "etc",
         "4"
        ],
        [
         "Jeju-do",
         "from other city",
         "Itaewon Clubs",
         "1"
        ]
       ],
       "datasetInfos": [],
       "dbfsResultPath": null,
       "isJsonSchema": true,
       "metadata": {},
       "overflow": false,
       "plotOptions": {
        "customPlotOptions": {},
        "displayType": "table",
        "pivotAggregation": null,
        "pivotColumns": null,
        "xColumns": null,
        "yColumns": null
       },
       "removedWidgets": [],
       "schema": [
        {
         "metadata": "{}",
         "name": "province",
         "type": "\"string\""
        },
        {
         "metadata": "{}",
         "name": "city",
         "type": "\"string\""
        },
        {
         "metadata": "{}",
         "name": "infection_case",
         "type": "\"string\""
        },
        {
         "metadata": "{}",
         "name": "confirmed",
         "type": "\"string\""
        }
       ],
       "type": "table"
      }
     },
     "output_type": "display_data"
    },
    {
     "output_type": "display_data",
     "data": {
      "text/html": [
       "<style scoped>\n",
       "  .table-result-container {\n",
       "    max-height: 300px;\n",
       "    overflow: auto;\n",
       "  }\n",
       "  table, th, td {\n",
       "    border: 1px solid black;\n",
       "    border-collapse: collapse;\n",
       "  }\n",
       "  th, td {\n",
       "    padding: 5px;\n",
       "  }\n",
       "  th {\n",
       "    text-align: left;\n",
       "  }\n",
       "</style><div class='table-result-container'><table class='table-result'><thead style='background-color: white'><tr><th> case_id</th><th>province</th><th>city</th><th>group</th><th>infection_case</th><th>confirmed</th><th>latitude</th><th>longitude</th></tr></thead><tbody><tr><td>1000001</td><td>Seoul</td><td>Yongsan-gu</td><td>TRUE</td><td>Itaewon Clubs</td><td>139</td><td>37.538621</td><td>126.992652</td></tr><tr><td>1000002</td><td>Seoul</td><td>Gwanak-gu</td><td>TRUE</td><td>Richway</td><td>119</td><td>37.48208</td><td>126.901384</td></tr><tr><td>1000036</td><td>Seoul</td><td>-</td><td>FALSE</td><td>overseas inflow</td><td>298</td><td>-</td><td>-</td></tr><tr><td>1000037</td><td>Seoul</td><td>-</td><td>FALSE</td><td>contact with patient</td><td>162</td><td>-</td><td>-</td></tr><tr><td>1200001</td><td>Daegu</td><td>Nam-gu</td><td>TRUE</td><td>Shincheonji Church</td><td>4511</td><td>35.84008</td><td>128.5667</td></tr><tr><td>1200002</td><td>Daegu</td><td>Dalseong-gun</td><td>TRUE</td><td>Second Mi-Ju Hospital</td><td>196</td><td>35.857375</td><td>128.466651</td></tr><tr><td>1200003</td><td>Daegu</td><td>Seo-gu</td><td>TRUE</td><td>Hansarang Convalescent Hospital</td><td>124</td><td>35.885592</td><td>128.556649</td></tr><tr><td>1200004</td><td>Daegu</td><td>Dalseong-gun</td><td>TRUE</td><td>Daesil Convalescent Hospital</td><td>101</td><td>35.857393</td><td>128.466653</td></tr><tr><td>1200009</td><td>Daegu</td><td>-</td><td>FALSE</td><td>contact with patient</td><td>917</td><td>-</td><td>-</td></tr><tr><td>1200010</td><td>Daegu</td><td>-</td><td>FALSE</td><td>etc</td><td>747</td><td>-</td><td>-</td></tr><tr><td>2000020</td><td>Gyeonggi-do</td><td>-</td><td>FALSE</td><td>overseas inflow</td><td>305</td><td>-</td><td>-</td></tr><tr><td>4100001</td><td>Chungcheongnam-do</td><td>Cheonan-si</td><td>TRUE</td><td>gym facility in Cheonan</td><td>103</td><td>36.81503</td><td>127.1139</td></tr><tr><td>6000001</td><td>Gyeongsangbuk-do</td><td>from other city</td><td>TRUE</td><td>Shincheonji Church</td><td>566</td><td>-</td><td>-</td></tr><tr><td>6000002</td><td>Gyeongsangbuk-do</td><td>Cheongdo-gun</td><td>TRUE</td><td>Cheongdo Daenam Hospital</td><td>119</td><td>35.64887</td><td>128.7368</td></tr><tr><td>6000012</td><td>Gyeongsangbuk-do</td><td>-</td><td>FALSE</td><td>contact with patient</td><td>190</td><td>-</td><td>-</td></tr><tr><td>6000013</td><td>Gyeongsangbuk-do</td><td>-</td><td>FALSE</td><td>etc</td><td>133</td><td>-</td><td>-</td></tr></tbody></table></div>"
      ]
     },
     "metadata": {
      "application/vnd.databricks.v1+output": {
       "addedWidgets": {},
       "aggData": [],
       "aggError": "",
       "aggOverflow": false,
       "aggSchema": [],
       "aggSeriesLimitReached": false,
       "aggType": "",
       "arguments": {},
       "columnCustomDisplayInfos": {},
       "data": [
        [
         "1000001",
         "Seoul",
         "Yongsan-gu",
         "TRUE",
         "Itaewon Clubs",
         "139",
         "37.538621",
         "126.992652"
        ],
        [
         "1000002",
         "Seoul",
         "Gwanak-gu",
         "TRUE",
         "Richway",
         "119",
         "37.48208",
         "126.901384"
        ],
        [
         "1000036",
         "Seoul",
         "-",
         "FALSE",
         "overseas inflow",
         "298",
         "-",
         "-"
        ],
        [
         "1000037",
         "Seoul",
         "-",
         "FALSE",
         "contact with patient",
         "162",
         "-",
         "-"
        ],
        [
         "1200001",
         "Daegu",
         "Nam-gu",
         "TRUE",
         "Shincheonji Church",
         "4511",
         "35.84008",
         "128.5667"
        ],
        [
         "1200002",
         "Daegu",
         "Dalseong-gun",
         "TRUE",
         "Second Mi-Ju Hospital",
         "196",
         "35.857375",
         "128.466651"
        ],
        [
         "1200003",
         "Daegu",
         "Seo-gu",
         "TRUE",
         "Hansarang Convalescent Hospital",
         "124",
         "35.885592",
         "128.556649"
        ],
        [
         "1200004",
         "Daegu",
         "Dalseong-gun",
         "TRUE",
         "Daesil Convalescent Hospital",
         "101",
         "35.857393",
         "128.466653"
        ],
        [
         "1200009",
         "Daegu",
         "-",
         "FALSE",
         "contact with patient",
         "917",
         "-",
         "-"
        ],
        [
         "1200010",
         "Daegu",
         "-",
         "FALSE",
         "etc",
         "747",
         "-",
         "-"
        ],
        [
         "2000020",
         "Gyeonggi-do",
         "-",
         "FALSE",
         "overseas inflow",
         "305",
         "-",
         "-"
        ],
        [
         "4100001",
         "Chungcheongnam-do",
         "Cheonan-si",
         "TRUE",
         "gym facility in Cheonan",
         "103",
         "36.81503",
         "127.1139"
        ],
        [
         "6000001",
         "Gyeongsangbuk-do",
         "from other city",
         "TRUE",
         "Shincheonji Church",
         "566",
         "-",
         "-"
        ],
        [
         "6000002",
         "Gyeongsangbuk-do",
         "Cheongdo-gun",
         "TRUE",
         "Cheongdo Daenam Hospital",
         "119",
         "35.64887",
         "128.7368"
        ],
        [
         "6000012",
         "Gyeongsangbuk-do",
         "-",
         "FALSE",
         "contact with patient",
         "190",
         "-",
         "-"
        ],
        [
         "6000013",
         "Gyeongsangbuk-do",
         "-",
         "FALSE",
         "etc",
         "133",
         "-",
         "-"
        ]
       ],
       "datasetInfos": [],
       "dbfsResultPath": null,
       "isJsonSchema": true,
       "metadata": {},
       "overflow": false,
       "plotOptions": {
        "customPlotOptions": {},
        "displayType": "table",
        "pivotAggregation": null,
        "pivotColumns": null,
        "xColumns": null,
        "yColumns": null
       },
       "removedWidgets": [],
       "schema": [
        {
         "metadata": "{}",
         "name": " case_id",
         "type": "\"string\""
        },
        {
         "metadata": "{}",
         "name": "province",
         "type": "\"string\""
        },
        {
         "metadata": "{}",
         "name": "city",
         "type": "\"string\""
        },
        {
         "metadata": "{}",
         "name": "group",
         "type": "\"string\""
        },
        {
         "metadata": "{}",
         "name": "infection_case",
         "type": "\"string\""
        },
        {
         "metadata": "{}",
         "name": "confirmed",
         "type": "\"string\""
        },
        {
         "metadata": "{}",
         "name": "latitude",
         "type": "\"string\""
        },
        {
         "metadata": "{}",
         "name": "longitude",
         "type": "\"string\""
        }
       ],
       "type": "table"
      }
     },
     "output_type": "display_data"
    },
    {
     "output_type": "stream",
     "name": "stdout",
     "output_type": "stream",
     "text": [
      "<class 'pyspark.sql.connect.group.GroupedData'>\n+-----------------+--------------+\n|         province|sum(confirmed)|\n+-----------------+--------------+\n|          Daejeon|         131.0|\n| Gyeongsangbuk-do|        1324.0|\n|          Incheon|         202.0|\n|          Jeju-do|          19.0|\n|     Jeollabuk-do|          23.0|\n|           Sejong|          49.0|\n|            Ulsan|          51.0|\n|          Gwangju|          43.0|\n|Chungcheongnam-do|         158.0|\n|      Gyeonggi-do|        1000.0|\n|            Busan|         156.0|\n|       Gangwon-do|          62.0|\n| Gyeongsangnam-do|         132.0|\n|     Jeollanam-do|          25.0|\n|Chungcheongbuk-do|          60.0|\n|            Seoul|        1280.0|\n|            Daegu|        6680.0|\n+-----------------+--------------+\n\n"
     ]
    }
   ],
   "source": [
    "#select()\n",
    "selected_df = df.select(\"province\", \"city\", \"infection_case\", \"confirmed\")\n",
    "display(selected_df)\n",
    "\n",
    "# filter()\n",
    "filtered = df.filter(df[\"confirmed\"] > 100)\n",
    "display(filtered)\n",
    "\n",
    "#groupBy()\n",
    "# At this point, grouped_df is a GroupedData object we can’t display it yet we must aggregate it\n",
    "grouped_df = df.groupBy(\"province\")\n",
    "print(type(grouped_df)) \n",
    "\n",
    "# agg()\n",
    "from pyspark.sql import functions as F\n",
    "grouped_df.agg(F.sum(\"confirmed\")).show()\n",
    "\n",
    "#withColumn()\n",
    "df2 = df.withColumn(\"double_confirmed\", df[\"confirmed\"] * 2)\n",
    "df2.select(\"province\", \"confirmed\", \"double_confirmed\").show(5)\n"
   ]
  },
  {
   "cell_type": "code",
   "execution_count": 0,
   "metadata": {
    "application/vnd.databricks.v1+cell": {
     "cellMetadata": {
      "byteLimit": 2048000,
      "rowLimit": 10000
     },
     "inputWidgets": {},
     "nuid": "8d28eac7-e9b3-4a96-815b-d5084e61c30f",
     "showTitle": false,
     "tableResultSettingsMap": {},
     "title": ""
    }
   },
   "outputs": [],
   "source": [
    "# Trim spaces from column names\n",
    "df = df.toDF(*[c.strip() for c in df.columns])\n"
   ]
  },
  {
   "cell_type": "code",
   "execution_count": 0,
   "metadata": {
    "application/vnd.databricks.v1+cell": {
     "cellMetadata": {
      "byteLimit": 2048000,
      "rowLimit": 10000
     },
     "inputWidgets": {},
     "nuid": "94d2c9b4-5054-4a2e-a7f2-818bb8236772",
     "showTitle": false,
     "tableResultSettingsMap": {},
     "title": ""
    }
   },
   "outputs": [
    {
     "output_type": "display_data",
     "data": {
      "text/plain": [
       "com.databricks.backend.common.rpc.CommandSkippedException\n",
       "\tat com.databricks.spark.chauffeur.SequenceExecutionState.$anonfun$cancel$3(SequenceExecutionState.scala:134)\n",
       "\tat com.databricks.spark.chauffeur.SequenceExecutionState.$anonfun$cancel$3$adapted(SequenceExecutionState.scala:129)\n",
       "\tat scala.collection.immutable.Range.foreach(Range.scala:192)\n",
       "\tat com.databricks.spark.chauffeur.SequenceExecutionState.cancel(SequenceExecutionState.scala:129)\n",
       "\tat com.databricks.spark.chauffeur.ExecContextState.cancelRunningSequence(ExecContextState.scala:715)\n",
       "\tat com.databricks.spark.chauffeur.ExecContextState.$anonfun$cancel$1(ExecContextState.scala:435)\n",
       "\tat scala.Option.getOrElse(Option.scala:201)\n",
       "\tat com.databricks.spark.chauffeur.ExecContextState.cancel(ExecContextState.scala:435)\n",
       "\tat com.databricks.spark.chauffeur.ExecutionContextManagerV1.cancelExecution(ExecutionContextManagerV1.scala:465)\n",
       "\tat com.databricks.spark.chauffeur.ChauffeurState.$anonfun$process$1(ChauffeurState.scala:741)\n",
       "\tat com.databricks.logging.UsageLogging.$anonfun$recordOperation$1(UsageLogging.scala:510)\n",
       "\tat com.databricks.logging.UsageLogging.executeThunkAndCaptureResultTags$1(UsageLogging.scala:616)\n",
       "\tat com.databricks.logging.UsageLogging.$anonfun$recordOperationWithResultTags$4(UsageLogging.scala:643)\n",
       "\tat com.databricks.logging.AttributionContextTracing.$anonfun$withAttributionContext$1(AttributionContextTracing.scala:80)\n",
       "\tat com.databricks.logging.AttributionContext$.$anonfun$withValue$1(AttributionContext.scala:348)\n",
       "\tat scala.util.DynamicVariable.withValue(DynamicVariable.scala:59)\n",
       "\tat com.databricks.logging.AttributionContext$.withValue(AttributionContext.scala:344)\n",
       "\tat com.databricks.logging.AttributionContextTracing.withAttributionContext(AttributionContextTracing.scala:78)\n",
       "\tat com.databricks.logging.AttributionContextTracing.withAttributionContext$(AttributionContextTracing.scala:75)\n",
       "\tat com.databricks.spark.chauffeur.ChauffeurState.withAttributionContext(ChauffeurState.scala:84)\n",
       "\tat com.databricks.logging.AttributionContextTracing.withAttributionTags(AttributionContextTracing.scala:127)\n",
       "\tat com.databricks.logging.AttributionContextTracing.withAttributionTags$(AttributionContextTracing.scala:108)\n",
       "\tat com.databricks.spark.chauffeur.ChauffeurState.withAttributionTags(ChauffeurState.scala:84)\n",
       "\tat com.databricks.logging.UsageLogging.recordOperationWithResultTags(UsageLogging.scala:611)\n",
       "\tat com.databricks.logging.UsageLogging.recordOperationWithResultTags$(UsageLogging.scala:519)\n",
       "\tat com.databricks.spark.chauffeur.ChauffeurState.recordOperationWithResultTags(ChauffeurState.scala:84)\n",
       "\tat com.databricks.logging.UsageLogging.recordOperation(UsageLogging.scala:511)\n",
       "\tat com.databricks.logging.UsageLogging.recordOperation$(UsageLogging.scala:475)\n",
       "\tat com.databricks.spark.chauffeur.ChauffeurState.recordOperation(ChauffeurState.scala:84)\n",
       "\tat com.databricks.spark.chauffeur.ChauffeurState.process(ChauffeurState.scala:719)\n",
       "\tat com.databricks.spark.chauffeur.Chauffeur$$anon$1$$anonfun$com$databricks$spark$chauffeur$Chauffeur$$nestedInanon$$receiveInternal$1.handleDriverRequest$1(Chauffeur.scala:918)\n",
       "\tat com.databricks.spark.chauffeur.Chauffeur$$anon$1$$anonfun$com$databricks$spark$chauffeur$Chauffeur$$nestedInanon$$receiveInternal$1.$anonfun$applyOrElse$3(Chauffeur.scala:944)\n",
       "\tat com.databricks.logging.UsageLogging.executeThunkAndCaptureResultTags$1(UsageLogging.scala:616)\n",
       "\tat com.databricks.logging.UsageLogging.$anonfun$recordOperationWithResultTags$4(UsageLogging.scala:643)\n",
       "\tat com.databricks.logging.AttributionContextTracing.$anonfun$withAttributionContext$1(AttributionContextTracing.scala:80)\n",
       "\tat com.databricks.logging.AttributionContext$.$anonfun$withValue$1(AttributionContext.scala:348)\n",
       "\tat scala.util.DynamicVariable.withValue(DynamicVariable.scala:59)\n",
       "\tat com.databricks.logging.AttributionContext$.withValue(AttributionContext.scala:344)\n",
       "\tat com.databricks.logging.AttributionContextTracing.withAttributionContext(AttributionContextTracing.scala:78)\n",
       "\tat com.databricks.logging.AttributionContextTracing.withAttributionContext$(AttributionContextTracing.scala:75)\n",
       "\tat com.databricks.rpc.ServerBackend.withAttributionContext(ServerBackend.scala:23)\n",
       "\tat com.databricks.logging.AttributionContextTracing.withAttributionTags(AttributionContextTracing.scala:127)\n",
       "\tat com.databricks.logging.AttributionContextTracing.withAttributionTags$(AttributionContextTracing.scala:108)\n",
       "\tat com.databricks.rpc.ServerBackend.withAttributionTags(ServerBackend.scala:23)\n",
       "\tat com.databricks.logging.UsageLogging.recordOperationWithResultTags(UsageLogging.scala:611)\n",
       "\tat com.databricks.logging.UsageLogging.recordOperationWithResultTags$(UsageLogging.scala:519)\n",
       "\tat com.databricks.rpc.ServerBackend.recordOperationWithResultTags(ServerBackend.scala:23)\n",
       "\tat com.databricks.spark.chauffeur.Chauffeur$$anon$1$$anonfun$com$databricks$spark$chauffeur$Chauffeur$$nestedInanon$$receiveInternal$1.handleDriverRequestWithUsageLogging$1(Chauffeur.scala:943)\n",
       "\tat com.databricks.spark.chauffeur.Chauffeur$$anon$1$$anonfun$com$databricks$spark$chauffeur$Chauffeur$$nestedInanon$$receiveInternal$1.applyOrElse(Chauffeur.scala:998)\n",
       "\tat com.databricks.spark.chauffeur.Chauffeur$$anon$1$$anonfun$com$databricks$spark$chauffeur$Chauffeur$$nestedInanon$$receiveInternal$1.applyOrElse(Chauffeur.scala:801)\n",
       "\tat scala.runtime.AbstractPartialFunction.apply(AbstractPartialFunction.scala:35)\n",
       "\tat com.databricks.spark.chauffeur.Chauffeur$$anon$1$$anonfun$receive$1.applyOrElse(Chauffeur.scala:797)\n",
       "\tat com.databricks.spark.chauffeur.Chauffeur$$anon$1$$anonfun$receive$1.applyOrElse(Chauffeur.scala:792)\n",
       "\tat com.databricks.rpc.ServerBackend.$anonfun$internalReceive0$2(ServerBackend.scala:189)\n",
       "\tat com.databricks.rpc.ServerBackend$$anonfun$commonReceive$1.applyOrElse(ServerBackend.scala:215)\n",
       "\tat com.databricks.rpc.ServerBackend$$anonfun$commonReceive$1.applyOrElse(ServerBackend.scala:215)\n",
       "\tat com.databricks.rpc.ServerBackend.internalReceive0(ServerBackend.scala:186)\n",
       "\tat com.databricks.rpc.ServerBackend.$anonfun$internalReceive$5(ServerBackend.scala:175)\n",
       "\tat com.databricks.logging.UsageLogging.$anonfun$recordOperation$1(UsageLogging.scala:510)\n",
       "\tat com.databricks.logging.UsageLogging.executeThunkAndCaptureResultTags$1(UsageLogging.scala:616)\n",
       "\tat com.databricks.logging.UsageLogging.$anonfun$recordOperationWithResultTags$4(UsageLogging.scala:643)\n",
       "\tat com.databricks.logging.AttributionContextTracing.$anonfun$withAttributionContext$1(AttributionContextTracing.scala:80)\n",
       "\tat com.databricks.logging.AttributionContext$.$anonfun$withValue$1(AttributionContext.scala:348)\n",
       "\tat scala.util.DynamicVariable.withValue(DynamicVariable.scala:59)\n",
       "\tat com.databricks.logging.AttributionContext$.withValue(AttributionContext.scala:344)\n",
       "\tat com.databricks.logging.AttributionContextTracing.withAttributionContext(AttributionContextTracing.scala:78)\n",
       "\tat com.databricks.logging.AttributionContextTracing.withAttributionContext$(AttributionContextTracing.scala:75)\n",
       "\tat com.databricks.rpc.ServerBackend.withAttributionContext(ServerBackend.scala:23)\n",
       "\tat com.databricks.logging.AttributionContextTracing.withAttributionTags(AttributionContextTracing.scala:127)\n",
       "\tat com.databricks.logging.AttributionContextTracing.withAttributionTags$(AttributionContextTracing.scala:108)\n",
       "\tat com.databricks.rpc.ServerBackend.withAttributionTags(ServerBackend.scala:23)\n",
       "\tat com.databricks.logging.UsageLogging.recordOperationWithResultTags(UsageLogging.scala:611)\n",
       "\tat com.databricks.logging.UsageLogging.recordOperationWithResultTags$(UsageLogging.scala:519)\n",
       "\tat com.databricks.rpc.ServerBackend.recordOperationWithResultTags(ServerBackend.scala:23)\n",
       "\tat com.databricks.logging.UsageLogging.recordOperation(UsageLogging.scala:511)\n",
       "\tat com.databricks.logging.UsageLogging.recordOperation$(UsageLogging.scala:475)\n",
       "\tat com.databricks.rpc.ServerBackend.recordOperation(ServerBackend.scala:23)\n",
       "\tat com.databricks.rpc.ServerBackend.executeWithLogging$1(ServerBackend.scala:148)\n",
       "\tat com.databricks.rpc.ServerBackend.internalReceive(ServerBackend.scala:175)\n",
       "\tat com.databricks.rpc.JettyServer$RequestManager.handleRPC(JettyServer.scala:997)\n",
       "\tat com.databricks.rpc.JettyServer$RequestManager.handleRequestAndRespond(JettyServer.scala:917)\n",
       "\tat com.databricks.rpc.JettyServer$RequestManager.$anonfun$handleHttp$5(JettyServer.scala:557)\n",
       "\tat com.databricks.rpc.JettyServer$RequestManager.$anonfun$handleHttp$5$adapted(JettyServer.scala:522)\n",
       "\tat com.databricks.logging.activity.ActivityContextFactory$.$anonfun$withActivityInternal$12(ActivityContextFactory.scala:1096)\n",
       "\tat com.databricks.logging.AttributionContextTracing.$anonfun$withAttributionContext$1(AttributionContextTracing.scala:80)\n",
       "\tat com.databricks.logging.AttributionContext$.$anonfun$withValue$1(AttributionContext.scala:348)\n",
       "\tat scala.util.DynamicVariable.withValue(DynamicVariable.scala:59)\n",
       "\tat com.databricks.logging.AttributionContext$.withValue(AttributionContext.scala:344)\n",
       "\tat com.databricks.logging.AttributionContextTracing.withAttributionContext(AttributionContextTracing.scala:78)\n",
       "\tat com.databricks.logging.AttributionContextTracing.withAttributionContext$(AttributionContextTracing.scala:75)\n",
       "\tat com.databricks.logging.activity.ActivityContextFactory$.withAttributionContext(ActivityContextFactory.scala:63)\n",
       "\tat com.databricks.logging.activity.ActivityContextFactory$.$anonfun$withActivityInternal$2(ActivityContextFactory.scala:1096)\n",
       "\tat com.databricks.context.integrity.IntegrityCheckContext$ThreadLocalStorage$.withValue(IntegrityCheckContext.scala:73)\n",
       "\tat com.databricks.logging.activity.ActivityContextFactory$.withActivityInternal(ActivityContextFactory.scala:1058)\n",
       "\tat com.databricks.logging.activity.ActivityContextFactory$.withActivityInternal(ActivityContextFactory.scala:1039)\n",
       "\tat com.databricks.logging.activity.ActivityContextFactory$.$anonfun$withServiceRequestActivity$39(ActivityContextFactory.scala:406)\n",
       "\tat com.databricks.logging.AttributionContextTracing.$anonfun$withAttributionContext$1(AttributionContextTracing.scala:80)\n",
       "\tat com.databricks.logging.AttributionContext$.$anonfun$withValue$1(AttributionContext.scala:348)\n",
       "\tat scala.util.DynamicVariable.withValue(DynamicVariable.scala:59)\n",
       "\tat com.databricks.logging.AttributionContext$.withValue(AttributionContext.scala:344)\n",
       "\tat com.databricks.logging.AttributionContextTracing.withAttributionContext(AttributionContextTracing.scala:78)\n",
       "\tat com.databricks.logging.AttributionContextTracing.withAttributionContext$(AttributionContextTracing.scala:75)\n",
       "\tat com.databricks.logging.activity.ActivityContextFactory$.withAttributionContext(ActivityContextFactory.scala:63)\n",
       "\tat com.databricks.logging.activity.ActivityContextFactory$.withServiceRequestActivity(ActivityContextFactory.scala:406)\n",
       "\tat com.databricks.rpc.JettyServer$RequestManager.handleHttp(JettyServer.scala:522)\n",
       "\tat com.databricks.rpc.JettyServer$RequestManager.doPost(JettyServer.scala:417)\n",
       "\tat javax.servlet.http.HttpServlet.service(HttpServlet.java:665)\n",
       "\tat com.databricks.rpc.HttpServletWithPatch.service(HttpServletWithPatch.scala:33)\n",
       "\tat javax.servlet.http.HttpServlet.service(HttpServlet.java:750)\n",
       "\tat org.eclipse.jetty.servlet.ServletHolder.handle(ServletHolder.java:799)\n",
       "\tat org.eclipse.jetty.servlet.ServletHandler.doHandle(ServletHandler.java:554)\n",
       "\tat org.eclipse.jetty.server.handler.ScopedHandler.nextScope(ScopedHandler.java:190)\n",
       "\tat org.eclipse.jetty.servlet.ServletHandler.doScope(ServletHandler.java:505)\n",
       "\tat org.eclipse.jetty.server.handler.ScopedHandler.handle(ScopedHandler.java:141)\n",
       "\tat org.eclipse.jetty.server.handler.HandlerWrapper.handle(HandlerWrapper.java:127)\n",
       "\tat org.eclipse.jetty.server.Server.handle(Server.java:516)\n",
       "\tat org.eclipse.jetty.server.HttpChannel.lambda$handle$1(HttpChannel.java:487)\n",
       "\tat org.eclipse.jetty.server.HttpChannel.dispatch(HttpChannel.java:732)\n",
       "\tat org.eclipse.jetty.server.HttpChannel.handle(HttpChannel.java:479)\n",
       "\tat org.eclipse.jetty.server.HttpConnection.onFillable(HttpConnection.java:277)\n",
       "\tat org.eclipse.jetty.io.AbstractConnection$ReadCallback.succeeded(AbstractConnection.java:311)\n",
       "\tat org.eclipse.jetty.io.FillInterest.fillable(FillInterest.java:105)\n",
       "\tat org.eclipse.jetty.io.ssl.SslConnection$DecryptedEndPoint.onFillable(SslConnection.java:555)\n",
       "\tat org.eclipse.jetty.io.ssl.SslConnection.onFillable(SslConnection.java:410)\n",
       "\tat org.eclipse.jetty.io.ssl.SslConnection$2.succeeded(SslConnection.java:164)\n",
       "\tat org.eclipse.jetty.io.FillInterest.fillable(FillInterest.java:105)\n",
       "\tat org.eclipse.jetty.io.ChannelEndPoint$1.run(ChannelEndPoint.java:104)\n",
       "\tat org.eclipse.jetty.util.thread.strategy.EatWhatYouKill.runTask(EatWhatYouKill.java:338)\n",
       "\tat org.eclipse.jetty.util.thread.strategy.EatWhatYouKill.doProduce(EatWhatYouKill.java:315)\n",
       "\tat org.eclipse.jetty.util.thread.strategy.EatWhatYouKill.tryProduce(EatWhatYouKill.java:173)\n",
       "\tat org.eclipse.jetty.util.thread.strategy.EatWhatYouKill.run(EatWhatYouKill.java:131)\n",
       "\tat org.eclipse.jetty.util.thread.ReservedThreadExecutor$ReservedThread.run(ReservedThreadExecutor.java:409)\n",
       "\tat com.databricks.rpc.InstrumentedQueuedThreadPool$$anon$1.$anonfun$run$2(InstrumentedQueuedThreadPool.scala:111)\n",
       "\tat scala.runtime.java8.JFunction0$mcV$sp.apply(JFunction0$mcV$sp.scala:18)\n",
       "\tat com.databricks.logging.AttributionContextTracing.$anonfun$withAttributionContext$1(AttributionContextTracing.scala:80)\n",
       "\tat com.databricks.logging.AttributionContext$.$anonfun$withValue$1(AttributionContext.scala:348)\n",
       "\tat scala.util.DynamicVariable.withValue(DynamicVariable.scala:59)\n",
       "\tat com.databricks.logging.AttributionContext$.withValue(AttributionContext.scala:344)\n",
       "\tat com.databricks.logging.AttributionContextTracing.withAttributionContext(AttributionContextTracing.scala:78)\n",
       "\tat com.databricks.logging.AttributionContextTracing.withAttributionContext$(AttributionContextTracing.scala:75)\n",
       "\tat com.databricks.rpc.InstrumentedQueuedThreadPool.withAttributionContext(InstrumentedQueuedThreadPool.scala:46)\n",
       "\tat com.databricks.rpc.InstrumentedQueuedThreadPool$$anon$1.$anonfun$run$1(InstrumentedQueuedThreadPool.scala:111)\n",
       "\tat scala.runtime.java8.JFunction0$mcV$sp.apply(JFunction0$mcV$sp.scala:18)\n",
       "\tat com.databricks.instrumentation.QueuedThreadPoolInstrumenter.trackActiveThreads(QueuedThreadPoolInstrumenter.scala:132)\n",
       "\tat com.databricks.instrumentation.QueuedThreadPoolInstrumenter.trackActiveThreads$(QueuedThreadPoolInstrumenter.scala:129)\n",
       "\tat com.databricks.rpc.InstrumentedQueuedThreadPool.trackActiveThreads(InstrumentedQueuedThreadPool.scala:46)\n",
       "\tat com.databricks.rpc.InstrumentedQueuedThreadPool$$anon$1.run(InstrumentedQueuedThreadPool.scala:93)\n",
       "\tat org.eclipse.jetty.util.thread.QueuedThreadPool.runJob(QueuedThreadPool.java:883)\n",
       "\tat org.eclipse.jetty.util.thread.QueuedThreadPool$Runner.run(QueuedThreadPool.java:1034)\n",
       "\tat java.base/java.lang.Thread.run(Thread.java:840)"
      ]
     },
     "metadata": {
      "application/vnd.databricks.v1+output": {
       "addedWidgets": {},
       "arguments": {},
       "datasetInfos": [],
       "jupyterProps": null,
       "metadata": {
        "errorSummary": "Command skipped"
       },
       "removedWidgets": [],
       "sqlProps": null,
       "stackFrames": [
        "com.databricks.backend.common.rpc.CommandSkippedException",
        "\tat com.databricks.spark.chauffeur.SequenceExecutionState.$anonfun$cancel$3(SequenceExecutionState.scala:134)",
        "\tat com.databricks.spark.chauffeur.SequenceExecutionState.$anonfun$cancel$3$adapted(SequenceExecutionState.scala:129)",
        "\tat scala.collection.immutable.Range.foreach(Range.scala:192)",
        "\tat com.databricks.spark.chauffeur.SequenceExecutionState.cancel(SequenceExecutionState.scala:129)",
        "\tat com.databricks.spark.chauffeur.ExecContextState.cancelRunningSequence(ExecContextState.scala:715)",
        "\tat com.databricks.spark.chauffeur.ExecContextState.$anonfun$cancel$1(ExecContextState.scala:435)",
        "\tat scala.Option.getOrElse(Option.scala:201)",
        "\tat com.databricks.spark.chauffeur.ExecContextState.cancel(ExecContextState.scala:435)",
        "\tat com.databricks.spark.chauffeur.ExecutionContextManagerV1.cancelExecution(ExecutionContextManagerV1.scala:465)",
        "\tat com.databricks.spark.chauffeur.ChauffeurState.$anonfun$process$1(ChauffeurState.scala:741)",
        "\tat com.databricks.logging.UsageLogging.$anonfun$recordOperation$1(UsageLogging.scala:510)",
        "\tat com.databricks.logging.UsageLogging.executeThunkAndCaptureResultTags$1(UsageLogging.scala:616)",
        "\tat com.databricks.logging.UsageLogging.$anonfun$recordOperationWithResultTags$4(UsageLogging.scala:643)",
        "\tat com.databricks.logging.AttributionContextTracing.$anonfun$withAttributionContext$1(AttributionContextTracing.scala:80)",
        "\tat com.databricks.logging.AttributionContext$.$anonfun$withValue$1(AttributionContext.scala:348)",
        "\tat scala.util.DynamicVariable.withValue(DynamicVariable.scala:59)",
        "\tat com.databricks.logging.AttributionContext$.withValue(AttributionContext.scala:344)",
        "\tat com.databricks.logging.AttributionContextTracing.withAttributionContext(AttributionContextTracing.scala:78)",
        "\tat com.databricks.logging.AttributionContextTracing.withAttributionContext$(AttributionContextTracing.scala:75)",
        "\tat com.databricks.spark.chauffeur.ChauffeurState.withAttributionContext(ChauffeurState.scala:84)",
        "\tat com.databricks.logging.AttributionContextTracing.withAttributionTags(AttributionContextTracing.scala:127)",
        "\tat com.databricks.logging.AttributionContextTracing.withAttributionTags$(AttributionContextTracing.scala:108)",
        "\tat com.databricks.spark.chauffeur.ChauffeurState.withAttributionTags(ChauffeurState.scala:84)",
        "\tat com.databricks.logging.UsageLogging.recordOperationWithResultTags(UsageLogging.scala:611)",
        "\tat com.databricks.logging.UsageLogging.recordOperationWithResultTags$(UsageLogging.scala:519)",
        "\tat com.databricks.spark.chauffeur.ChauffeurState.recordOperationWithResultTags(ChauffeurState.scala:84)",
        "\tat com.databricks.logging.UsageLogging.recordOperation(UsageLogging.scala:511)",
        "\tat com.databricks.logging.UsageLogging.recordOperation$(UsageLogging.scala:475)",
        "\tat com.databricks.spark.chauffeur.ChauffeurState.recordOperation(ChauffeurState.scala:84)",
        "\tat com.databricks.spark.chauffeur.ChauffeurState.process(ChauffeurState.scala:719)",
        "\tat com.databricks.spark.chauffeur.Chauffeur$$anon$1$$anonfun$com$databricks$spark$chauffeur$Chauffeur$$nestedInanon$$receiveInternal$1.handleDriverRequest$1(Chauffeur.scala:918)",
        "\tat com.databricks.spark.chauffeur.Chauffeur$$anon$1$$anonfun$com$databricks$spark$chauffeur$Chauffeur$$nestedInanon$$receiveInternal$1.$anonfun$applyOrElse$3(Chauffeur.scala:944)",
        "\tat com.databricks.logging.UsageLogging.executeThunkAndCaptureResultTags$1(UsageLogging.scala:616)",
        "\tat com.databricks.logging.UsageLogging.$anonfun$recordOperationWithResultTags$4(UsageLogging.scala:643)",
        "\tat com.databricks.logging.AttributionContextTracing.$anonfun$withAttributionContext$1(AttributionContextTracing.scala:80)",
        "\tat com.databricks.logging.AttributionContext$.$anonfun$withValue$1(AttributionContext.scala:348)",
        "\tat scala.util.DynamicVariable.withValue(DynamicVariable.scala:59)",
        "\tat com.databricks.logging.AttributionContext$.withValue(AttributionContext.scala:344)",
        "\tat com.databricks.logging.AttributionContextTracing.withAttributionContext(AttributionContextTracing.scala:78)",
        "\tat com.databricks.logging.AttributionContextTracing.withAttributionContext$(AttributionContextTracing.scala:75)",
        "\tat com.databricks.rpc.ServerBackend.withAttributionContext(ServerBackend.scala:23)",
        "\tat com.databricks.logging.AttributionContextTracing.withAttributionTags(AttributionContextTracing.scala:127)",
        "\tat com.databricks.logging.AttributionContextTracing.withAttributionTags$(AttributionContextTracing.scala:108)",
        "\tat com.databricks.rpc.ServerBackend.withAttributionTags(ServerBackend.scala:23)",
        "\tat com.databricks.logging.UsageLogging.recordOperationWithResultTags(UsageLogging.scala:611)",
        "\tat com.databricks.logging.UsageLogging.recordOperationWithResultTags$(UsageLogging.scala:519)",
        "\tat com.databricks.rpc.ServerBackend.recordOperationWithResultTags(ServerBackend.scala:23)",
        "\tat com.databricks.spark.chauffeur.Chauffeur$$anon$1$$anonfun$com$databricks$spark$chauffeur$Chauffeur$$nestedInanon$$receiveInternal$1.handleDriverRequestWithUsageLogging$1(Chauffeur.scala:943)",
        "\tat com.databricks.spark.chauffeur.Chauffeur$$anon$1$$anonfun$com$databricks$spark$chauffeur$Chauffeur$$nestedInanon$$receiveInternal$1.applyOrElse(Chauffeur.scala:998)",
        "\tat com.databricks.spark.chauffeur.Chauffeur$$anon$1$$anonfun$com$databricks$spark$chauffeur$Chauffeur$$nestedInanon$$receiveInternal$1.applyOrElse(Chauffeur.scala:801)",
        "\tat scala.runtime.AbstractPartialFunction.apply(AbstractPartialFunction.scala:35)",
        "\tat com.databricks.spark.chauffeur.Chauffeur$$anon$1$$anonfun$receive$1.applyOrElse(Chauffeur.scala:797)",
        "\tat com.databricks.spark.chauffeur.Chauffeur$$anon$1$$anonfun$receive$1.applyOrElse(Chauffeur.scala:792)",
        "\tat com.databricks.rpc.ServerBackend.$anonfun$internalReceive0$2(ServerBackend.scala:189)",
        "\tat com.databricks.rpc.ServerBackend$$anonfun$commonReceive$1.applyOrElse(ServerBackend.scala:215)",
        "\tat com.databricks.rpc.ServerBackend$$anonfun$commonReceive$1.applyOrElse(ServerBackend.scala:215)",
        "\tat com.databricks.rpc.ServerBackend.internalReceive0(ServerBackend.scala:186)",
        "\tat com.databricks.rpc.ServerBackend.$anonfun$internalReceive$5(ServerBackend.scala:175)",
        "\tat com.databricks.logging.UsageLogging.$anonfun$recordOperation$1(UsageLogging.scala:510)",
        "\tat com.databricks.logging.UsageLogging.executeThunkAndCaptureResultTags$1(UsageLogging.scala:616)",
        "\tat com.databricks.logging.UsageLogging.$anonfun$recordOperationWithResultTags$4(UsageLogging.scala:643)",
        "\tat com.databricks.logging.AttributionContextTracing.$anonfun$withAttributionContext$1(AttributionContextTracing.scala:80)",
        "\tat com.databricks.logging.AttributionContext$.$anonfun$withValue$1(AttributionContext.scala:348)",
        "\tat scala.util.DynamicVariable.withValue(DynamicVariable.scala:59)",
        "\tat com.databricks.logging.AttributionContext$.withValue(AttributionContext.scala:344)",
        "\tat com.databricks.logging.AttributionContextTracing.withAttributionContext(AttributionContextTracing.scala:78)",
        "\tat com.databricks.logging.AttributionContextTracing.withAttributionContext$(AttributionContextTracing.scala:75)",
        "\tat com.databricks.rpc.ServerBackend.withAttributionContext(ServerBackend.scala:23)",
        "\tat com.databricks.logging.AttributionContextTracing.withAttributionTags(AttributionContextTracing.scala:127)",
        "\tat com.databricks.logging.AttributionContextTracing.withAttributionTags$(AttributionContextTracing.scala:108)",
        "\tat com.databricks.rpc.ServerBackend.withAttributionTags(ServerBackend.scala:23)",
        "\tat com.databricks.logging.UsageLogging.recordOperationWithResultTags(UsageLogging.scala:611)",
        "\tat com.databricks.logging.UsageLogging.recordOperationWithResultTags$(UsageLogging.scala:519)",
        "\tat com.databricks.rpc.ServerBackend.recordOperationWithResultTags(ServerBackend.scala:23)",
        "\tat com.databricks.logging.UsageLogging.recordOperation(UsageLogging.scala:511)",
        "\tat com.databricks.logging.UsageLogging.recordOperation$(UsageLogging.scala:475)",
        "\tat com.databricks.rpc.ServerBackend.recordOperation(ServerBackend.scala:23)",
        "\tat com.databricks.rpc.ServerBackend.executeWithLogging$1(ServerBackend.scala:148)",
        "\tat com.databricks.rpc.ServerBackend.internalReceive(ServerBackend.scala:175)",
        "\tat com.databricks.rpc.JettyServer$RequestManager.handleRPC(JettyServer.scala:997)",
        "\tat com.databricks.rpc.JettyServer$RequestManager.handleRequestAndRespond(JettyServer.scala:917)",
        "\tat com.databricks.rpc.JettyServer$RequestManager.$anonfun$handleHttp$5(JettyServer.scala:557)",
        "\tat com.databricks.rpc.JettyServer$RequestManager.$anonfun$handleHttp$5$adapted(JettyServer.scala:522)",
        "\tat com.databricks.logging.activity.ActivityContextFactory$.$anonfun$withActivityInternal$12(ActivityContextFactory.scala:1096)",
        "\tat com.databricks.logging.AttributionContextTracing.$anonfun$withAttributionContext$1(AttributionContextTracing.scala:80)",
        "\tat com.databricks.logging.AttributionContext$.$anonfun$withValue$1(AttributionContext.scala:348)",
        "\tat scala.util.DynamicVariable.withValue(DynamicVariable.scala:59)",
        "\tat com.databricks.logging.AttributionContext$.withValue(AttributionContext.scala:344)",
        "\tat com.databricks.logging.AttributionContextTracing.withAttributionContext(AttributionContextTracing.scala:78)",
        "\tat com.databricks.logging.AttributionContextTracing.withAttributionContext$(AttributionContextTracing.scala:75)",
        "\tat com.databricks.logging.activity.ActivityContextFactory$.withAttributionContext(ActivityContextFactory.scala:63)",
        "\tat com.databricks.logging.activity.ActivityContextFactory$.$anonfun$withActivityInternal$2(ActivityContextFactory.scala:1096)",
        "\tat com.databricks.context.integrity.IntegrityCheckContext$ThreadLocalStorage$.withValue(IntegrityCheckContext.scala:73)",
        "\tat com.databricks.logging.activity.ActivityContextFactory$.withActivityInternal(ActivityContextFactory.scala:1058)",
        "\tat com.databricks.logging.activity.ActivityContextFactory$.withActivityInternal(ActivityContextFactory.scala:1039)",
        "\tat com.databricks.logging.activity.ActivityContextFactory$.$anonfun$withServiceRequestActivity$39(ActivityContextFactory.scala:406)",
        "\tat com.databricks.logging.AttributionContextTracing.$anonfun$withAttributionContext$1(AttributionContextTracing.scala:80)",
        "\tat com.databricks.logging.AttributionContext$.$anonfun$withValue$1(AttributionContext.scala:348)",
        "\tat scala.util.DynamicVariable.withValue(DynamicVariable.scala:59)",
        "\tat com.databricks.logging.AttributionContext$.withValue(AttributionContext.scala:344)",
        "\tat com.databricks.logging.AttributionContextTracing.withAttributionContext(AttributionContextTracing.scala:78)",
        "\tat com.databricks.logging.AttributionContextTracing.withAttributionContext$(AttributionContextTracing.scala:75)",
        "\tat com.databricks.logging.activity.ActivityContextFactory$.withAttributionContext(ActivityContextFactory.scala:63)",
        "\tat com.databricks.logging.activity.ActivityContextFactory$.withServiceRequestActivity(ActivityContextFactory.scala:406)",
        "\tat com.databricks.rpc.JettyServer$RequestManager.handleHttp(JettyServer.scala:522)",
        "\tat com.databricks.rpc.JettyServer$RequestManager.doPost(JettyServer.scala:417)",
        "\tat javax.servlet.http.HttpServlet.service(HttpServlet.java:665)",
        "\tat com.databricks.rpc.HttpServletWithPatch.service(HttpServletWithPatch.scala:33)",
        "\tat javax.servlet.http.HttpServlet.service(HttpServlet.java:750)",
        "\tat org.eclipse.jetty.servlet.ServletHolder.handle(ServletHolder.java:799)",
        "\tat org.eclipse.jetty.servlet.ServletHandler.doHandle(ServletHandler.java:554)",
        "\tat org.eclipse.jetty.server.handler.ScopedHandler.nextScope(ScopedHandler.java:190)",
        "\tat org.eclipse.jetty.servlet.ServletHandler.doScope(ServletHandler.java:505)",
        "\tat org.eclipse.jetty.server.handler.ScopedHandler.handle(ScopedHandler.java:141)",
        "\tat org.eclipse.jetty.server.handler.HandlerWrapper.handle(HandlerWrapper.java:127)",
        "\tat org.eclipse.jetty.server.Server.handle(Server.java:516)",
        "\tat org.eclipse.jetty.server.HttpChannel.lambda$handle$1(HttpChannel.java:487)",
        "\tat org.eclipse.jetty.server.HttpChannel.dispatch(HttpChannel.java:732)",
        "\tat org.eclipse.jetty.server.HttpChannel.handle(HttpChannel.java:479)",
        "\tat org.eclipse.jetty.server.HttpConnection.onFillable(HttpConnection.java:277)",
        "\tat org.eclipse.jetty.io.AbstractConnection$ReadCallback.succeeded(AbstractConnection.java:311)",
        "\tat org.eclipse.jetty.io.FillInterest.fillable(FillInterest.java:105)",
        "\tat org.eclipse.jetty.io.ssl.SslConnection$DecryptedEndPoint.onFillable(SslConnection.java:555)",
        "\tat org.eclipse.jetty.io.ssl.SslConnection.onFillable(SslConnection.java:410)",
        "\tat org.eclipse.jetty.io.ssl.SslConnection$2.succeeded(SslConnection.java:164)",
        "\tat org.eclipse.jetty.io.FillInterest.fillable(FillInterest.java:105)",
        "\tat org.eclipse.jetty.io.ChannelEndPoint$1.run(ChannelEndPoint.java:104)",
        "\tat org.eclipse.jetty.util.thread.strategy.EatWhatYouKill.runTask(EatWhatYouKill.java:338)",
        "\tat org.eclipse.jetty.util.thread.strategy.EatWhatYouKill.doProduce(EatWhatYouKill.java:315)",
        "\tat org.eclipse.jetty.util.thread.strategy.EatWhatYouKill.tryProduce(EatWhatYouKill.java:173)",
        "\tat org.eclipse.jetty.util.thread.strategy.EatWhatYouKill.run(EatWhatYouKill.java:131)",
        "\tat org.eclipse.jetty.util.thread.ReservedThreadExecutor$ReservedThread.run(ReservedThreadExecutor.java:409)",
        "\tat com.databricks.rpc.InstrumentedQueuedThreadPool$$anon$1.$anonfun$run$2(InstrumentedQueuedThreadPool.scala:111)",
        "\tat scala.runtime.java8.JFunction0$mcV$sp.apply(JFunction0$mcV$sp.scala:18)",
        "\tat com.databricks.logging.AttributionContextTracing.$anonfun$withAttributionContext$1(AttributionContextTracing.scala:80)",
        "\tat com.databricks.logging.AttributionContext$.$anonfun$withValue$1(AttributionContext.scala:348)",
        "\tat scala.util.DynamicVariable.withValue(DynamicVariable.scala:59)",
        "\tat com.databricks.logging.AttributionContext$.withValue(AttributionContext.scala:344)",
        "\tat com.databricks.logging.AttributionContextTracing.withAttributionContext(AttributionContextTracing.scala:78)",
        "\tat com.databricks.logging.AttributionContextTracing.withAttributionContext$(AttributionContextTracing.scala:75)",
        "\tat com.databricks.rpc.InstrumentedQueuedThreadPool.withAttributionContext(InstrumentedQueuedThreadPool.scala:46)",
        "\tat com.databricks.rpc.InstrumentedQueuedThreadPool$$anon$1.$anonfun$run$1(InstrumentedQueuedThreadPool.scala:111)",
        "\tat scala.runtime.java8.JFunction0$mcV$sp.apply(JFunction0$mcV$sp.scala:18)",
        "\tat com.databricks.instrumentation.QueuedThreadPoolInstrumenter.trackActiveThreads(QueuedThreadPoolInstrumenter.scala:132)",
        "\tat com.databricks.instrumentation.QueuedThreadPoolInstrumenter.trackActiveThreads$(QueuedThreadPoolInstrumenter.scala:129)",
        "\tat com.databricks.rpc.InstrumentedQueuedThreadPool.trackActiveThreads(InstrumentedQueuedThreadPool.scala:46)",
        "\tat com.databricks.rpc.InstrumentedQueuedThreadPool$$anon$1.run(InstrumentedQueuedThreadPool.scala:93)",
        "\tat org.eclipse.jetty.util.thread.QueuedThreadPool.runJob(QueuedThreadPool.java:883)",
        "\tat org.eclipse.jetty.util.thread.QueuedThreadPool$Runner.run(QueuedThreadPool.java:1034)",
        "\tat java.base/java.lang.Thread.run(Thread.java:840)"
       ],
       "type": "baseError"
      }
     },
     "output_type": "display_data"
    }
   ],
   "source": [
    "\n"
   ]
  },
  {
   "cell_type": "code",
   "execution_count": 0,
   "metadata": {
    "application/vnd.databricks.v1+cell": {
     "cellMetadata": {
      "byteLimit": 2048000,
      "rowLimit": 10000
     },
     "inputWidgets": {},
     "nuid": "ceec8311-e799-4ef1-8880-8aaec9e1e74c",
     "showTitle": false,
     "tableResultSettingsMap": {},
     "title": ""
    }
   },
   "outputs": [
    {
     "output_type": "display_data",
     "data": {
      "text/plain": [
       "com.databricks.backend.common.rpc.CommandSkippedException\n",
       "\tat com.databricks.spark.chauffeur.SequenceExecutionState.$anonfun$cancel$3(SequenceExecutionState.scala:134)\n",
       "\tat com.databricks.spark.chauffeur.SequenceExecutionState.$anonfun$cancel$3$adapted(SequenceExecutionState.scala:129)\n",
       "\tat scala.collection.immutable.Range.foreach(Range.scala:192)\n",
       "\tat com.databricks.spark.chauffeur.SequenceExecutionState.cancel(SequenceExecutionState.scala:129)\n",
       "\tat com.databricks.spark.chauffeur.ExecContextState.cancelRunningSequence(ExecContextState.scala:715)\n",
       "\tat com.databricks.spark.chauffeur.ExecContextState.$anonfun$cancel$1(ExecContextState.scala:435)\n",
       "\tat scala.Option.getOrElse(Option.scala:201)\n",
       "\tat com.databricks.spark.chauffeur.ExecContextState.cancel(ExecContextState.scala:435)\n",
       "\tat com.databricks.spark.chauffeur.ExecutionContextManagerV1.cancelExecution(ExecutionContextManagerV1.scala:465)\n",
       "\tat com.databricks.spark.chauffeur.ChauffeurState.$anonfun$process$1(ChauffeurState.scala:741)\n",
       "\tat com.databricks.logging.UsageLogging.$anonfun$recordOperation$1(UsageLogging.scala:510)\n",
       "\tat com.databricks.logging.UsageLogging.executeThunkAndCaptureResultTags$1(UsageLogging.scala:616)\n",
       "\tat com.databricks.logging.UsageLogging.$anonfun$recordOperationWithResultTags$4(UsageLogging.scala:643)\n",
       "\tat com.databricks.logging.AttributionContextTracing.$anonfun$withAttributionContext$1(AttributionContextTracing.scala:80)\n",
       "\tat com.databricks.logging.AttributionContext$.$anonfun$withValue$1(AttributionContext.scala:348)\n",
       "\tat scala.util.DynamicVariable.withValue(DynamicVariable.scala:59)\n",
       "\tat com.databricks.logging.AttributionContext$.withValue(AttributionContext.scala:344)\n",
       "\tat com.databricks.logging.AttributionContextTracing.withAttributionContext(AttributionContextTracing.scala:78)\n",
       "\tat com.databricks.logging.AttributionContextTracing.withAttributionContext$(AttributionContextTracing.scala:75)\n",
       "\tat com.databricks.spark.chauffeur.ChauffeurState.withAttributionContext(ChauffeurState.scala:84)\n",
       "\tat com.databricks.logging.AttributionContextTracing.withAttributionTags(AttributionContextTracing.scala:127)\n",
       "\tat com.databricks.logging.AttributionContextTracing.withAttributionTags$(AttributionContextTracing.scala:108)\n",
       "\tat com.databricks.spark.chauffeur.ChauffeurState.withAttributionTags(ChauffeurState.scala:84)\n",
       "\tat com.databricks.logging.UsageLogging.recordOperationWithResultTags(UsageLogging.scala:611)\n",
       "\tat com.databricks.logging.UsageLogging.recordOperationWithResultTags$(UsageLogging.scala:519)\n",
       "\tat com.databricks.spark.chauffeur.ChauffeurState.recordOperationWithResultTags(ChauffeurState.scala:84)\n",
       "\tat com.databricks.logging.UsageLogging.recordOperation(UsageLogging.scala:511)\n",
       "\tat com.databricks.logging.UsageLogging.recordOperation$(UsageLogging.scala:475)\n",
       "\tat com.databricks.spark.chauffeur.ChauffeurState.recordOperation(ChauffeurState.scala:84)\n",
       "\tat com.databricks.spark.chauffeur.ChauffeurState.process(ChauffeurState.scala:719)\n",
       "\tat com.databricks.spark.chauffeur.Chauffeur$$anon$1$$anonfun$com$databricks$spark$chauffeur$Chauffeur$$nestedInanon$$receiveInternal$1.handleDriverRequest$1(Chauffeur.scala:918)\n",
       "\tat com.databricks.spark.chauffeur.Chauffeur$$anon$1$$anonfun$com$databricks$spark$chauffeur$Chauffeur$$nestedInanon$$receiveInternal$1.$anonfun$applyOrElse$3(Chauffeur.scala:944)\n",
       "\tat com.databricks.logging.UsageLogging.executeThunkAndCaptureResultTags$1(UsageLogging.scala:616)\n",
       "\tat com.databricks.logging.UsageLogging.$anonfun$recordOperationWithResultTags$4(UsageLogging.scala:643)\n",
       "\tat com.databricks.logging.AttributionContextTracing.$anonfun$withAttributionContext$1(AttributionContextTracing.scala:80)\n",
       "\tat com.databricks.logging.AttributionContext$.$anonfun$withValue$1(AttributionContext.scala:348)\n",
       "\tat scala.util.DynamicVariable.withValue(DynamicVariable.scala:59)\n",
       "\tat com.databricks.logging.AttributionContext$.withValue(AttributionContext.scala:344)\n",
       "\tat com.databricks.logging.AttributionContextTracing.withAttributionContext(AttributionContextTracing.scala:78)\n",
       "\tat com.databricks.logging.AttributionContextTracing.withAttributionContext$(AttributionContextTracing.scala:75)\n",
       "\tat com.databricks.rpc.ServerBackend.withAttributionContext(ServerBackend.scala:23)\n",
       "\tat com.databricks.logging.AttributionContextTracing.withAttributionTags(AttributionContextTracing.scala:127)\n",
       "\tat com.databricks.logging.AttributionContextTracing.withAttributionTags$(AttributionContextTracing.scala:108)\n",
       "\tat com.databricks.rpc.ServerBackend.withAttributionTags(ServerBackend.scala:23)\n",
       "\tat com.databricks.logging.UsageLogging.recordOperationWithResultTags(UsageLogging.scala:611)\n",
       "\tat com.databricks.logging.UsageLogging.recordOperationWithResultTags$(UsageLogging.scala:519)\n",
       "\tat com.databricks.rpc.ServerBackend.recordOperationWithResultTags(ServerBackend.scala:23)\n",
       "\tat com.databricks.spark.chauffeur.Chauffeur$$anon$1$$anonfun$com$databricks$spark$chauffeur$Chauffeur$$nestedInanon$$receiveInternal$1.handleDriverRequestWithUsageLogging$1(Chauffeur.scala:943)\n",
       "\tat com.databricks.spark.chauffeur.Chauffeur$$anon$1$$anonfun$com$databricks$spark$chauffeur$Chauffeur$$nestedInanon$$receiveInternal$1.applyOrElse(Chauffeur.scala:998)\n",
       "\tat com.databricks.spark.chauffeur.Chauffeur$$anon$1$$anonfun$com$databricks$spark$chauffeur$Chauffeur$$nestedInanon$$receiveInternal$1.applyOrElse(Chauffeur.scala:801)\n",
       "\tat scala.runtime.AbstractPartialFunction.apply(AbstractPartialFunction.scala:35)\n",
       "\tat com.databricks.spark.chauffeur.Chauffeur$$anon$1$$anonfun$receive$1.applyOrElse(Chauffeur.scala:797)\n",
       "\tat com.databricks.spark.chauffeur.Chauffeur$$anon$1$$anonfun$receive$1.applyOrElse(Chauffeur.scala:792)\n",
       "\tat com.databricks.rpc.ServerBackend.$anonfun$internalReceive0$2(ServerBackend.scala:189)\n",
       "\tat com.databricks.rpc.ServerBackend$$anonfun$commonReceive$1.applyOrElse(ServerBackend.scala:215)\n",
       "\tat com.databricks.rpc.ServerBackend$$anonfun$commonReceive$1.applyOrElse(ServerBackend.scala:215)\n",
       "\tat com.databricks.rpc.ServerBackend.internalReceive0(ServerBackend.scala:186)\n",
       "\tat com.databricks.rpc.ServerBackend.$anonfun$internalReceive$5(ServerBackend.scala:175)\n",
       "\tat com.databricks.logging.UsageLogging.$anonfun$recordOperation$1(UsageLogging.scala:510)\n",
       "\tat com.databricks.logging.UsageLogging.executeThunkAndCaptureResultTags$1(UsageLogging.scala:616)\n",
       "\tat com.databricks.logging.UsageLogging.$anonfun$recordOperationWithResultTags$4(UsageLogging.scala:643)\n",
       "\tat com.databricks.logging.AttributionContextTracing.$anonfun$withAttributionContext$1(AttributionContextTracing.scala:80)\n",
       "\tat com.databricks.logging.AttributionContext$.$anonfun$withValue$1(AttributionContext.scala:348)\n",
       "\tat scala.util.DynamicVariable.withValue(DynamicVariable.scala:59)\n",
       "\tat com.databricks.logging.AttributionContext$.withValue(AttributionContext.scala:344)\n",
       "\tat com.databricks.logging.AttributionContextTracing.withAttributionContext(AttributionContextTracing.scala:78)\n",
       "\tat com.databricks.logging.AttributionContextTracing.withAttributionContext$(AttributionContextTracing.scala:75)\n",
       "\tat com.databricks.rpc.ServerBackend.withAttributionContext(ServerBackend.scala:23)\n",
       "\tat com.databricks.logging.AttributionContextTracing.withAttributionTags(AttributionContextTracing.scala:127)\n",
       "\tat com.databricks.logging.AttributionContextTracing.withAttributionTags$(AttributionContextTracing.scala:108)\n",
       "\tat com.databricks.rpc.ServerBackend.withAttributionTags(ServerBackend.scala:23)\n",
       "\tat com.databricks.logging.UsageLogging.recordOperationWithResultTags(UsageLogging.scala:611)\n",
       "\tat com.databricks.logging.UsageLogging.recordOperationWithResultTags$(UsageLogging.scala:519)\n",
       "\tat com.databricks.rpc.ServerBackend.recordOperationWithResultTags(ServerBackend.scala:23)\n",
       "\tat com.databricks.logging.UsageLogging.recordOperation(UsageLogging.scala:511)\n",
       "\tat com.databricks.logging.UsageLogging.recordOperation$(UsageLogging.scala:475)\n",
       "\tat com.databricks.rpc.ServerBackend.recordOperation(ServerBackend.scala:23)\n",
       "\tat com.databricks.rpc.ServerBackend.executeWithLogging$1(ServerBackend.scala:148)\n",
       "\tat com.databricks.rpc.ServerBackend.internalReceive(ServerBackend.scala:175)\n",
       "\tat com.databricks.rpc.JettyServer$RequestManager.handleRPC(JettyServer.scala:997)\n",
       "\tat com.databricks.rpc.JettyServer$RequestManager.handleRequestAndRespond(JettyServer.scala:917)\n",
       "\tat com.databricks.rpc.JettyServer$RequestManager.$anonfun$handleHttp$5(JettyServer.scala:557)\n",
       "\tat com.databricks.rpc.JettyServer$RequestManager.$anonfun$handleHttp$5$adapted(JettyServer.scala:522)\n",
       "\tat com.databricks.logging.activity.ActivityContextFactory$.$anonfun$withActivityInternal$12(ActivityContextFactory.scala:1096)\n",
       "\tat com.databricks.logging.AttributionContextTracing.$anonfun$withAttributionContext$1(AttributionContextTracing.scala:80)\n",
       "\tat com.databricks.logging.AttributionContext$.$anonfun$withValue$1(AttributionContext.scala:348)\n",
       "\tat scala.util.DynamicVariable.withValue(DynamicVariable.scala:59)\n",
       "\tat com.databricks.logging.AttributionContext$.withValue(AttributionContext.scala:344)\n",
       "\tat com.databricks.logging.AttributionContextTracing.withAttributionContext(AttributionContextTracing.scala:78)\n",
       "\tat com.databricks.logging.AttributionContextTracing.withAttributionContext$(AttributionContextTracing.scala:75)\n",
       "\tat com.databricks.logging.activity.ActivityContextFactory$.withAttributionContext(ActivityContextFactory.scala:63)\n",
       "\tat com.databricks.logging.activity.ActivityContextFactory$.$anonfun$withActivityInternal$2(ActivityContextFactory.scala:1096)\n",
       "\tat com.databricks.context.integrity.IntegrityCheckContext$ThreadLocalStorage$.withValue(IntegrityCheckContext.scala:73)\n",
       "\tat com.databricks.logging.activity.ActivityContextFactory$.withActivityInternal(ActivityContextFactory.scala:1058)\n",
       "\tat com.databricks.logging.activity.ActivityContextFactory$.withActivityInternal(ActivityContextFactory.scala:1039)\n",
       "\tat com.databricks.logging.activity.ActivityContextFactory$.$anonfun$withServiceRequestActivity$39(ActivityContextFactory.scala:406)\n",
       "\tat com.databricks.logging.AttributionContextTracing.$anonfun$withAttributionContext$1(AttributionContextTracing.scala:80)\n",
       "\tat com.databricks.logging.AttributionContext$.$anonfun$withValue$1(AttributionContext.scala:348)\n",
       "\tat scala.util.DynamicVariable.withValue(DynamicVariable.scala:59)\n",
       "\tat com.databricks.logging.AttributionContext$.withValue(AttributionContext.scala:344)\n",
       "\tat com.databricks.logging.AttributionContextTracing.withAttributionContext(AttributionContextTracing.scala:78)\n",
       "\tat com.databricks.logging.AttributionContextTracing.withAttributionContext$(AttributionContextTracing.scala:75)\n",
       "\tat com.databricks.logging.activity.ActivityContextFactory$.withAttributionContext(ActivityContextFactory.scala:63)\n",
       "\tat com.databricks.logging.activity.ActivityContextFactory$.withServiceRequestActivity(ActivityContextFactory.scala:406)\n",
       "\tat com.databricks.rpc.JettyServer$RequestManager.handleHttp(JettyServer.scala:522)\n",
       "\tat com.databricks.rpc.JettyServer$RequestManager.doPost(JettyServer.scala:417)\n",
       "\tat javax.servlet.http.HttpServlet.service(HttpServlet.java:665)\n",
       "\tat com.databricks.rpc.HttpServletWithPatch.service(HttpServletWithPatch.scala:33)\n",
       "\tat javax.servlet.http.HttpServlet.service(HttpServlet.java:750)\n",
       "\tat org.eclipse.jetty.servlet.ServletHolder.handle(ServletHolder.java:799)\n",
       "\tat org.eclipse.jetty.servlet.ServletHandler.doHandle(ServletHandler.java:554)\n",
       "\tat org.eclipse.jetty.server.handler.ScopedHandler.nextScope(ScopedHandler.java:190)\n",
       "\tat org.eclipse.jetty.servlet.ServletHandler.doScope(ServletHandler.java:505)\n",
       "\tat org.eclipse.jetty.server.handler.ScopedHandler.handle(ScopedHandler.java:141)\n",
       "\tat org.eclipse.jetty.server.handler.HandlerWrapper.handle(HandlerWrapper.java:127)\n",
       "\tat org.eclipse.jetty.server.Server.handle(Server.java:516)\n",
       "\tat org.eclipse.jetty.server.HttpChannel.lambda$handle$1(HttpChannel.java:487)\n",
       "\tat org.eclipse.jetty.server.HttpChannel.dispatch(HttpChannel.java:732)\n",
       "\tat org.eclipse.jetty.server.HttpChannel.handle(HttpChannel.java:479)\n",
       "\tat org.eclipse.jetty.server.HttpConnection.onFillable(HttpConnection.java:277)\n",
       "\tat org.eclipse.jetty.io.AbstractConnection$ReadCallback.succeeded(AbstractConnection.java:311)\n",
       "\tat org.eclipse.jetty.io.FillInterest.fillable(FillInterest.java:105)\n",
       "\tat org.eclipse.jetty.io.ssl.SslConnection$DecryptedEndPoint.onFillable(SslConnection.java:555)\n",
       "\tat org.eclipse.jetty.io.ssl.SslConnection.onFillable(SslConnection.java:410)\n",
       "\tat org.eclipse.jetty.io.ssl.SslConnection$2.succeeded(SslConnection.java:164)\n",
       "\tat org.eclipse.jetty.io.FillInterest.fillable(FillInterest.java:105)\n",
       "\tat org.eclipse.jetty.io.ChannelEndPoint$1.run(ChannelEndPoint.java:104)\n",
       "\tat org.eclipse.jetty.util.thread.strategy.EatWhatYouKill.runTask(EatWhatYouKill.java:338)\n",
       "\tat org.eclipse.jetty.util.thread.strategy.EatWhatYouKill.doProduce(EatWhatYouKill.java:315)\n",
       "\tat org.eclipse.jetty.util.thread.strategy.EatWhatYouKill.tryProduce(EatWhatYouKill.java:173)\n",
       "\tat org.eclipse.jetty.util.thread.strategy.EatWhatYouKill.run(EatWhatYouKill.java:131)\n",
       "\tat org.eclipse.jetty.util.thread.ReservedThreadExecutor$ReservedThread.run(ReservedThreadExecutor.java:409)\n",
       "\tat com.databricks.rpc.InstrumentedQueuedThreadPool$$anon$1.$anonfun$run$2(InstrumentedQueuedThreadPool.scala:111)\n",
       "\tat scala.runtime.java8.JFunction0$mcV$sp.apply(JFunction0$mcV$sp.scala:18)\n",
       "\tat com.databricks.logging.AttributionContextTracing.$anonfun$withAttributionContext$1(AttributionContextTracing.scala:80)\n",
       "\tat com.databricks.logging.AttributionContext$.$anonfun$withValue$1(AttributionContext.scala:348)\n",
       "\tat scala.util.DynamicVariable.withValue(DynamicVariable.scala:59)\n",
       "\tat com.databricks.logging.AttributionContext$.withValue(AttributionContext.scala:344)\n",
       "\tat com.databricks.logging.AttributionContextTracing.withAttributionContext(AttributionContextTracing.scala:78)\n",
       "\tat com.databricks.logging.AttributionContextTracing.withAttributionContext$(AttributionContextTracing.scala:75)\n",
       "\tat com.databricks.rpc.InstrumentedQueuedThreadPool.withAttributionContext(InstrumentedQueuedThreadPool.scala:46)\n",
       "\tat com.databricks.rpc.InstrumentedQueuedThreadPool$$anon$1.$anonfun$run$1(InstrumentedQueuedThreadPool.scala:111)\n",
       "\tat scala.runtime.java8.JFunction0$mcV$sp.apply(JFunction0$mcV$sp.scala:18)\n",
       "\tat com.databricks.instrumentation.QueuedThreadPoolInstrumenter.trackActiveThreads(QueuedThreadPoolInstrumenter.scala:132)\n",
       "\tat com.databricks.instrumentation.QueuedThreadPoolInstrumenter.trackActiveThreads$(QueuedThreadPoolInstrumenter.scala:129)\n",
       "\tat com.databricks.rpc.InstrumentedQueuedThreadPool.trackActiveThreads(InstrumentedQueuedThreadPool.scala:46)\n",
       "\tat com.databricks.rpc.InstrumentedQueuedThreadPool$$anon$1.run(InstrumentedQueuedThreadPool.scala:93)\n",
       "\tat org.eclipse.jetty.util.thread.QueuedThreadPool.runJob(QueuedThreadPool.java:883)\n",
       "\tat org.eclipse.jetty.util.thread.QueuedThreadPool$Runner.run(QueuedThreadPool.java:1034)\n",
       "\tat java.base/java.lang.Thread.run(Thread.java:840)"
      ]
     },
     "metadata": {
      "application/vnd.databricks.v1+output": {
       "addedWidgets": {},
       "arguments": {},
       "datasetInfos": [],
       "jupyterProps": null,
       "metadata": {
        "errorSummary": "Command skipped"
       },
       "removedWidgets": [],
       "sqlProps": null,
       "stackFrames": [
        "com.databricks.backend.common.rpc.CommandSkippedException",
        "\tat com.databricks.spark.chauffeur.SequenceExecutionState.$anonfun$cancel$3(SequenceExecutionState.scala:134)",
        "\tat com.databricks.spark.chauffeur.SequenceExecutionState.$anonfun$cancel$3$adapted(SequenceExecutionState.scala:129)",
        "\tat scala.collection.immutable.Range.foreach(Range.scala:192)",
        "\tat com.databricks.spark.chauffeur.SequenceExecutionState.cancel(SequenceExecutionState.scala:129)",
        "\tat com.databricks.spark.chauffeur.ExecContextState.cancelRunningSequence(ExecContextState.scala:715)",
        "\tat com.databricks.spark.chauffeur.ExecContextState.$anonfun$cancel$1(ExecContextState.scala:435)",
        "\tat scala.Option.getOrElse(Option.scala:201)",
        "\tat com.databricks.spark.chauffeur.ExecContextState.cancel(ExecContextState.scala:435)",
        "\tat com.databricks.spark.chauffeur.ExecutionContextManagerV1.cancelExecution(ExecutionContextManagerV1.scala:465)",
        "\tat com.databricks.spark.chauffeur.ChauffeurState.$anonfun$process$1(ChauffeurState.scala:741)",
        "\tat com.databricks.logging.UsageLogging.$anonfun$recordOperation$1(UsageLogging.scala:510)",
        "\tat com.databricks.logging.UsageLogging.executeThunkAndCaptureResultTags$1(UsageLogging.scala:616)",
        "\tat com.databricks.logging.UsageLogging.$anonfun$recordOperationWithResultTags$4(UsageLogging.scala:643)",
        "\tat com.databricks.logging.AttributionContextTracing.$anonfun$withAttributionContext$1(AttributionContextTracing.scala:80)",
        "\tat com.databricks.logging.AttributionContext$.$anonfun$withValue$1(AttributionContext.scala:348)",
        "\tat scala.util.DynamicVariable.withValue(DynamicVariable.scala:59)",
        "\tat com.databricks.logging.AttributionContext$.withValue(AttributionContext.scala:344)",
        "\tat com.databricks.logging.AttributionContextTracing.withAttributionContext(AttributionContextTracing.scala:78)",
        "\tat com.databricks.logging.AttributionContextTracing.withAttributionContext$(AttributionContextTracing.scala:75)",
        "\tat com.databricks.spark.chauffeur.ChauffeurState.withAttributionContext(ChauffeurState.scala:84)",
        "\tat com.databricks.logging.AttributionContextTracing.withAttributionTags(AttributionContextTracing.scala:127)",
        "\tat com.databricks.logging.AttributionContextTracing.withAttributionTags$(AttributionContextTracing.scala:108)",
        "\tat com.databricks.spark.chauffeur.ChauffeurState.withAttributionTags(ChauffeurState.scala:84)",
        "\tat com.databricks.logging.UsageLogging.recordOperationWithResultTags(UsageLogging.scala:611)",
        "\tat com.databricks.logging.UsageLogging.recordOperationWithResultTags$(UsageLogging.scala:519)",
        "\tat com.databricks.spark.chauffeur.ChauffeurState.recordOperationWithResultTags(ChauffeurState.scala:84)",
        "\tat com.databricks.logging.UsageLogging.recordOperation(UsageLogging.scala:511)",
        "\tat com.databricks.logging.UsageLogging.recordOperation$(UsageLogging.scala:475)",
        "\tat com.databricks.spark.chauffeur.ChauffeurState.recordOperation(ChauffeurState.scala:84)",
        "\tat com.databricks.spark.chauffeur.ChauffeurState.process(ChauffeurState.scala:719)",
        "\tat com.databricks.spark.chauffeur.Chauffeur$$anon$1$$anonfun$com$databricks$spark$chauffeur$Chauffeur$$nestedInanon$$receiveInternal$1.handleDriverRequest$1(Chauffeur.scala:918)",
        "\tat com.databricks.spark.chauffeur.Chauffeur$$anon$1$$anonfun$com$databricks$spark$chauffeur$Chauffeur$$nestedInanon$$receiveInternal$1.$anonfun$applyOrElse$3(Chauffeur.scala:944)",
        "\tat com.databricks.logging.UsageLogging.executeThunkAndCaptureResultTags$1(UsageLogging.scala:616)",
        "\tat com.databricks.logging.UsageLogging.$anonfun$recordOperationWithResultTags$4(UsageLogging.scala:643)",
        "\tat com.databricks.logging.AttributionContextTracing.$anonfun$withAttributionContext$1(AttributionContextTracing.scala:80)",
        "\tat com.databricks.logging.AttributionContext$.$anonfun$withValue$1(AttributionContext.scala:348)",
        "\tat scala.util.DynamicVariable.withValue(DynamicVariable.scala:59)",
        "\tat com.databricks.logging.AttributionContext$.withValue(AttributionContext.scala:344)",
        "\tat com.databricks.logging.AttributionContextTracing.withAttributionContext(AttributionContextTracing.scala:78)",
        "\tat com.databricks.logging.AttributionContextTracing.withAttributionContext$(AttributionContextTracing.scala:75)",
        "\tat com.databricks.rpc.ServerBackend.withAttributionContext(ServerBackend.scala:23)",
        "\tat com.databricks.logging.AttributionContextTracing.withAttributionTags(AttributionContextTracing.scala:127)",
        "\tat com.databricks.logging.AttributionContextTracing.withAttributionTags$(AttributionContextTracing.scala:108)",
        "\tat com.databricks.rpc.ServerBackend.withAttributionTags(ServerBackend.scala:23)",
        "\tat com.databricks.logging.UsageLogging.recordOperationWithResultTags(UsageLogging.scala:611)",
        "\tat com.databricks.logging.UsageLogging.recordOperationWithResultTags$(UsageLogging.scala:519)",
        "\tat com.databricks.rpc.ServerBackend.recordOperationWithResultTags(ServerBackend.scala:23)",
        "\tat com.databricks.spark.chauffeur.Chauffeur$$anon$1$$anonfun$com$databricks$spark$chauffeur$Chauffeur$$nestedInanon$$receiveInternal$1.handleDriverRequestWithUsageLogging$1(Chauffeur.scala:943)",
        "\tat com.databricks.spark.chauffeur.Chauffeur$$anon$1$$anonfun$com$databricks$spark$chauffeur$Chauffeur$$nestedInanon$$receiveInternal$1.applyOrElse(Chauffeur.scala:998)",
        "\tat com.databricks.spark.chauffeur.Chauffeur$$anon$1$$anonfun$com$databricks$spark$chauffeur$Chauffeur$$nestedInanon$$receiveInternal$1.applyOrElse(Chauffeur.scala:801)",
        "\tat scala.runtime.AbstractPartialFunction.apply(AbstractPartialFunction.scala:35)",
        "\tat com.databricks.spark.chauffeur.Chauffeur$$anon$1$$anonfun$receive$1.applyOrElse(Chauffeur.scala:797)",
        "\tat com.databricks.spark.chauffeur.Chauffeur$$anon$1$$anonfun$receive$1.applyOrElse(Chauffeur.scala:792)",
        "\tat com.databricks.rpc.ServerBackend.$anonfun$internalReceive0$2(ServerBackend.scala:189)",
        "\tat com.databricks.rpc.ServerBackend$$anonfun$commonReceive$1.applyOrElse(ServerBackend.scala:215)",
        "\tat com.databricks.rpc.ServerBackend$$anonfun$commonReceive$1.applyOrElse(ServerBackend.scala:215)",
        "\tat com.databricks.rpc.ServerBackend.internalReceive0(ServerBackend.scala:186)",
        "\tat com.databricks.rpc.ServerBackend.$anonfun$internalReceive$5(ServerBackend.scala:175)",
        "\tat com.databricks.logging.UsageLogging.$anonfun$recordOperation$1(UsageLogging.scala:510)",
        "\tat com.databricks.logging.UsageLogging.executeThunkAndCaptureResultTags$1(UsageLogging.scala:616)",
        "\tat com.databricks.logging.UsageLogging.$anonfun$recordOperationWithResultTags$4(UsageLogging.scala:643)",
        "\tat com.databricks.logging.AttributionContextTracing.$anonfun$withAttributionContext$1(AttributionContextTracing.scala:80)",
        "\tat com.databricks.logging.AttributionContext$.$anonfun$withValue$1(AttributionContext.scala:348)",
        "\tat scala.util.DynamicVariable.withValue(DynamicVariable.scala:59)",
        "\tat com.databricks.logging.AttributionContext$.withValue(AttributionContext.scala:344)",
        "\tat com.databricks.logging.AttributionContextTracing.withAttributionContext(AttributionContextTracing.scala:78)",
        "\tat com.databricks.logging.AttributionContextTracing.withAttributionContext$(AttributionContextTracing.scala:75)",
        "\tat com.databricks.rpc.ServerBackend.withAttributionContext(ServerBackend.scala:23)",
        "\tat com.databricks.logging.AttributionContextTracing.withAttributionTags(AttributionContextTracing.scala:127)",
        "\tat com.databricks.logging.AttributionContextTracing.withAttributionTags$(AttributionContextTracing.scala:108)",
        "\tat com.databricks.rpc.ServerBackend.withAttributionTags(ServerBackend.scala:23)",
        "\tat com.databricks.logging.UsageLogging.recordOperationWithResultTags(UsageLogging.scala:611)",
        "\tat com.databricks.logging.UsageLogging.recordOperationWithResultTags$(UsageLogging.scala:519)",
        "\tat com.databricks.rpc.ServerBackend.recordOperationWithResultTags(ServerBackend.scala:23)",
        "\tat com.databricks.logging.UsageLogging.recordOperation(UsageLogging.scala:511)",
        "\tat com.databricks.logging.UsageLogging.recordOperation$(UsageLogging.scala:475)",
        "\tat com.databricks.rpc.ServerBackend.recordOperation(ServerBackend.scala:23)",
        "\tat com.databricks.rpc.ServerBackend.executeWithLogging$1(ServerBackend.scala:148)",
        "\tat com.databricks.rpc.ServerBackend.internalReceive(ServerBackend.scala:175)",
        "\tat com.databricks.rpc.JettyServer$RequestManager.handleRPC(JettyServer.scala:997)",
        "\tat com.databricks.rpc.JettyServer$RequestManager.handleRequestAndRespond(JettyServer.scala:917)",
        "\tat com.databricks.rpc.JettyServer$RequestManager.$anonfun$handleHttp$5(JettyServer.scala:557)",
        "\tat com.databricks.rpc.JettyServer$RequestManager.$anonfun$handleHttp$5$adapted(JettyServer.scala:522)",
        "\tat com.databricks.logging.activity.ActivityContextFactory$.$anonfun$withActivityInternal$12(ActivityContextFactory.scala:1096)",
        "\tat com.databricks.logging.AttributionContextTracing.$anonfun$withAttributionContext$1(AttributionContextTracing.scala:80)",
        "\tat com.databricks.logging.AttributionContext$.$anonfun$withValue$1(AttributionContext.scala:348)",
        "\tat scala.util.DynamicVariable.withValue(DynamicVariable.scala:59)",
        "\tat com.databricks.logging.AttributionContext$.withValue(AttributionContext.scala:344)",
        "\tat com.databricks.logging.AttributionContextTracing.withAttributionContext(AttributionContextTracing.scala:78)",
        "\tat com.databricks.logging.AttributionContextTracing.withAttributionContext$(AttributionContextTracing.scala:75)",
        "\tat com.databricks.logging.activity.ActivityContextFactory$.withAttributionContext(ActivityContextFactory.scala:63)",
        "\tat com.databricks.logging.activity.ActivityContextFactory$.$anonfun$withActivityInternal$2(ActivityContextFactory.scala:1096)",
        "\tat com.databricks.context.integrity.IntegrityCheckContext$ThreadLocalStorage$.withValue(IntegrityCheckContext.scala:73)",
        "\tat com.databricks.logging.activity.ActivityContextFactory$.withActivityInternal(ActivityContextFactory.scala:1058)",
        "\tat com.databricks.logging.activity.ActivityContextFactory$.withActivityInternal(ActivityContextFactory.scala:1039)",
        "\tat com.databricks.logging.activity.ActivityContextFactory$.$anonfun$withServiceRequestActivity$39(ActivityContextFactory.scala:406)",
        "\tat com.databricks.logging.AttributionContextTracing.$anonfun$withAttributionContext$1(AttributionContextTracing.scala:80)",
        "\tat com.databricks.logging.AttributionContext$.$anonfun$withValue$1(AttributionContext.scala:348)",
        "\tat scala.util.DynamicVariable.withValue(DynamicVariable.scala:59)",
        "\tat com.databricks.logging.AttributionContext$.withValue(AttributionContext.scala:344)",
        "\tat com.databricks.logging.AttributionContextTracing.withAttributionContext(AttributionContextTracing.scala:78)",
        "\tat com.databricks.logging.AttributionContextTracing.withAttributionContext$(AttributionContextTracing.scala:75)",
        "\tat com.databricks.logging.activity.ActivityContextFactory$.withAttributionContext(ActivityContextFactory.scala:63)",
        "\tat com.databricks.logging.activity.ActivityContextFactory$.withServiceRequestActivity(ActivityContextFactory.scala:406)",
        "\tat com.databricks.rpc.JettyServer$RequestManager.handleHttp(JettyServer.scala:522)",
        "\tat com.databricks.rpc.JettyServer$RequestManager.doPost(JettyServer.scala:417)",
        "\tat javax.servlet.http.HttpServlet.service(HttpServlet.java:665)",
        "\tat com.databricks.rpc.HttpServletWithPatch.service(HttpServletWithPatch.scala:33)",
        "\tat javax.servlet.http.HttpServlet.service(HttpServlet.java:750)",
        "\tat org.eclipse.jetty.servlet.ServletHolder.handle(ServletHolder.java:799)",
        "\tat org.eclipse.jetty.servlet.ServletHandler.doHandle(ServletHandler.java:554)",
        "\tat org.eclipse.jetty.server.handler.ScopedHandler.nextScope(ScopedHandler.java:190)",
        "\tat org.eclipse.jetty.servlet.ServletHandler.doScope(ServletHandler.java:505)",
        "\tat org.eclipse.jetty.server.handler.ScopedHandler.handle(ScopedHandler.java:141)",
        "\tat org.eclipse.jetty.server.handler.HandlerWrapper.handle(HandlerWrapper.java:127)",
        "\tat org.eclipse.jetty.server.Server.handle(Server.java:516)",
        "\tat org.eclipse.jetty.server.HttpChannel.lambda$handle$1(HttpChannel.java:487)",
        "\tat org.eclipse.jetty.server.HttpChannel.dispatch(HttpChannel.java:732)",
        "\tat org.eclipse.jetty.server.HttpChannel.handle(HttpChannel.java:479)",
        "\tat org.eclipse.jetty.server.HttpConnection.onFillable(HttpConnection.java:277)",
        "\tat org.eclipse.jetty.io.AbstractConnection$ReadCallback.succeeded(AbstractConnection.java:311)",
        "\tat org.eclipse.jetty.io.FillInterest.fillable(FillInterest.java:105)",
        "\tat org.eclipse.jetty.io.ssl.SslConnection$DecryptedEndPoint.onFillable(SslConnection.java:555)",
        "\tat org.eclipse.jetty.io.ssl.SslConnection.onFillable(SslConnection.java:410)",
        "\tat org.eclipse.jetty.io.ssl.SslConnection$2.succeeded(SslConnection.java:164)",
        "\tat org.eclipse.jetty.io.FillInterest.fillable(FillInterest.java:105)",
        "\tat org.eclipse.jetty.io.ChannelEndPoint$1.run(ChannelEndPoint.java:104)",
        "\tat org.eclipse.jetty.util.thread.strategy.EatWhatYouKill.runTask(EatWhatYouKill.java:338)",
        "\tat org.eclipse.jetty.util.thread.strategy.EatWhatYouKill.doProduce(EatWhatYouKill.java:315)",
        "\tat org.eclipse.jetty.util.thread.strategy.EatWhatYouKill.tryProduce(EatWhatYouKill.java:173)",
        "\tat org.eclipse.jetty.util.thread.strategy.EatWhatYouKill.run(EatWhatYouKill.java:131)",
        "\tat org.eclipse.jetty.util.thread.ReservedThreadExecutor$ReservedThread.run(ReservedThreadExecutor.java:409)",
        "\tat com.databricks.rpc.InstrumentedQueuedThreadPool$$anon$1.$anonfun$run$2(InstrumentedQueuedThreadPool.scala:111)",
        "\tat scala.runtime.java8.JFunction0$mcV$sp.apply(JFunction0$mcV$sp.scala:18)",
        "\tat com.databricks.logging.AttributionContextTracing.$anonfun$withAttributionContext$1(AttributionContextTracing.scala:80)",
        "\tat com.databricks.logging.AttributionContext$.$anonfun$withValue$1(AttributionContext.scala:348)",
        "\tat scala.util.DynamicVariable.withValue(DynamicVariable.scala:59)",
        "\tat com.databricks.logging.AttributionContext$.withValue(AttributionContext.scala:344)",
        "\tat com.databricks.logging.AttributionContextTracing.withAttributionContext(AttributionContextTracing.scala:78)",
        "\tat com.databricks.logging.AttributionContextTracing.withAttributionContext$(AttributionContextTracing.scala:75)",
        "\tat com.databricks.rpc.InstrumentedQueuedThreadPool.withAttributionContext(InstrumentedQueuedThreadPool.scala:46)",
        "\tat com.databricks.rpc.InstrumentedQueuedThreadPool$$anon$1.$anonfun$run$1(InstrumentedQueuedThreadPool.scala:111)",
        "\tat scala.runtime.java8.JFunction0$mcV$sp.apply(JFunction0$mcV$sp.scala:18)",
        "\tat com.databricks.instrumentation.QueuedThreadPoolInstrumenter.trackActiveThreads(QueuedThreadPoolInstrumenter.scala:132)",
        "\tat com.databricks.instrumentation.QueuedThreadPoolInstrumenter.trackActiveThreads$(QueuedThreadPoolInstrumenter.scala:129)",
        "\tat com.databricks.rpc.InstrumentedQueuedThreadPool.trackActiveThreads(InstrumentedQueuedThreadPool.scala:46)",
        "\tat com.databricks.rpc.InstrumentedQueuedThreadPool$$anon$1.run(InstrumentedQueuedThreadPool.scala:93)",
        "\tat org.eclipse.jetty.util.thread.QueuedThreadPool.runJob(QueuedThreadPool.java:883)",
        "\tat org.eclipse.jetty.util.thread.QueuedThreadPool$Runner.run(QueuedThreadPool.java:1034)",
        "\tat java.base/java.lang.Thread.run(Thread.java:840)"
       ],
       "type": "baseError"
      }
     },
     "output_type": "display_data"
    }
   ],
   "source": [
    "df.columns\n"
   ]
  },
  {
   "cell_type": "code",
   "execution_count": 0,
   "metadata": {
    "application/vnd.databricks.v1+cell": {
     "cellMetadata": {
      "byteLimit": 2048000,
      "rowLimit": 10000
     },
     "inputWidgets": {},
     "nuid": "ab8fcd75-8f98-4c30-8c44-cc7e614c6d7e",
     "showTitle": false,
     "tableResultSettingsMap": {},
     "title": ""
    }
   },
   "outputs": [
    {
     "output_type": "display_data",
     "data": {
      "text/html": [
       "<style scoped>\n",
       "  .table-result-container {\n",
       "    max-height: 300px;\n",
       "    overflow: auto;\n",
       "  }\n",
       "  table, th, td {\n",
       "    border: 1px solid black;\n",
       "    border-collapse: collapse;\n",
       "  }\n",
       "  th, td {\n",
       "    padding: 5px;\n",
       "  }\n",
       "  th {\n",
       "    text-align: left;\n",
       "  }\n",
       "</style><div class='table-result-container'><table class='table-result'><thead style='background-color: white'><tr><th>case_id</th><th>group</th></tr></thead><tbody><tr><td>1000001</td><td>TRUE</td></tr><tr><td>1000002</td><td>TRUE</td></tr><tr><td>1000003</td><td>TRUE</td></tr><tr><td>1000004</td><td>TRUE</td></tr><tr><td>1000005</td><td>TRUE</td></tr><tr><td>1000006</td><td>TRUE</td></tr><tr><td>1000007</td><td>TRUE</td></tr><tr><td>1000008</td><td>TRUE</td></tr><tr><td>1000009</td><td>TRUE</td></tr><tr><td>1000010</td><td>TRUE</td></tr><tr><td>1000011</td><td>TRUE</td></tr><tr><td>1000012</td><td>TRUE</td></tr><tr><td>1000013</td><td>TRUE</td></tr><tr><td>1000014</td><td>TRUE</td></tr><tr><td>1000015</td><td>TRUE</td></tr><tr><td>1000016</td><td>TRUE</td></tr><tr><td>1000017</td><td>TRUE</td></tr><tr><td>1000018</td><td>TRUE</td></tr><tr><td>1000019</td><td>TRUE</td></tr><tr><td>1000020</td><td>TRUE</td></tr><tr><td>1000021</td><td>TRUE</td></tr><tr><td>1000022</td><td>TRUE</td></tr><tr><td>1000023</td><td>TRUE</td></tr><tr><td>1000024</td><td>TRUE</td></tr><tr><td>1000025</td><td>TRUE</td></tr><tr><td>1000026</td><td>TRUE</td></tr><tr><td>1000027</td><td>TRUE</td></tr><tr><td>1000028</td><td>TRUE</td></tr><tr><td>1000029</td><td>TRUE</td></tr><tr><td>1000030</td><td>TRUE</td></tr><tr><td>1000031</td><td>TRUE</td></tr><tr><td>1000032</td><td>TRUE</td></tr><tr><td>1000033</td><td>TRUE</td></tr><tr><td>1000034</td><td>TRUE</td></tr><tr><td>1000035</td><td>TRUE</td></tr><tr><td>1000036</td><td>FALSE</td></tr><tr><td>1000037</td><td>FALSE</td></tr><tr><td>1000038</td><td>FALSE</td></tr><tr><td>1100001</td><td>TRUE</td></tr><tr><td>1100002</td><td>TRUE</td></tr><tr><td>1100003</td><td>TRUE</td></tr><tr><td>1100004</td><td>TRUE</td></tr><tr><td>1100005</td><td>TRUE</td></tr><tr><td>1100006</td><td>TRUE</td></tr><tr><td>1100007</td><td>TRUE</td></tr><tr><td>1100008</td><td>FALSE</td></tr><tr><td>1100009</td><td>FALSE</td></tr><tr><td>1100010</td><td>FALSE</td></tr><tr><td>1200001</td><td>TRUE</td></tr><tr><td>1200002</td><td>TRUE</td></tr><tr><td>1200003</td><td>TRUE</td></tr><tr><td>1200004</td><td>TRUE</td></tr><tr><td>1200005</td><td>TRUE</td></tr><tr><td>1200006</td><td>TRUE</td></tr><tr><td>1200007</td><td>TRUE</td></tr><tr><td>1200008</td><td>FALSE</td></tr><tr><td>1200009</td><td>FALSE</td></tr><tr><td>1200010</td><td>FALSE</td></tr><tr><td>1300001</td><td>TRUE</td></tr><tr><td>1300002</td><td>TRUE</td></tr><tr><td>1300003</td><td>FALSE</td></tr><tr><td>1300004</td><td>FALSE</td></tr><tr><td>1300005</td><td>FALSE</td></tr><tr><td>1400001</td><td>TRUE</td></tr><tr><td>1400002</td><td>TRUE</td></tr><tr><td>1400003</td><td>TRUE</td></tr><tr><td>1400004</td><td>TRUE</td></tr><tr><td>1400005</td><td>FALSE</td></tr><tr><td>1400006</td><td>FALSE</td></tr><tr><td>1400007</td><td>FALSE</td></tr><tr><td>1500001</td><td>TRUE</td></tr><tr><td>1500002</td><td>TRUE</td></tr><tr><td>1500003</td><td>TRUE</td></tr><tr><td>1500004</td><td>TRUE</td></tr><tr><td>1500005</td><td>TRUE</td></tr><tr><td>1500006</td><td>TRUE</td></tr><tr><td>1500007</td><td>TRUE</td></tr><tr><td>1500008</td><td>FALSE</td></tr><tr><td>1500009</td><td>FALSE</td></tr><tr><td>1500010</td><td>FALSE</td></tr><tr><td>1600001</td><td>TRUE</td></tr><tr><td>1600002</td><td>FALSE</td></tr><tr><td>1600003</td><td>FALSE</td></tr><tr><td>1600004</td><td>FALSE</td></tr><tr><td>1700001</td><td>TRUE</td></tr><tr><td>1700002</td><td>TRUE</td></tr><tr><td>1700003</td><td>TRUE</td></tr><tr><td>1700004</td><td>FALSE</td></tr><tr><td>1700005</td><td>FALSE</td></tr><tr><td>1700006</td><td>FALSE</td></tr><tr><td>2000001</td><td>TRUE</td></tr><tr><td>2000002</td><td>TRUE</td></tr><tr><td>2000003</td><td>TRUE</td></tr><tr><td>2000004</td><td>TRUE</td></tr><tr><td>2000005</td><td>TRUE</td></tr><tr><td>2000006</td><td>TRUE</td></tr><tr><td>2000007</td><td>TRUE</td></tr><tr><td>2000008</td><td>TRUE</td></tr><tr><td>2000009</td><td>TRUE</td></tr><tr><td>2000010</td><td>TRUE</td></tr><tr><td>2000011</td><td>TRUE</td></tr><tr><td>2000012</td><td>TRUE</td></tr><tr><td>2000013</td><td>TRUE</td></tr><tr><td>2000014</td><td>TRUE</td></tr><tr><td>2000015</td><td>TRUE</td></tr><tr><td>2000016</td><td>TRUE</td></tr><tr><td>2000017</td><td>TRUE</td></tr><tr><td>2000018</td><td>TRUE</td></tr><tr><td>2000019</td><td>TRUE</td></tr><tr><td>2000020</td><td>FALSE</td></tr><tr><td>2000021</td><td>FALSE</td></tr><tr><td>2000022</td><td>FALSE</td></tr><tr><td>3000001</td><td>TRUE</td></tr><tr><td>3000002</td><td>TRUE</td></tr><tr><td>3000003</td><td>TRUE</td></tr><tr><td>3000004</td><td>TRUE</td></tr><tr><td>3000005</td><td>TRUE</td></tr><tr><td>3000006</td><td>FALSE</td></tr><tr><td>3000007</td><td>FALSE</td></tr><tr><td>3000008</td><td>FALSE</td></tr><tr><td>4000001</td><td>TRUE</td></tr><tr><td>4000002</td><td>TRUE</td></tr><tr><td>4000003</td><td>TRUE</td></tr><tr><td>4000004</td><td>TRUE</td></tr><tr><td>4000005</td><td>FALSE</td></tr><tr><td>4000006</td><td>FALSE</td></tr><tr><td>4000007</td><td>FALSE</td></tr><tr><td>4100001</td><td>TRUE</td></tr><tr><td>4100002</td><td>TRUE</td></tr><tr><td>4100003</td><td>TRUE</td></tr><tr><td>4100004</td><td>TRUE</td></tr><tr><td>4100005</td><td>TRUE</td></tr><tr><td>4100006</td><td>FALSE</td></tr><tr><td>4100007</td><td>FALSE</td></tr><tr><td>4100008</td><td>FALSE</td></tr><tr><td>5000001</td><td>TRUE</td></tr><tr><td>5000002</td><td>TRUE</td></tr><tr><td>5000003</td><td>TRUE</td></tr><tr><td>5000004</td><td>FALSE</td></tr><tr><td>5000005</td><td>FALSE</td></tr><tr><td>5100001</td><td>TRUE</td></tr><tr><td>5100002</td><td>TRUE</td></tr><tr><td>5100003</td><td>FALSE</td></tr><tr><td>5100004</td><td>FALSE</td></tr><tr><td>5100005</td><td>FALSE</td></tr><tr><td>6000001</td><td>TRUE</td></tr><tr><td>6000002</td><td>TRUE</td></tr><tr><td>6000003</td><td>TRUE</td></tr><tr><td>6000004</td><td>TRUE</td></tr><tr><td>6000005</td><td>TRUE</td></tr><tr><td>6000006</td><td>TRUE</td></tr><tr><td>6000007</td><td>TRUE</td></tr><tr><td>6000008</td><td>TRUE</td></tr><tr><td>6000009</td><td>TRUE</td></tr><tr><td>6000010</td><td>TRUE</td></tr><tr><td>6000011</td><td>FALSE</td></tr><tr><td>6000012</td><td>FALSE</td></tr><tr><td>6000013</td><td>FALSE</td></tr><tr><td>6100001</td><td>TRUE</td></tr><tr><td>6100002</td><td>TRUE</td></tr><tr><td>6100003</td><td>TRUE</td></tr><tr><td>6100004</td><td>TRUE</td></tr><tr><td>6100005</td><td>TRUE</td></tr><tr><td>6100006</td><td>TRUE</td></tr><tr><td>6100007</td><td>TRUE</td></tr><tr><td>6100008</td><td>TRUE</td></tr><tr><td>6100009</td><td>TRUE</td></tr><tr><td>6100010</td><td>FALSE</td></tr><tr><td>6100011</td><td>FALSE</td></tr><tr><td>6100012</td><td>FALSE</td></tr><tr><td>7000001</td><td>FALSE</td></tr><tr><td>7000002</td><td>FALSE</td></tr><tr><td>7000003</td><td>FALSE</td></tr><tr><td>7000004</td><td>TRUE</td></tr></tbody></table></div>"
      ]
     },
     "metadata": {
      "application/vnd.databricks.v1+output": {
       "addedWidgets": {},
       "aggData": [],
       "aggError": "",
       "aggOverflow": false,
       "aggSchema": [],
       "aggSeriesLimitReached": false,
       "aggType": "",
       "arguments": {},
       "columnCustomDisplayInfos": {},
       "data": [
        [
         "1000001",
         "TRUE"
        ],
        [
         "1000002",
         "TRUE"
        ],
        [
         "1000003",
         "TRUE"
        ],
        [
         "1000004",
         "TRUE"
        ],
        [
         "1000005",
         "TRUE"
        ],
        [
         "1000006",
         "TRUE"
        ],
        [
         "1000007",
         "TRUE"
        ],
        [
         "1000008",
         "TRUE"
        ],
        [
         "1000009",
         "TRUE"
        ],
        [
         "1000010",
         "TRUE"
        ],
        [
         "1000011",
         "TRUE"
        ],
        [
         "1000012",
         "TRUE"
        ],
        [
         "1000013",
         "TRUE"
        ],
        [
         "1000014",
         "TRUE"
        ],
        [
         "1000015",
         "TRUE"
        ],
        [
         "1000016",
         "TRUE"
        ],
        [
         "1000017",
         "TRUE"
        ],
        [
         "1000018",
         "TRUE"
        ],
        [
         "1000019",
         "TRUE"
        ],
        [
         "1000020",
         "TRUE"
        ],
        [
         "1000021",
         "TRUE"
        ],
        [
         "1000022",
         "TRUE"
        ],
        [
         "1000023",
         "TRUE"
        ],
        [
         "1000024",
         "TRUE"
        ],
        [
         "1000025",
         "TRUE"
        ],
        [
         "1000026",
         "TRUE"
        ],
        [
         "1000027",
         "TRUE"
        ],
        [
         "1000028",
         "TRUE"
        ],
        [
         "1000029",
         "TRUE"
        ],
        [
         "1000030",
         "TRUE"
        ],
        [
         "1000031",
         "TRUE"
        ],
        [
         "1000032",
         "TRUE"
        ],
        [
         "1000033",
         "TRUE"
        ],
        [
         "1000034",
         "TRUE"
        ],
        [
         "1000035",
         "TRUE"
        ],
        [
         "1000036",
         "FALSE"
        ],
        [
         "1000037",
         "FALSE"
        ],
        [
         "1000038",
         "FALSE"
        ],
        [
         "1100001",
         "TRUE"
        ],
        [
         "1100002",
         "TRUE"
        ],
        [
         "1100003",
         "TRUE"
        ],
        [
         "1100004",
         "TRUE"
        ],
        [
         "1100005",
         "TRUE"
        ],
        [
         "1100006",
         "TRUE"
        ],
        [
         "1100007",
         "TRUE"
        ],
        [
         "1100008",
         "FALSE"
        ],
        [
         "1100009",
         "FALSE"
        ],
        [
         "1100010",
         "FALSE"
        ],
        [
         "1200001",
         "TRUE"
        ],
        [
         "1200002",
         "TRUE"
        ],
        [
         "1200003",
         "TRUE"
        ],
        [
         "1200004",
         "TRUE"
        ],
        [
         "1200005",
         "TRUE"
        ],
        [
         "1200006",
         "TRUE"
        ],
        [
         "1200007",
         "TRUE"
        ],
        [
         "1200008",
         "FALSE"
        ],
        [
         "1200009",
         "FALSE"
        ],
        [
         "1200010",
         "FALSE"
        ],
        [
         "1300001",
         "TRUE"
        ],
        [
         "1300002",
         "TRUE"
        ],
        [
         "1300003",
         "FALSE"
        ],
        [
         "1300004",
         "FALSE"
        ],
        [
         "1300005",
         "FALSE"
        ],
        [
         "1400001",
         "TRUE"
        ],
        [
         "1400002",
         "TRUE"
        ],
        [
         "1400003",
         "TRUE"
        ],
        [
         "1400004",
         "TRUE"
        ],
        [
         "1400005",
         "FALSE"
        ],
        [
         "1400006",
         "FALSE"
        ],
        [
         "1400007",
         "FALSE"
        ],
        [
         "1500001",
         "TRUE"
        ],
        [
         "1500002",
         "TRUE"
        ],
        [
         "1500003",
         "TRUE"
        ],
        [
         "1500004",
         "TRUE"
        ],
        [
         "1500005",
         "TRUE"
        ],
        [
         "1500006",
         "TRUE"
        ],
        [
         "1500007",
         "TRUE"
        ],
        [
         "1500008",
         "FALSE"
        ],
        [
         "1500009",
         "FALSE"
        ],
        [
         "1500010",
         "FALSE"
        ],
        [
         "1600001",
         "TRUE"
        ],
        [
         "1600002",
         "FALSE"
        ],
        [
         "1600003",
         "FALSE"
        ],
        [
         "1600004",
         "FALSE"
        ],
        [
         "1700001",
         "TRUE"
        ],
        [
         "1700002",
         "TRUE"
        ],
        [
         "1700003",
         "TRUE"
        ],
        [
         "1700004",
         "FALSE"
        ],
        [
         "1700005",
         "FALSE"
        ],
        [
         "1700006",
         "FALSE"
        ],
        [
         "2000001",
         "TRUE"
        ],
        [
         "2000002",
         "TRUE"
        ],
        [
         "2000003",
         "TRUE"
        ],
        [
         "2000004",
         "TRUE"
        ],
        [
         "2000005",
         "TRUE"
        ],
        [
         "2000006",
         "TRUE"
        ],
        [
         "2000007",
         "TRUE"
        ],
        [
         "2000008",
         "TRUE"
        ],
        [
         "2000009",
         "TRUE"
        ],
        [
         "2000010",
         "TRUE"
        ],
        [
         "2000011",
         "TRUE"
        ],
        [
         "2000012",
         "TRUE"
        ],
        [
         "2000013",
         "TRUE"
        ],
        [
         "2000014",
         "TRUE"
        ],
        [
         "2000015",
         "TRUE"
        ],
        [
         "2000016",
         "TRUE"
        ],
        [
         "2000017",
         "TRUE"
        ],
        [
         "2000018",
         "TRUE"
        ],
        [
         "2000019",
         "TRUE"
        ],
        [
         "2000020",
         "FALSE"
        ],
        [
         "2000021",
         "FALSE"
        ],
        [
         "2000022",
         "FALSE"
        ],
        [
         "3000001",
         "TRUE"
        ],
        [
         "3000002",
         "TRUE"
        ],
        [
         "3000003",
         "TRUE"
        ],
        [
         "3000004",
         "TRUE"
        ],
        [
         "3000005",
         "TRUE"
        ],
        [
         "3000006",
         "FALSE"
        ],
        [
         "3000007",
         "FALSE"
        ],
        [
         "3000008",
         "FALSE"
        ],
        [
         "4000001",
         "TRUE"
        ],
        [
         "4000002",
         "TRUE"
        ],
        [
         "4000003",
         "TRUE"
        ],
        [
         "4000004",
         "TRUE"
        ],
        [
         "4000005",
         "FALSE"
        ],
        [
         "4000006",
         "FALSE"
        ],
        [
         "4000007",
         "FALSE"
        ],
        [
         "4100001",
         "TRUE"
        ],
        [
         "4100002",
         "TRUE"
        ],
        [
         "4100003",
         "TRUE"
        ],
        [
         "4100004",
         "TRUE"
        ],
        [
         "4100005",
         "TRUE"
        ],
        [
         "4100006",
         "FALSE"
        ],
        [
         "4100007",
         "FALSE"
        ],
        [
         "4100008",
         "FALSE"
        ],
        [
         "5000001",
         "TRUE"
        ],
        [
         "5000002",
         "TRUE"
        ],
        [
         "5000003",
         "TRUE"
        ],
        [
         "5000004",
         "FALSE"
        ],
        [
         "5000005",
         "FALSE"
        ],
        [
         "5100001",
         "TRUE"
        ],
        [
         "5100002",
         "TRUE"
        ],
        [
         "5100003",
         "FALSE"
        ],
        [
         "5100004",
         "FALSE"
        ],
        [
         "5100005",
         "FALSE"
        ],
        [
         "6000001",
         "TRUE"
        ],
        [
         "6000002",
         "TRUE"
        ],
        [
         "6000003",
         "TRUE"
        ],
        [
         "6000004",
         "TRUE"
        ],
        [
         "6000005",
         "TRUE"
        ],
        [
         "6000006",
         "TRUE"
        ],
        [
         "6000007",
         "TRUE"
        ],
        [
         "6000008",
         "TRUE"
        ],
        [
         "6000009",
         "TRUE"
        ],
        [
         "6000010",
         "TRUE"
        ],
        [
         "6000011",
         "FALSE"
        ],
        [
         "6000012",
         "FALSE"
        ],
        [
         "6000013",
         "FALSE"
        ],
        [
         "6100001",
         "TRUE"
        ],
        [
         "6100002",
         "TRUE"
        ],
        [
         "6100003",
         "TRUE"
        ],
        [
         "6100004",
         "TRUE"
        ],
        [
         "6100005",
         "TRUE"
        ],
        [
         "6100006",
         "TRUE"
        ],
        [
         "6100007",
         "TRUE"
        ],
        [
         "6100008",
         "TRUE"
        ],
        [
         "6100009",
         "TRUE"
        ],
        [
         "6100010",
         "FALSE"
        ],
        [
         "6100011",
         "FALSE"
        ],
        [
         "6100012",
         "FALSE"
        ],
        [
         "7000001",
         "FALSE"
        ],
        [
         "7000002",
         "FALSE"
        ],
        [
         "7000003",
         "FALSE"
        ],
        [
         "7000004",
         "TRUE"
        ]
       ],
       "datasetInfos": [],
       "dbfsResultPath": null,
       "isJsonSchema": true,
       "metadata": {},
       "overflow": false,
       "plotOptions": {
        "customPlotOptions": {},
        "displayType": "table",
        "pivotAggregation": null,
        "pivotColumns": null,
        "xColumns": null,
        "yColumns": null
       },
       "removedWidgets": [],
       "schema": [
        {
         "metadata": "{}",
         "name": "case_id",
         "type": "\"string\""
        },
        {
         "metadata": "{}",
         "name": "group",
         "type": "\"string\""
        }
       ],
       "type": "table"
      }
     },
     "output_type": "display_data"
    }
   ],
   "source": [
    "# Register DataFrame as a temporary view\n",
    "df.createOrReplaceTempView(\"people_view\")\n",
    "result = spark.sql(\"SELECT case_id, group FROM people_view\")\n",
    "display(result)\n"
   ]
  },
  {
   "cell_type": "code",
   "execution_count": 0,
   "metadata": {
    "application/vnd.databricks.v1+cell": {
     "cellMetadata": {
      "byteLimit": 2048000,
      "rowLimit": 10000
     },
     "inputWidgets": {},
     "nuid": "6821b6cf-c84a-40fe-8320-6b960c9a37de",
     "showTitle": false,
     "tableResultSettingsMap": {},
     "title": ""
    }
   },
   "outputs": [
    {
     "output_type": "stream",
     "name": "stdout",
     "output_type": "stream",
     "text": [
      "PySpark execution time: 0.00024271011352539062 \nSpark SQL execution time: 0.08106708526611328\nPySpark time: 0.00024271011352539062s, Spark SQL time: 0.08106708526611328s\n"
     ]
    }
   ],
   "source": [
    "# pyspark operation\n",
    "import time\n",
    "start = time.time()\n",
    "df_result = (\n",
    "    df.groupBy(\"city\")\n",
    "      .agg({\"confirmed\": \"avg\"})\n",
    ")\n",
    "end = time.time()\n",
    "pyspark_time = end - start\n",
    "print(f\"PySpark execution time: {pyspark_time} \")\n",
    "\n",
    "# spark sql\n",
    "start = time.time()\n",
    "\n",
    "sql_result = spark.sql(\"\"\"\n",
    "    SELECT city, AVG(confirmed) AS avg_confirmed\n",
    "    FROM people_view\n",
    "    GROUP BY city\n",
    "\"\"\")\n",
    "end = time.time()\n",
    "sql_time = end - start\n",
    "print(f\"Spark SQL execution time: {sql_time}\")\n",
    "\n",
    "print(f\"PySpark time: {pyspark_time}s, Spark SQL time: {sql_time}s\")\n"
   ]
  },
  {
   "cell_type": "code",
   "execution_count": 0,
   "metadata": {
    "application/vnd.databricks.v1+cell": {
     "cellMetadata": {
      "byteLimit": 2048000,
      "rowLimit": 10000
     },
     "inputWidgets": {},
     "nuid": "0262989a-af99-4eee-a865-c8894c1037c9",
     "showTitle": false,
     "tableResultSettingsMap": {},
     "title": ""
    }
   },
   "outputs": [
    {
     "output_type": "stream",
     "name": "stdout",
     "output_type": "stream",
     "text": [
      "+---+-----+---+\n| id| name|age|\n+---+-----+---+\n|  1|Rajat| 23|\n|  2| Shiv| 30|\n|  3| Amit| 25|\n+---+-----+---+\n\n"
     ]
    }
   ],
   "source": [
    "from pyspark.sql import Row\n",
    "data = [\n",
    "    Row(id=1, name=\"Rajat\", age=23),\n",
    "    Row(id=2, name=\"Shiv\", age=30),\n",
    "    Row(id=3, name=\"Amit\", age=25)\n",
    "]\n",
    "delta_df=spark.createDataFrame(data)\n",
    "delta_df.write.format(\"delta\").mode(\"overwrite\").saveAsTable(\"deltaTable\")\n",
    "spark.sql(\"SELECT * FROM deltaTable\").show()\n",
    "from delta.tables import DeltaTable\n",
    "delta_table = DeltaTable.forName(spark, \"deltaTable\")\n"
   ]
  },
  {
   "cell_type": "code",
   "execution_count": 0,
   "metadata": {
    "application/vnd.databricks.v1+cell": {
     "cellMetadata": {
      "byteLimit": 2048000,
      "rowLimit": 10000
     },
     "inputWidgets": {},
     "nuid": "439fd62c-c3ec-4cf4-b12b-66d9578ed9ef",
     "showTitle": false,
     "tableResultSettingsMap": {},
     "title": ""
    }
   },
   "outputs": [
    {
     "output_type": "stream",
     "name": "stdout",
     "output_type": "stream",
     "text": [
      "After INSERT:\n+---+-----+---+\n| id| name|age|\n+---+-----+---+\n|  1|Rajat| 23|\n|  2| Shiv| 30|\n|  3| Amit| 25|\n|  4| Akon| 28|\n|  5| Bkon| 22|\n+---+-----+---+\n\nAfter UPDATE:\n+---+-----+---+\n| id| name|age|\n+---+-----+---+\n|  1|Rajat| 23|\n|  2| Shiv| 30|\n|  4| Akon| 28|\n|  5| Bkon| 22|\n|  3| Amit| 35|\n+---+-----+---+\n\nAfter DELETE:\n+---+-----+---+\n| id| name|age|\n+---+-----+---+\n|  3| Amit| 35|\n|  1|Rajat| 23|\n|  4| Akon| 28|\n|  5| Bkon| 22|\n+---+-----+---+\n\n"
     ]
    }
   ],
   "source": [
    "#insert\n",
    "spark.sql(\"\"\"\n",
    "INSERT INTO deltaTable VALUES\n",
    "(4, 'Akon', 28),\n",
    "(5, 'Bkon', 22)\n",
    "\"\"\")\n",
    "print(\"After INSERT:\")\n",
    "spark.sql(\"SELECT * FROM deltaTable\").show()\n",
    "#update\n",
    "delta_table.update(\n",
    "    condition=\"id = 3\",\n",
    "    set={\"age\": \"35\"}\n",
    ")\n",
    "print(\"After UPDATE:\")\n",
    "spark.sql(\"SELECT * FROM deltaTable\").show()\n",
    "#delete\n",
    "delta_table.delete(\"id = 2\")\n",
    "print(\"After DELETE:\")\n",
    "spark.sql(\"SELECT * FROM deltaTable\").show()"
   ]
  },
  {
   "cell_type": "code",
   "execution_count": 0,
   "metadata": {
    "application/vnd.databricks.v1+cell": {
     "cellMetadata": {
      "byteLimit": 2048000,
      "implicitDf": true,
      "rowLimit": 10000
     },
     "inputWidgets": {},
     "nuid": "d6450500-eb66-4a31-a897-7a4e2dd028ae",
     "showTitle": false,
     "tableResultSettingsMap": {},
     "title": ""
    }
   },
   "outputs": [
    {
     "output_type": "display_data",
     "data": {
      "text/html": [
       "<style scoped>\n",
       "  .table-result-container {\n",
       "    max-height: 300px;\n",
       "    overflow: auto;\n",
       "  }\n",
       "  table, th, td {\n",
       "    border: 1px solid black;\n",
       "    border-collapse: collapse;\n",
       "  }\n",
       "  th, td {\n",
       "    padding: 5px;\n",
       "  }\n",
       "  th {\n",
       "    text-align: left;\n",
       "  }\n",
       "</style><div class='table-result-container'><table class='table-result'><thead style='background-color: white'><tr><th>version</th><th>timestamp</th><th>userId</th><th>userName</th><th>operation</th><th>operationParameters</th><th>job</th><th>notebook</th><th>clusterId</th><th>readVersion</th><th>isolationLevel</th><th>isBlindAppend</th><th>operationMetrics</th><th>userMetadata</th><th>engineInfo</th></tr></thead><tbody><tr><td>23</td><td>2025-10-16T05:00:19.000Z</td><td>70429301836869</td><td>rajatsaini9460@gmail.com</td><td>OPTIMIZE</td><td>Map(predicate -> [], auto -> true, clusterBy -> [], zOrderBy -> [], batchId -> 0)</td><td>null</td><td>List(1360322666244396)</td><td>1016-044108-pxoie4tu-v2n</td><td>22</td><td>SnapshotIsolation</td><td>false</td><td>Map(numRemovedFiles -> 1, numRemovedBytes -> 1091, p25FileSize -> 1077, numDeletionVectorsRemoved -> 1, minFileSize -> 1077, numAddedFiles -> 1, maxFileSize -> 1077, p75FileSize -> 1077, p50FileSize -> 1077, numAddedBytes -> 1077)</td><td>null</td><td>Databricks-Runtime/17.2.x-aarch64-photon-scala2.13</td></tr><tr><td>22</td><td>2025-10-16T05:00:17.000Z</td><td>70429301836869</td><td>rajatsaini9460@gmail.com</td><td>DELETE</td><td>Map(predicate -> [\"(id#12403L = 2)\"])</td><td>null</td><td>List(1360322666244396)</td><td>1016-044108-pxoie4tu-v2n</td><td>20</td><td>WriteSerializable</td><td>false</td><td>Map(numRemovedFiles -> 0, numRemovedBytes -> 0, numCopiedRows -> 0, numDeletionVectorsAdded -> 1, numDeletionVectorsRemoved -> 1, numAddedChangeFiles -> 0, executionTimeMs -> 1983, conflictDetectionTimeMs -> 775, numDeletionVectorsUpdated -> 1, numDeletedRows -> 1, scanTimeMs -> 1542, numAddedFiles -> 0, numAddedBytes -> 0, rewriteTimeMs -> 440)</td><td>null</td><td>Databricks-Runtime/17.2.x-aarch64-photon-scala2.13</td></tr><tr><td>21</td><td>2025-10-16T05:00:15.000Z</td><td>70429301836869</td><td>rajatsaini9460@gmail.com</td><td>OPTIMIZE</td><td>Map(predicate -> [], auto -> true, clusterBy -> [], zOrderBy -> [], batchId -> 0)</td><td>null</td><td>List(1360322666244396)</td><td>1016-044108-pxoie4tu-v2n</td><td>20</td><td>SnapshotIsolation</td><td>false</td><td>Map(numRemovedFiles -> 3, numRemovedBytes -> 3085, p25FileSize -> 1091, numDeletionVectorsRemoved -> 1, minFileSize -> 1091, numAddedFiles -> 1, maxFileSize -> 1091, p75FileSize -> 1091, p50FileSize -> 1091, numAddedBytes -> 1091)</td><td>null</td><td>Databricks-Runtime/17.2.x-aarch64-photon-scala2.13</td></tr><tr><td>20</td><td>2025-10-16T05:00:12.000Z</td><td>70429301836869</td><td>rajatsaini9460@gmail.com</td><td>UPDATE</td><td>Map(predicate -> [\"(id#11981L = 3)\"])</td><td>null</td><td>List(1360322666244396)</td><td>1016-044108-pxoie4tu-v2n</td><td>19</td><td>WriteSerializable</td><td>false</td><td>Map(numRemovedFiles -> 0, numRemovedBytes -> 0, numCopiedRows -> 0, numDeletionVectorsAdded -> 1, numDeletionVectorsRemoved -> 0, numAddedChangeFiles -> 0, executionTimeMs -> 3455, numDeletionVectorsUpdated -> 0, scanTimeMs -> 1765, numAddedFiles -> 1, numUpdatedRows -> 1, numAddedBytes -> 1010, rewriteTimeMs -> 1647)</td><td>null</td><td>Databricks-Runtime/17.2.x-aarch64-photon-scala2.13</td></tr><tr><td>19</td><td>2025-10-16T05:00:06.000Z</td><td>70429301836869</td><td>rajatsaini9460@gmail.com</td><td>WRITE</td><td>Map(mode -> Append, statsOnLoad -> true, partitionBy -> [])</td><td>null</td><td>List(1360322666244396)</td><td>1016-044108-pxoie4tu-v2n</td><td>18</td><td>WriteSerializable</td><td>true</td><td>Map(numFiles -> 1, numOutputRows -> 2, numOutputBytes -> 1018)</td><td>null</td><td>Databricks-Runtime/17.2.x-aarch64-photon-scala2.13</td></tr><tr><td>18</td><td>2025-10-16T04:58:42.000Z</td><td>70429301836869</td><td>rajatsaini9460@gmail.com</td><td>CREATE OR REPLACE TABLE AS SELECT</td><td>Map(partitionBy -> [], clusterBy -> [], description -> null, isManaged -> true, properties -> {\"delta.enableDeletionVectors\":\"true\"}, statsOnLoad -> true)</td><td>null</td><td>List(1360322666244396)</td><td>1016-044108-pxoie4tu-v2n</td><td>17</td><td>WriteSerializable</td><td>false</td><td>Map(numFiles -> 1, numRemovedFiles -> 1, numRemovedBytes -> 1163, numDeletionVectorsRemoved -> 0, numOutputRows -> 3, numOutputBytes -> 1057)</td><td>null</td><td>Databricks-Runtime/17.2.x-aarch64-photon-scala2.13</td></tr><tr><td>17</td><td>2025-10-14T16:13:10.001Z</td><td>70429301836869</td><td>rajatsaini9460@gmail.com</td><td>DELETE</td><td>Map(predicate -> [\"(id#15226L = 2)\"])</td><td>null</td><td>List(1360322666244396)</td><td>1014-150852-z4p97ndi-v2n</td><td>15</td><td>WriteSerializable</td><td>false</td><td>Map(numRemovedFiles -> 0, numRemovedBytes -> 0, numCopiedRows -> 0, numDeletionVectorsAdded -> 0, numDeletionVectorsRemoved -> 0, numAddedChangeFiles -> 0, executionTimeMs -> 363, conflictDetectionTimeMs -> 63, numDeletionVectorsUpdated -> 0, numDeletedRows -> 0, scanTimeMs -> 363, numAddedFiles -> 0, numAddedBytes -> 0, rewriteTimeMs -> 0)</td><td>null</td><td>Databricks-Runtime/17.2.x-aarch64-photon-scala2.13</td></tr><tr><td>16</td><td>2025-10-14T16:13:10.000Z</td><td>70429301836869</td><td>rajatsaini9460@gmail.com</td><td>OPTIMIZE</td><td>Map(predicate -> [], auto -> true, clusterBy -> [], zOrderBy -> [], batchId -> 0)</td><td>null</td><td>List(1360322666244396)</td><td>1014-150852-z4p97ndi-v2n</td><td>15</td><td>SnapshotIsolation</td><td>false</td><td>Map(numRemovedFiles -> 3, numRemovedBytes -> 3105, p25FileSize -> 1163, numDeletionVectorsRemoved -> 1, minFileSize -> 1163, numAddedFiles -> 1, maxFileSize -> 1163, p75FileSize -> 1163, p50FileSize -> 1163, numAddedBytes -> 1163)</td><td>null</td><td>Databricks-Runtime/17.2.x-aarch64-photon-scala2.13</td></tr><tr><td>15</td><td>2025-10-14T16:13:08.000Z</td><td>70429301836869</td><td>rajatsaini9460@gmail.com</td><td>UPDATE</td><td>Map(predicate -> [\"(id#14828L = 3)\"])</td><td>null</td><td>List(1360322666244396)</td><td>1014-150852-z4p97ndi-v2n</td><td>14</td><td>WriteSerializable</td><td>false</td><td>Map(numRemovedFiles -> 0, numRemovedBytes -> 0, numCopiedRows -> 0, numDeletionVectorsAdded -> 1, numDeletionVectorsRemoved -> 0, numAddedChangeFiles -> 0, executionTimeMs -> 1660, numDeletionVectorsUpdated -> 0, scanTimeMs -> 701, numAddedFiles -> 1, numUpdatedRows -> 1, numAddedBytes -> 1010, rewriteTimeMs -> 958)</td><td>null</td><td>Databricks-Runtime/17.2.x-aarch64-photon-scala2.13</td></tr><tr><td>14</td><td>2025-10-14T16:13:04.000Z</td><td>70429301836869</td><td>rajatsaini9460@gmail.com</td><td>WRITE</td><td>Map(mode -> Append, statsOnLoad -> true, partitionBy -> [])</td><td>null</td><td>List(1360322666244396)</td><td>1014-150852-z4p97ndi-v2n</td><td>13</td><td>WriteSerializable</td><td>true</td><td>Map(numFiles -> 1, numOutputRows -> 2, numOutputBytes -> 1018)</td><td>null</td><td>Databricks-Runtime/17.2.x-aarch64-photon-scala2.13</td></tr><tr><td>13</td><td>2025-10-14T15:29:34.000Z</td><td>70429301836869</td><td>rajatsaini9460@gmail.com</td><td>OPTIMIZE</td><td>Map(predicate -> [], auto -> true, clusterBy -> [], zOrderBy -> [], batchId -> 0)</td><td>null</td><td>List(1360322666244396)</td><td>1014-150852-z4p97ndi-v2n</td><td>12</td><td>SnapshotIsolation</td><td>false</td><td>Map(numRemovedFiles -> 1, numRemovedBytes -> 1091, p25FileSize -> 1077, numDeletionVectorsRemoved -> 1, minFileSize -> 1077, numAddedFiles -> 1, maxFileSize -> 1077, p75FileSize -> 1077, p50FileSize -> 1077, numAddedBytes -> 1077)</td><td>null</td><td>Databricks-Runtime/17.2.x-aarch64-photon-scala2.13</td></tr><tr><td>12</td><td>2025-10-14T15:29:32.000Z</td><td>70429301836869</td><td>rajatsaini9460@gmail.com</td><td>DELETE</td><td>Map(predicate -> [\"(id#14049L = 2)\"])</td><td>null</td><td>List(1360322666244396)</td><td>1014-150852-z4p97ndi-v2n</td><td>11</td><td>WriteSerializable</td><td>false</td><td>Map(numRemovedFiles -> 0, numRemovedBytes -> 0, numCopiedRows -> 0, numDeletionVectorsAdded -> 1, numDeletionVectorsRemoved -> 0, numAddedChangeFiles -> 0, executionTimeMs -> 1927, numDeletionVectorsUpdated -> 0, numDeletedRows -> 1, scanTimeMs -> 857, numAddedFiles -> 0, numAddedBytes -> 0, rewriteTimeMs -> 1070)</td><td>null</td><td>Databricks-Runtime/17.2.x-aarch64-photon-scala2.13</td></tr><tr><td>11</td><td>2025-10-14T15:29:28.000Z</td><td>70429301836869</td><td>rajatsaini9460@gmail.com</td><td>OPTIMIZE</td><td>Map(predicate -> [], auto -> true, clusterBy -> [], zOrderBy -> [], batchId -> 0)</td><td>null</td><td>List(1360322666244396)</td><td>1014-150852-z4p97ndi-v2n</td><td>10</td><td>SnapshotIsolation</td><td>false</td><td>Map(numRemovedFiles -> 3, numRemovedBytes -> 3085, p25FileSize -> 1091, numDeletionVectorsRemoved -> 1, minFileSize -> 1091, numAddedFiles -> 1, maxFileSize -> 1091, p75FileSize -> 1091, p50FileSize -> 1091, numAddedBytes -> 1091)</td><td>null</td><td>Databricks-Runtime/17.2.x-aarch64-photon-scala2.13</td></tr><tr><td>10</td><td>2025-10-14T15:29:27.000Z</td><td>70429301836869</td><td>rajatsaini9460@gmail.com</td><td>UPDATE</td><td>Map(predicate -> [\"(id#13651L = 3)\"])</td><td>null</td><td>List(1360322666244396)</td><td>1014-150852-z4p97ndi-v2n</td><td>9</td><td>WriteSerializable</td><td>false</td><td>Map(numRemovedFiles -> 0, numRemovedBytes -> 0, numCopiedRows -> 0, numDeletionVectorsAdded -> 1, numDeletionVectorsRemoved -> 0, numAddedChangeFiles -> 0, executionTimeMs -> 1951, numDeletionVectorsUpdated -> 0, scanTimeMs -> 780, numAddedFiles -> 1, numUpdatedRows -> 1, numAddedBytes -> 1010, rewriteTimeMs -> 1170)</td><td>null</td><td>Databricks-Runtime/17.2.x-aarch64-photon-scala2.13</td></tr><tr><td>9</td><td>2025-10-14T15:29:23.000Z</td><td>70429301836869</td><td>rajatsaini9460@gmail.com</td><td>WRITE</td><td>Map(mode -> Append, statsOnLoad -> true, partitionBy -> [])</td><td>null</td><td>List(1360322666244396)</td><td>1014-150852-z4p97ndi-v2n</td><td>8</td><td>WriteSerializable</td><td>true</td><td>Map(numFiles -> 1, numOutputRows -> 2, numOutputBytes -> 1018)</td><td>null</td><td>Databricks-Runtime/17.2.x-aarch64-photon-scala2.13</td></tr><tr><td>8</td><td>2025-10-14T15:25:07.000Z</td><td>70429301836869</td><td>rajatsaini9460@gmail.com</td><td>CREATE OR REPLACE TABLE AS SELECT</td><td>Map(partitionBy -> [], clusterBy -> [], description -> null, isManaged -> true, properties -> {\"delta.enableDeletionVectors\":\"true\"}, statsOnLoad -> true)</td><td>null</td><td>List(1360322666244396)</td><td>1014-150852-z4p97ndi-v2n</td><td>7</td><td>WriteSerializable</td><td>false</td><td>Map(numFiles -> 1, numRemovedFiles -> 1, numRemovedBytes -> 1042, numDeletionVectorsRemoved -> 0, numOutputRows -> 3, numOutputBytes -> 1057)</td><td>null</td><td>Databricks-Runtime/17.2.x-aarch64-photon-scala2.13</td></tr><tr><td>7</td><td>2025-10-14T15:23:28.001Z</td><td>70429301836869</td><td>rajatsaini9460@gmail.com</td><td>OPTIMIZE</td><td>Map(predicate -> [], auto -> true, clusterBy -> [], zOrderBy -> [], batchId -> 0)</td><td>null</td><td>List(1360322666244396)</td><td>1014-150852-z4p97ndi-v2n</td><td>5</td><td>SnapshotIsolation</td><td>false</td><td>Map(numRemovedFiles -> 2, numRemovedBytes -> 2052, p25FileSize -> 1042, numDeletionVectorsRemoved -> 1, conflictDetectionTimeMs -> 44, minFileSize -> 1042, numAddedFiles -> 1, maxFileSize -> 1042, p75FileSize -> 1042, p50FileSize -> 1042, numAddedBytes -> 1042)</td><td>null</td><td>Databricks-Runtime/17.2.x-aarch64-photon-scala2.13</td></tr><tr><td>6</td><td>2025-10-14T15:23:28.000Z</td><td>70429301836869</td><td>rajatsaini9460@gmail.com</td><td>DELETE</td><td>Map(predicate -> [\"(id#12790L = 2)\"])</td><td>null</td><td>List(1360322666244396)</td><td>1014-150852-z4p97ndi-v2n</td><td>5</td><td>WriteSerializable</td><td>false</td><td>Map(numRemovedFiles -> 0, numRemovedBytes -> 0, numCopiedRows -> 0, numDeletionVectorsAdded -> 0, numDeletionVectorsRemoved -> 0, numAddedChangeFiles -> 0, executionTimeMs -> 405, numDeletionVectorsUpdated -> 0, numDeletedRows -> 0, scanTimeMs -> 404, numAddedFiles -> 0, numAddedBytes -> 0, rewriteTimeMs -> 0)</td><td>null</td><td>Databricks-Runtime/17.2.x-aarch64-photon-scala2.13</td></tr><tr><td>5</td><td>2025-10-14T15:23:26.000Z</td><td>70429301836869</td><td>rajatsaini9460@gmail.com</td><td>UPDATE</td><td>Map(predicate -> [\"(id#12533L = 3)\"])</td><td>null</td><td>List(1360322666244396)</td><td>1014-150852-z4p97ndi-v2n</td><td>4</td><td>WriteSerializable</td><td>false</td><td>Map(numRemovedFiles -> 0, numRemovedBytes -> 0, numCopiedRows -> 0, numDeletionVectorsAdded -> 1, numDeletionVectorsRemoved -> 0, numAddedChangeFiles -> 0, executionTimeMs -> 2177, numDeletionVectorsUpdated -> 0, scanTimeMs -> 835, numAddedFiles -> 1, numUpdatedRows -> 1, numAddedBytes -> 1010, rewriteTimeMs -> 1342)</td><td>null</td><td>Databricks-Runtime/17.2.x-aarch64-photon-scala2.13</td></tr><tr><td>4</td><td>2025-10-14T15:20:48.000Z</td><td>70429301836869</td><td>rajatsaini9460@gmail.com</td><td>OPTIMIZE</td><td>Map(predicate -> [], auto -> true, clusterBy -> [], zOrderBy -> [], batchId -> 0)</td><td>null</td><td>List(1360322666244396)</td><td>1014-150852-z4p97ndi-v2n</td><td>3</td><td>SnapshotIsolation</td><td>false</td><td>Map(numRemovedFiles -> 1, numRemovedBytes -> 1059, p25FileSize -> 1042, numDeletionVectorsRemoved -> 1, minFileSize -> 1042, numAddedFiles -> 1, maxFileSize -> 1042, p75FileSize -> 1042, p50FileSize -> 1042, numAddedBytes -> 1042)</td><td>null</td><td>Databricks-Runtime/17.2.x-aarch64-photon-scala2.13</td></tr><tr><td>3</td><td>2025-10-14T15:20:46.000Z</td><td>70429301836869</td><td>rajatsaini9460@gmail.com</td><td>DELETE</td><td>Map(predicate -> [\"(id#12066L = 2)\"])</td><td>null</td><td>List(1360322666244396)</td><td>1014-150852-z4p97ndi-v2n</td><td>1</td><td>WriteSerializable</td><td>false</td><td>Map(numRemovedFiles -> 0, numRemovedBytes -> 0, numCopiedRows -> 0, numDeletionVectorsAdded -> 1, numDeletionVectorsRemoved -> 1, numAddedChangeFiles -> 0, executionTimeMs -> 1417, conflictDetectionTimeMs -> 588, numDeletionVectorsUpdated -> 1, numDeletedRows -> 1, scanTimeMs -> 1033, numAddedFiles -> 0, numAddedBytes -> 0, rewriteTimeMs -> 374)</td><td>null</td><td>Databricks-Runtime/17.2.x-aarch64-photon-scala2.13</td></tr><tr><td>2</td><td>2025-10-14T15:20:45.000Z</td><td>70429301836869</td><td>rajatsaini9460@gmail.com</td><td>OPTIMIZE</td><td>Map(predicate -> [], auto -> true, clusterBy -> [], zOrderBy -> [], batchId -> 0)</td><td>null</td><td>List(1360322666244396)</td><td>1014-150852-z4p97ndi-v2n</td><td>1</td><td>SnapshotIsolation</td><td>false</td><td>Map(numRemovedFiles -> 2, numRemovedBytes -> 2067, p25FileSize -> 1059, numDeletionVectorsRemoved -> 1, minFileSize -> 1059, numAddedFiles -> 1, maxFileSize -> 1059, p75FileSize -> 1059, p50FileSize -> 1059, numAddedBytes -> 1059)</td><td>null</td><td>Databricks-Runtime/17.2.x-aarch64-photon-scala2.13</td></tr><tr><td>1</td><td>2025-10-14T15:20:43.000Z</td><td>70429301836869</td><td>rajatsaini9460@gmail.com</td><td>UPDATE</td><td>Map(predicate -> [\"(id#11761L = 3)\"])</td><td>null</td><td>List(1360322666244396)</td><td>1014-150852-z4p97ndi-v2n</td><td>0</td><td>WriteSerializable</td><td>false</td><td>Map(numRemovedFiles -> 0, numRemovedBytes -> 0, numCopiedRows -> 0, numDeletionVectorsAdded -> 1, numDeletionVectorsRemoved -> 0, numAddedChangeFiles -> 0, executionTimeMs -> 3426, numDeletionVectorsUpdated -> 0, scanTimeMs -> 1877, numAddedFiles -> 1, numUpdatedRows -> 1, numAddedBytes -> 1010, rewriteTimeMs -> 1520)</td><td>null</td><td>Databricks-Runtime/17.2.x-aarch64-photon-scala2.13</td></tr><tr><td>0</td><td>2025-10-14T15:14:36.000Z</td><td>70429301836869</td><td>rajatsaini9460@gmail.com</td><td>CREATE TABLE AS SELECT</td><td>Map(partitionBy -> [], clusterBy -> [], description -> null, isManaged -> true, properties -> {\"delta.enableDeletionVectors\":\"true\"}, statsOnLoad -> true)</td><td>null</td><td>List(1360322666244396)</td><td>1014-150852-z4p97ndi-v2n</td><td>null</td><td>WriteSerializable</td><td>true</td><td>Map(numFiles -> 1, numOutputRows -> 3, numOutputBytes -> 1057)</td><td>null</td><td>Databricks-Runtime/17.2.x-aarch64-photon-scala2.13</td></tr></tbody></table></div>"
      ]
     },
     "metadata": {
      "application/vnd.databricks.v1+output": {
       "addedWidgets": {},
       "aggData": [],
       "aggError": "",
       "aggOverflow": false,
       "aggSchema": [],
       "aggSeriesLimitReached": false,
       "aggType": "",
       "arguments": {},
       "columnCustomDisplayInfos": {},
       "data": [
        [
         23,
         "2025-10-16T05:00:19.000Z",
         "70429301836869",
         "rajatsaini9460@gmail.com",
         "OPTIMIZE",
         {
          "auto": "true",
          "batchId": "0",
          "clusterBy": "[]",
          "predicate": "[]",
          "zOrderBy": "[]"
         },
         null,
         [
          "1360322666244396"
         ],
         "1016-044108-pxoie4tu-v2n",
         22,
         "SnapshotIsolation",
         false,
         {
          "maxFileSize": "1077",
          "minFileSize": "1077",
          "numAddedBytes": "1077",
          "numAddedFiles": "1",
          "numDeletionVectorsRemoved": "1",
          "numRemovedBytes": "1091",
          "numRemovedFiles": "1",
          "p25FileSize": "1077",
          "p50FileSize": "1077",
          "p75FileSize": "1077"
         },
         null,
         "Databricks-Runtime/17.2.x-aarch64-photon-scala2.13"
        ],
        [
         22,
         "2025-10-16T05:00:17.000Z",
         "70429301836869",
         "rajatsaini9460@gmail.com",
         "DELETE",
         {
          "predicate": "[\"(id#12403L = 2)\"]"
         },
         null,
         [
          "1360322666244396"
         ],
         "1016-044108-pxoie4tu-v2n",
         20,
         "WriteSerializable",
         false,
         {
          "conflictDetectionTimeMs": "775",
          "executionTimeMs": "1983",
          "numAddedBytes": "0",
          "numAddedChangeFiles": "0",
          "numAddedFiles": "0",
          "numCopiedRows": "0",
          "numDeletedRows": "1",
          "numDeletionVectorsAdded": "1",
          "numDeletionVectorsRemoved": "1",
          "numDeletionVectorsUpdated": "1",
          "numRemovedBytes": "0",
          "numRemovedFiles": "0",
          "rewriteTimeMs": "440",
          "scanTimeMs": "1542"
         },
         null,
         "Databricks-Runtime/17.2.x-aarch64-photon-scala2.13"
        ],
        [
         21,
         "2025-10-16T05:00:15.000Z",
         "70429301836869",
         "rajatsaini9460@gmail.com",
         "OPTIMIZE",
         {
          "auto": "true",
          "batchId": "0",
          "clusterBy": "[]",
          "predicate": "[]",
          "zOrderBy": "[]"
         },
         null,
         [
          "1360322666244396"
         ],
         "1016-044108-pxoie4tu-v2n",
         20,
         "SnapshotIsolation",
         false,
         {
          "maxFileSize": "1091",
          "minFileSize": "1091",
          "numAddedBytes": "1091",
          "numAddedFiles": "1",
          "numDeletionVectorsRemoved": "1",
          "numRemovedBytes": "3085",
          "numRemovedFiles": "3",
          "p25FileSize": "1091",
          "p50FileSize": "1091",
          "p75FileSize": "1091"
         },
         null,
         "Databricks-Runtime/17.2.x-aarch64-photon-scala2.13"
        ],
        [
         20,
         "2025-10-16T05:00:12.000Z",
         "70429301836869",
         "rajatsaini9460@gmail.com",
         "UPDATE",
         {
          "predicate": "[\"(id#11981L = 3)\"]"
         },
         null,
         [
          "1360322666244396"
         ],
         "1016-044108-pxoie4tu-v2n",
         19,
         "WriteSerializable",
         false,
         {
          "executionTimeMs": "3455",
          "numAddedBytes": "1010",
          "numAddedChangeFiles": "0",
          "numAddedFiles": "1",
          "numCopiedRows": "0",
          "numDeletionVectorsAdded": "1",
          "numDeletionVectorsRemoved": "0",
          "numDeletionVectorsUpdated": "0",
          "numRemovedBytes": "0",
          "numRemovedFiles": "0",
          "numUpdatedRows": "1",
          "rewriteTimeMs": "1647",
          "scanTimeMs": "1765"
         },
         null,
         "Databricks-Runtime/17.2.x-aarch64-photon-scala2.13"
        ],
        [
         19,
         "2025-10-16T05:00:06.000Z",
         "70429301836869",
         "rajatsaini9460@gmail.com",
         "WRITE",
         {
          "mode": "Append",
          "partitionBy": "[]",
          "statsOnLoad": "true"
         },
         null,
         [
          "1360322666244396"
         ],
         "1016-044108-pxoie4tu-v2n",
         18,
         "WriteSerializable",
         true,
         {
          "numFiles": "1",
          "numOutputBytes": "1018",
          "numOutputRows": "2"
         },
         null,
         "Databricks-Runtime/17.2.x-aarch64-photon-scala2.13"
        ],
        [
         18,
         "2025-10-16T04:58:42.000Z",
         "70429301836869",
         "rajatsaini9460@gmail.com",
         "CREATE OR REPLACE TABLE AS SELECT",
         {
          "clusterBy": "[]",
          "description": null,
          "isManaged": "true",
          "partitionBy": "[]",
          "properties": "{\"delta.enableDeletionVectors\":\"true\"}",
          "statsOnLoad": "true"
         },
         null,
         [
          "1360322666244396"
         ],
         "1016-044108-pxoie4tu-v2n",
         17,
         "WriteSerializable",
         false,
         {
          "numDeletionVectorsRemoved": "0",
          "numFiles": "1",
          "numOutputBytes": "1057",
          "numOutputRows": "3",
          "numRemovedBytes": "1163",
          "numRemovedFiles": "1"
         },
         null,
         "Databricks-Runtime/17.2.x-aarch64-photon-scala2.13"
        ],
        [
         17,
         "2025-10-14T16:13:10.001Z",
         "70429301836869",
         "rajatsaini9460@gmail.com",
         "DELETE",
         {
          "predicate": "[\"(id#15226L = 2)\"]"
         },
         null,
         [
          "1360322666244396"
         ],
         "1014-150852-z4p97ndi-v2n",
         15,
         "WriteSerializable",
         false,
         {
          "conflictDetectionTimeMs": "63",
          "executionTimeMs": "363",
          "numAddedBytes": "0",
          "numAddedChangeFiles": "0",
          "numAddedFiles": "0",
          "numCopiedRows": "0",
          "numDeletedRows": "0",
          "numDeletionVectorsAdded": "0",
          "numDeletionVectorsRemoved": "0",
          "numDeletionVectorsUpdated": "0",
          "numRemovedBytes": "0",
          "numRemovedFiles": "0",
          "rewriteTimeMs": "0",
          "scanTimeMs": "363"
         },
         null,
         "Databricks-Runtime/17.2.x-aarch64-photon-scala2.13"
        ],
        [
         16,
         "2025-10-14T16:13:10.000Z",
         "70429301836869",
         "rajatsaini9460@gmail.com",
         "OPTIMIZE",
         {
          "auto": "true",
          "batchId": "0",
          "clusterBy": "[]",
          "predicate": "[]",
          "zOrderBy": "[]"
         },
         null,
         [
          "1360322666244396"
         ],
         "1014-150852-z4p97ndi-v2n",
         15,
         "SnapshotIsolation",
         false,
         {
          "maxFileSize": "1163",
          "minFileSize": "1163",
          "numAddedBytes": "1163",
          "numAddedFiles": "1",
          "numDeletionVectorsRemoved": "1",
          "numRemovedBytes": "3105",
          "numRemovedFiles": "3",
          "p25FileSize": "1163",
          "p50FileSize": "1163",
          "p75FileSize": "1163"
         },
         null,
         "Databricks-Runtime/17.2.x-aarch64-photon-scala2.13"
        ],
        [
         15,
         "2025-10-14T16:13:08.000Z",
         "70429301836869",
         "rajatsaini9460@gmail.com",
         "UPDATE",
         {
          "predicate": "[\"(id#14828L = 3)\"]"
         },
         null,
         [
          "1360322666244396"
         ],
         "1014-150852-z4p97ndi-v2n",
         14,
         "WriteSerializable",
         false,
         {
          "executionTimeMs": "1660",
          "numAddedBytes": "1010",
          "numAddedChangeFiles": "0",
          "numAddedFiles": "1",
          "numCopiedRows": "0",
          "numDeletionVectorsAdded": "1",
          "numDeletionVectorsRemoved": "0",
          "numDeletionVectorsUpdated": "0",
          "numRemovedBytes": "0",
          "numRemovedFiles": "0",
          "numUpdatedRows": "1",
          "rewriteTimeMs": "958",
          "scanTimeMs": "701"
         },
         null,
         "Databricks-Runtime/17.2.x-aarch64-photon-scala2.13"
        ],
        [
         14,
         "2025-10-14T16:13:04.000Z",
         "70429301836869",
         "rajatsaini9460@gmail.com",
         "WRITE",
         {
          "mode": "Append",
          "partitionBy": "[]",
          "statsOnLoad": "true"
         },
         null,
         [
          "1360322666244396"
         ],
         "1014-150852-z4p97ndi-v2n",
         13,
         "WriteSerializable",
         true,
         {
          "numFiles": "1",
          "numOutputBytes": "1018",
          "numOutputRows": "2"
         },
         null,
         "Databricks-Runtime/17.2.x-aarch64-photon-scala2.13"
        ],
        [
         13,
         "2025-10-14T15:29:34.000Z",
         "70429301836869",
         "rajatsaini9460@gmail.com",
         "OPTIMIZE",
         {
          "auto": "true",
          "batchId": "0",
          "clusterBy": "[]",
          "predicate": "[]",
          "zOrderBy": "[]"
         },
         null,
         [
          "1360322666244396"
         ],
         "1014-150852-z4p97ndi-v2n",
         12,
         "SnapshotIsolation",
         false,
         {
          "maxFileSize": "1077",
          "minFileSize": "1077",
          "numAddedBytes": "1077",
          "numAddedFiles": "1",
          "numDeletionVectorsRemoved": "1",
          "numRemovedBytes": "1091",
          "numRemovedFiles": "1",
          "p25FileSize": "1077",
          "p50FileSize": "1077",
          "p75FileSize": "1077"
         },
         null,
         "Databricks-Runtime/17.2.x-aarch64-photon-scala2.13"
        ],
        [
         12,
         "2025-10-14T15:29:32.000Z",
         "70429301836869",
         "rajatsaini9460@gmail.com",
         "DELETE",
         {
          "predicate": "[\"(id#14049L = 2)\"]"
         },
         null,
         [
          "1360322666244396"
         ],
         "1014-150852-z4p97ndi-v2n",
         11,
         "WriteSerializable",
         false,
         {
          "executionTimeMs": "1927",
          "numAddedBytes": "0",
          "numAddedChangeFiles": "0",
          "numAddedFiles": "0",
          "numCopiedRows": "0",
          "numDeletedRows": "1",
          "numDeletionVectorsAdded": "1",
          "numDeletionVectorsRemoved": "0",
          "numDeletionVectorsUpdated": "0",
          "numRemovedBytes": "0",
          "numRemovedFiles": "0",
          "rewriteTimeMs": "1070",
          "scanTimeMs": "857"
         },
         null,
         "Databricks-Runtime/17.2.x-aarch64-photon-scala2.13"
        ],
        [
         11,
         "2025-10-14T15:29:28.000Z",
         "70429301836869",
         "rajatsaini9460@gmail.com",
         "OPTIMIZE",
         {
          "auto": "true",
          "batchId": "0",
          "clusterBy": "[]",
          "predicate": "[]",
          "zOrderBy": "[]"
         },
         null,
         [
          "1360322666244396"
         ],
         "1014-150852-z4p97ndi-v2n",
         10,
         "SnapshotIsolation",
         false,
         {
          "maxFileSize": "1091",
          "minFileSize": "1091",
          "numAddedBytes": "1091",
          "numAddedFiles": "1",
          "numDeletionVectorsRemoved": "1",
          "numRemovedBytes": "3085",
          "numRemovedFiles": "3",
          "p25FileSize": "1091",
          "p50FileSize": "1091",
          "p75FileSize": "1091"
         },
         null,
         "Databricks-Runtime/17.2.x-aarch64-photon-scala2.13"
        ],
        [
         10,
         "2025-10-14T15:29:27.000Z",
         "70429301836869",
         "rajatsaini9460@gmail.com",
         "UPDATE",
         {
          "predicate": "[\"(id#13651L = 3)\"]"
         },
         null,
         [
          "1360322666244396"
         ],
         "1014-150852-z4p97ndi-v2n",
         9,
         "WriteSerializable",
         false,
         {
          "executionTimeMs": "1951",
          "numAddedBytes": "1010",
          "numAddedChangeFiles": "0",
          "numAddedFiles": "1",
          "numCopiedRows": "0",
          "numDeletionVectorsAdded": "1",
          "numDeletionVectorsRemoved": "0",
          "numDeletionVectorsUpdated": "0",
          "numRemovedBytes": "0",
          "numRemovedFiles": "0",
          "numUpdatedRows": "1",
          "rewriteTimeMs": "1170",
          "scanTimeMs": "780"
         },
         null,
         "Databricks-Runtime/17.2.x-aarch64-photon-scala2.13"
        ],
        [
         9,
         "2025-10-14T15:29:23.000Z",
         "70429301836869",
         "rajatsaini9460@gmail.com",
         "WRITE",
         {
          "mode": "Append",
          "partitionBy": "[]",
          "statsOnLoad": "true"
         },
         null,
         [
          "1360322666244396"
         ],
         "1014-150852-z4p97ndi-v2n",
         8,
         "WriteSerializable",
         true,
         {
          "numFiles": "1",
          "numOutputBytes": "1018",
          "numOutputRows": "2"
         },
         null,
         "Databricks-Runtime/17.2.x-aarch64-photon-scala2.13"
        ],
        [
         8,
         "2025-10-14T15:25:07.000Z",
         "70429301836869",
         "rajatsaini9460@gmail.com",
         "CREATE OR REPLACE TABLE AS SELECT",
         {
          "clusterBy": "[]",
          "description": null,
          "isManaged": "true",
          "partitionBy": "[]",
          "properties": "{\"delta.enableDeletionVectors\":\"true\"}",
          "statsOnLoad": "true"
         },
         null,
         [
          "1360322666244396"
         ],
         "1014-150852-z4p97ndi-v2n",
         7,
         "WriteSerializable",
         false,
         {
          "numDeletionVectorsRemoved": "0",
          "numFiles": "1",
          "numOutputBytes": "1057",
          "numOutputRows": "3",
          "numRemovedBytes": "1042",
          "numRemovedFiles": "1"
         },
         null,
         "Databricks-Runtime/17.2.x-aarch64-photon-scala2.13"
        ],
        [
         7,
         "2025-10-14T15:23:28.001Z",
         "70429301836869",
         "rajatsaini9460@gmail.com",
         "OPTIMIZE",
         {
          "auto": "true",
          "batchId": "0",
          "clusterBy": "[]",
          "predicate": "[]",
          "zOrderBy": "[]"
         },
         null,
         [
          "1360322666244396"
         ],
         "1014-150852-z4p97ndi-v2n",
         5,
         "SnapshotIsolation",
         false,
         {
          "conflictDetectionTimeMs": "44",
          "maxFileSize": "1042",
          "minFileSize": "1042",
          "numAddedBytes": "1042",
          "numAddedFiles": "1",
          "numDeletionVectorsRemoved": "1",
          "numRemovedBytes": "2052",
          "numRemovedFiles": "2",
          "p25FileSize": "1042",
          "p50FileSize": "1042",
          "p75FileSize": "1042"
         },
         null,
         "Databricks-Runtime/17.2.x-aarch64-photon-scala2.13"
        ],
        [
         6,
         "2025-10-14T15:23:28.000Z",
         "70429301836869",
         "rajatsaini9460@gmail.com",
         "DELETE",
         {
          "predicate": "[\"(id#12790L = 2)\"]"
         },
         null,
         [
          "1360322666244396"
         ],
         "1014-150852-z4p97ndi-v2n",
         5,
         "WriteSerializable",
         false,
         {
          "executionTimeMs": "405",
          "numAddedBytes": "0",
          "numAddedChangeFiles": "0",
          "numAddedFiles": "0",
          "numCopiedRows": "0",
          "numDeletedRows": "0",
          "numDeletionVectorsAdded": "0",
          "numDeletionVectorsRemoved": "0",
          "numDeletionVectorsUpdated": "0",
          "numRemovedBytes": "0",
          "numRemovedFiles": "0",
          "rewriteTimeMs": "0",
          "scanTimeMs": "404"
         },
         null,
         "Databricks-Runtime/17.2.x-aarch64-photon-scala2.13"
        ],
        [
         5,
         "2025-10-14T15:23:26.000Z",
         "70429301836869",
         "rajatsaini9460@gmail.com",
         "UPDATE",
         {
          "predicate": "[\"(id#12533L = 3)\"]"
         },
         null,
         [
          "1360322666244396"
         ],
         "1014-150852-z4p97ndi-v2n",
         4,
         "WriteSerializable",
         false,
         {
          "executionTimeMs": "2177",
          "numAddedBytes": "1010",
          "numAddedChangeFiles": "0",
          "numAddedFiles": "1",
          "numCopiedRows": "0",
          "numDeletionVectorsAdded": "1",
          "numDeletionVectorsRemoved": "0",
          "numDeletionVectorsUpdated": "0",
          "numRemovedBytes": "0",
          "numRemovedFiles": "0",
          "numUpdatedRows": "1",
          "rewriteTimeMs": "1342",
          "scanTimeMs": "835"
         },
         null,
         "Databricks-Runtime/17.2.x-aarch64-photon-scala2.13"
        ],
        [
         4,
         "2025-10-14T15:20:48.000Z",
         "70429301836869",
         "rajatsaini9460@gmail.com",
         "OPTIMIZE",
         {
          "auto": "true",
          "batchId": "0",
          "clusterBy": "[]",
          "predicate": "[]",
          "zOrderBy": "[]"
         },
         null,
         [
          "1360322666244396"
         ],
         "1014-150852-z4p97ndi-v2n",
         3,
         "SnapshotIsolation",
         false,
         {
          "maxFileSize": "1042",
          "minFileSize": "1042",
          "numAddedBytes": "1042",
          "numAddedFiles": "1",
          "numDeletionVectorsRemoved": "1",
          "numRemovedBytes": "1059",
          "numRemovedFiles": "1",
          "p25FileSize": "1042",
          "p50FileSize": "1042",
          "p75FileSize": "1042"
         },
         null,
         "Databricks-Runtime/17.2.x-aarch64-photon-scala2.13"
        ],
        [
         3,
         "2025-10-14T15:20:46.000Z",
         "70429301836869",
         "rajatsaini9460@gmail.com",
         "DELETE",
         {
          "predicate": "[\"(id#12066L = 2)\"]"
         },
         null,
         [
          "1360322666244396"
         ],
         "1014-150852-z4p97ndi-v2n",
         1,
         "WriteSerializable",
         false,
         {
          "conflictDetectionTimeMs": "588",
          "executionTimeMs": "1417",
          "numAddedBytes": "0",
          "numAddedChangeFiles": "0",
          "numAddedFiles": "0",
          "numCopiedRows": "0",
          "numDeletedRows": "1",
          "numDeletionVectorsAdded": "1",
          "numDeletionVectorsRemoved": "1",
          "numDeletionVectorsUpdated": "1",
          "numRemovedBytes": "0",
          "numRemovedFiles": "0",
          "rewriteTimeMs": "374",
          "scanTimeMs": "1033"
         },
         null,
         "Databricks-Runtime/17.2.x-aarch64-photon-scala2.13"
        ],
        [
         2,
         "2025-10-14T15:20:45.000Z",
         "70429301836869",
         "rajatsaini9460@gmail.com",
         "OPTIMIZE",
         {
          "auto": "true",
          "batchId": "0",
          "clusterBy": "[]",
          "predicate": "[]",
          "zOrderBy": "[]"
         },
         null,
         [
          "1360322666244396"
         ],
         "1014-150852-z4p97ndi-v2n",
         1,
         "SnapshotIsolation",
         false,
         {
          "maxFileSize": "1059",
          "minFileSize": "1059",
          "numAddedBytes": "1059",
          "numAddedFiles": "1",
          "numDeletionVectorsRemoved": "1",
          "numRemovedBytes": "2067",
          "numRemovedFiles": "2",
          "p25FileSize": "1059",
          "p50FileSize": "1059",
          "p75FileSize": "1059"
         },
         null,
         "Databricks-Runtime/17.2.x-aarch64-photon-scala2.13"
        ],
        [
         1,
         "2025-10-14T15:20:43.000Z",
         "70429301836869",
         "rajatsaini9460@gmail.com",
         "UPDATE",
         {
          "predicate": "[\"(id#11761L = 3)\"]"
         },
         null,
         [
          "1360322666244396"
         ],
         "1014-150852-z4p97ndi-v2n",
         0,
         "WriteSerializable",
         false,
         {
          "executionTimeMs": "3426",
          "numAddedBytes": "1010",
          "numAddedChangeFiles": "0",
          "numAddedFiles": "1",
          "numCopiedRows": "0",
          "numDeletionVectorsAdded": "1",
          "numDeletionVectorsRemoved": "0",
          "numDeletionVectorsUpdated": "0",
          "numRemovedBytes": "0",
          "numRemovedFiles": "0",
          "numUpdatedRows": "1",
          "rewriteTimeMs": "1520",
          "scanTimeMs": "1877"
         },
         null,
         "Databricks-Runtime/17.2.x-aarch64-photon-scala2.13"
        ],
        [
         0,
         "2025-10-14T15:14:36.000Z",
         "70429301836869",
         "rajatsaini9460@gmail.com",
         "CREATE TABLE AS SELECT",
         {
          "clusterBy": "[]",
          "description": null,
          "isManaged": "true",
          "partitionBy": "[]",
          "properties": "{\"delta.enableDeletionVectors\":\"true\"}",
          "statsOnLoad": "true"
         },
         null,
         [
          "1360322666244396"
         ],
         "1014-150852-z4p97ndi-v2n",
         null,
         "WriteSerializable",
         true,
         {
          "numFiles": "1",
          "numOutputBytes": "1057",
          "numOutputRows": "3"
         },
         null,
         "Databricks-Runtime/17.2.x-aarch64-photon-scala2.13"
        ]
       ],
       "datasetInfos": [],
       "dbfsResultPath": null,
       "isJsonSchema": true,
       "metadata": {},
       "overflow": false,
       "plotOptions": {
        "customPlotOptions": {},
        "displayType": "table",
        "pivotAggregation": null,
        "pivotColumns": null,
        "xColumns": null,
        "yColumns": null
       },
       "removedWidgets": [],
       "schema": [
        {
         "metadata": "{}",
         "name": "version",
         "type": "\"long\""
        },
        {
         "metadata": "{}",
         "name": "timestamp",
         "type": "\"timestamp\""
        },
        {
         "metadata": "{}",
         "name": "userId",
         "type": "\"string\""
        },
        {
         "metadata": "{}",
         "name": "userName",
         "type": "\"string\""
        },
        {
         "metadata": "{}",
         "name": "operation",
         "type": "\"string\""
        },
        {
         "metadata": "{}",
         "name": "operationParameters",
         "type": "{\"keyType\":\"string\",\"type\":\"map\",\"valueContainsNull\":true,\"valueType\":\"string\"}"
        },
        {
         "metadata": "{}",
         "name": "job",
         "type": "{\"fields\":[{\"metadata\":{},\"name\":\"jobId\",\"nullable\":true,\"type\":\"string\"},{\"metadata\":{},\"name\":\"jobName\",\"nullable\":true,\"type\":\"string\"},{\"metadata\":{},\"name\":\"jobRunId\",\"nullable\":true,\"type\":\"string\"},{\"metadata\":{},\"name\":\"runId\",\"nullable\":true,\"type\":\"string\"},{\"metadata\":{},\"name\":\"jobOwnerId\",\"nullable\":true,\"type\":\"string\"},{\"metadata\":{},\"name\":\"triggerType\",\"nullable\":true,\"type\":\"string\"}],\"type\":\"struct\"}"
        },
        {
         "metadata": "{}",
         "name": "notebook",
         "type": "{\"fields\":[{\"metadata\":{},\"name\":\"notebookId\",\"nullable\":true,\"type\":\"string\"}],\"type\":\"struct\"}"
        },
        {
         "metadata": "{}",
         "name": "clusterId",
         "type": "\"string\""
        },
        {
         "metadata": "{}",
         "name": "readVersion",
         "type": "\"long\""
        },
        {
         "metadata": "{}",
         "name": "isolationLevel",
         "type": "\"string\""
        },
        {
         "metadata": "{}",
         "name": "isBlindAppend",
         "type": "\"boolean\""
        },
        {
         "metadata": "{}",
         "name": "operationMetrics",
         "type": "{\"keyType\":\"string\",\"type\":\"map\",\"valueContainsNull\":true,\"valueType\":\"string\"}"
        },
        {
         "metadata": "{}",
         "name": "userMetadata",
         "type": "\"string\""
        },
        {
         "metadata": "{}",
         "name": "engineInfo",
         "type": "\"string\""
        }
       ],
       "type": "table"
      }
     },
     "output_type": "display_data"
    }
   ],
   "source": [
    "history = spark.sql(\"DESCRIBE HISTORY deltaTable\")\n",
    "display(history)"
   ]
  },
  {
   "cell_type": "code",
   "execution_count": 0,
   "metadata": {
    "application/vnd.databricks.v1+cell": {
     "cellMetadata": {
      "byteLimit": 2048000,
      "rowLimit": 10000
     },
     "inputWidgets": {},
     "nuid": "96f5c409-cbef-4565-9a2c-c6c0a561416e",
     "showTitle": false,
     "tableResultSettingsMap": {},
     "title": ""
    }
   },
   "outputs": [
    {
     "output_type": "display_data",
     "data": {
      "text/html": [
       "<style scoped>\n",
       "  .table-result-container {\n",
       "    max-height: 300px;\n",
       "    overflow: auto;\n",
       "  }\n",
       "  table, th, td {\n",
       "    border: 1px solid black;\n",
       "    border-collapse: collapse;\n",
       "  }\n",
       "  th, td {\n",
       "    padding: 5px;\n",
       "  }\n",
       "  th {\n",
       "    text-align: left;\n",
       "  }\n",
       "</style><div class='table-result-container'><table class='table-result'><thead style='background-color: white'><tr><th>id</th><th>name</th><th>age</th></tr></thead><tbody><tr><td>1</td><td>Rajat</td><td>23</td></tr><tr><td>2</td><td>Shiv</td><td>30</td></tr><tr><td>3</td><td>Amit</td><td>25</td></tr></tbody></table></div>"
      ]
     },
     "metadata": {
      "application/vnd.databricks.v1+output": {
       "addedWidgets": {},
       "aggData": [],
       "aggError": "",
       "aggOverflow": false,
       "aggSchema": [],
       "aggSeriesLimitReached": false,
       "aggType": "",
       "arguments": {},
       "columnCustomDisplayInfos": {},
       "data": [
        [
         1,
         "Rajat",
         23
        ],
        [
         2,
         "Shiv",
         30
        ],
        [
         3,
         "Amit",
         25
        ]
       ],
       "datasetInfos": [],
       "dbfsResultPath": null,
       "isJsonSchema": true,
       "metadata": {},
       "overflow": false,
       "plotOptions": {
        "customPlotOptions": {},
        "displayType": "table",
        "pivotAggregation": null,
        "pivotColumns": null,
        "xColumns": null,
        "yColumns": null
       },
       "removedWidgets": [],
       "schema": [
        {
         "metadata": "{}",
         "name": "id",
         "type": "\"long\""
        },
        {
         "metadata": "{}",
         "name": "name",
         "type": "\"string\""
        },
        {
         "metadata": "{}",
         "name": "age",
         "type": "\"long\""
        }
       ],
       "type": "table"
      }
     },
     "output_type": "display_data"
    },
    {
     "output_type": "display_data",
     "data": {
      "text/html": [
       "<style scoped>\n",
       "  .table-result-container {\n",
       "    max-height: 300px;\n",
       "    overflow: auto;\n",
       "  }\n",
       "  table, th, td {\n",
       "    border: 1px solid black;\n",
       "    border-collapse: collapse;\n",
       "  }\n",
       "  th, td {\n",
       "    padding: 5px;\n",
       "  }\n",
       "  th {\n",
       "    text-align: left;\n",
       "  }\n",
       "</style><div class='table-result-container'><table class='table-result'><thead style='background-color: white'><tr><th>id</th><th>name</th><th>age</th></tr></thead><tbody><tr><td>3</td><td>Amit</td><td>35</td></tr><tr><td>1</td><td>Rajat</td><td>23</td></tr></tbody></table></div>"
      ]
     },
     "metadata": {
      "application/vnd.databricks.v1+output": {
       "addedWidgets": {},
       "aggData": [],
       "aggError": "",
       "aggOverflow": false,
       "aggSchema": [],
       "aggSeriesLimitReached": false,
       "aggType": "",
       "arguments": {},
       "columnCustomDisplayInfos": {},
       "data": [
        [
         3,
         "Amit",
         35
        ],
        [
         1,
         "Rajat",
         23
        ]
       ],
       "datasetInfos": [],
       "dbfsResultPath": null,
       "isJsonSchema": true,
       "metadata": {},
       "overflow": false,
       "plotOptions": {
        "customPlotOptions": {},
        "displayType": "table",
        "pivotAggregation": null,
        "pivotColumns": null,
        "xColumns": null,
        "yColumns": null
       },
       "removedWidgets": [],
       "schema": [
        {
         "metadata": "{}",
         "name": "id",
         "type": "\"long\""
        },
        {
         "metadata": "{}",
         "name": "name",
         "type": "\"string\""
        },
        {
         "metadata": "{}",
         "name": "age",
         "type": "\"long\""
        }
       ],
       "type": "table"
      }
     },
     "output_type": "display_data"
    }
   ],
   "source": [
    "old_df1 = spark.read.format(\"delta\").option(\"versionAsOf\", 0).table(\"deltaTable\")\n",
    "display(old_df1)\n",
    "old_df2 = spark.read.format(\"delta\").option(\"timestampAsOf\", \"2025-10-14T15:20:46.000+00:00\").table(\"deltaTable\")\n",
    "display(old_df2)"
   ]
  },
  {
   "cell_type": "code",
   "execution_count": 0,
   "metadata": {
    "application/vnd.databricks.v1+cell": {
     "cellMetadata": {
      "byteLimit": 2048000,
      "rowLimit": 10000
     },
     "inputWidgets": {},
     "nuid": "85079773-45b3-4f0b-84b6-b6837233dc41",
     "showTitle": false,
     "tableResultSettingsMap": {},
     "title": ""
    }
   },
   "outputs": [
    {
     "output_type": "stream",
     "name": "stdout",
     "output_type": "stream",
     "text": [
      "+---+-----+\n| id| name|\n+---+-----+\n|  1|Rajat|\n|  2| Amit|\n+---+-----+\n\n"
     ]
    }
   ],
   "source": [
    "from pyspark.sql import Row\n",
    "\n",
    "data = [Row(id=1, name=\"Rajat\"), Row(id=2, name=\"Amit\")]\n",
    "df = spark.createDataFrame(data)\n",
    "\n",
    "df.write.format(\"delta\").mode(\"overwrite\").saveAsTable(\"acidDemo1\")\n",
    "spark.sql(\"SELECT * FROM acidDemo1\").show()\n"
   ]
  },
  {
   "cell_type": "code",
   "execution_count": 0,
   "metadata": {
    "application/vnd.databricks.v1+cell": {
     "cellMetadata": {
      "byteLimit": 2048000,
      "rowLimit": 10000
     },
     "inputWidgets": {},
     "nuid": "ab1a0c33-77ae-4afd-ad65-2a44ef82eb3f",
     "showTitle": false,
     "tableResultSettingsMap": {},
     "title": ""
    }
   },
   "outputs": [
    {
     "output_type": "stream",
     "name": "stdout",
     "output_type": "stream",
     "text": [
      "+---+-----+----+\n| id| name| age|\n+---+-----+----+\n|  3| Shiv|  29|\n|  1|Rajat|NULL|\n|  2| Amit|NULL|\n+---+-----+----+\n\n"
     ]
    }
   ],
   "source": [
    "# mergeSchema\n",
    "new_data = [Row(id=3, name=\"Shiv\", age=29)]\n",
    "new_df = spark.createDataFrame(new_data)\n",
    "\n",
    "new_df.write.format(\"delta\") .option(\"mergeSchema\", \"true\").mode(\"append\").saveAsTable(\"acidDemo1\")\n",
    "\n",
    "spark.sql(\"SELECT * FROM acidDemo1\").show()\n"
   ]
  },
  {
   "cell_type": "code",
   "execution_count": 0,
   "metadata": {
    "application/vnd.databricks.v1+cell": {
     "cellMetadata": {
      "byteLimit": 2048000,
      "rowLimit": 10000
     },
     "inputWidgets": {},
     "nuid": "2d414d58-cc55-4ab2-9611-46ab619327aa",
     "showTitle": false,
     "tableResultSettingsMap": {},
     "title": ""
    }
   },
   "outputs": [
    {
     "output_type": "stream",
     "name": "stdout",
     "output_type": "stream",
     "text": [
      "+---+-----------+---+\n| id|  full_name|age|\n+---+-----------+---+\n|  1|Rajat Saini| 23|\n+---+-----------+---+\n\n"
     ]
    }
   ],
   "source": [
    "# overwriteSchema\n",
    "updated_data = [Row(id=1, full_name=\"Rajat Saini\", age=23)]\n",
    "updated_df = spark.createDataFrame(updated_data)\n",
    "\n",
    "updated_df.write.format(\"delta\").option(\"overwriteSchema\", \"true\").mode(\"overwrite\").saveAsTable(\"acidDemo1\")\n",
    "\n",
    "spark.sql(\"SELECT * FROM acidDemo1\").show()\n"
   ]
  },
  {
   "cell_type": "code",
   "execution_count": 0,
   "metadata": {
    "application/vnd.databricks.v1+cell": {
     "cellMetadata": {
      "byteLimit": 2048000,
      "rowLimit": 10000
     },
     "inputWidgets": {},
     "nuid": "360fe4ac-1fed-47ec-86ee-88c1f522a394",
     "showTitle": false,
     "tableResultSettingsMap": {},
     "title": ""
    }
   },
   "outputs": [
    {
     "output_type": "display_data",
     "data": {
      "text/plain": [
       "com.databricks.backend.common.rpc.CommandSkippedException\n",
       "\tat com.databricks.spark.chauffeur.SequenceExecutionState.$anonfun$cancel$3(SequenceExecutionState.scala:134)\n",
       "\tat com.databricks.spark.chauffeur.SequenceExecutionState.$anonfun$cancel$3$adapted(SequenceExecutionState.scala:129)\n",
       "\tat scala.collection.immutable.Range.foreach(Range.scala:192)\n",
       "\tat com.databricks.spark.chauffeur.SequenceExecutionState.cancel(SequenceExecutionState.scala:129)\n",
       "\tat com.databricks.spark.chauffeur.ExecContextState.cancelRunningSequence(ExecContextState.scala:715)\n",
       "\tat com.databricks.spark.chauffeur.ExecContextState.$anonfun$cancel$1(ExecContextState.scala:435)\n",
       "\tat scala.Option.getOrElse(Option.scala:201)\n",
       "\tat com.databricks.spark.chauffeur.ExecContextState.cancel(ExecContextState.scala:435)\n",
       "\tat com.databricks.spark.chauffeur.ExecutionContextManagerV1.cancelExecution(ExecutionContextManagerV1.scala:465)\n",
       "\tat com.databricks.spark.chauffeur.ChauffeurState.$anonfun$process$1(ChauffeurState.scala:741)\n",
       "\tat com.databricks.logging.UsageLogging.$anonfun$recordOperation$1(UsageLogging.scala:510)\n",
       "\tat com.databricks.logging.UsageLogging.executeThunkAndCaptureResultTags$1(UsageLogging.scala:616)\n",
       "\tat com.databricks.logging.UsageLogging.$anonfun$recordOperationWithResultTags$4(UsageLogging.scala:643)\n",
       "\tat com.databricks.logging.AttributionContextTracing.$anonfun$withAttributionContext$1(AttributionContextTracing.scala:80)\n",
       "\tat com.databricks.logging.AttributionContext$.$anonfun$withValue$1(AttributionContext.scala:348)\n",
       "\tat scala.util.DynamicVariable.withValue(DynamicVariable.scala:59)\n",
       "\tat com.databricks.logging.AttributionContext$.withValue(AttributionContext.scala:344)\n",
       "\tat com.databricks.logging.AttributionContextTracing.withAttributionContext(AttributionContextTracing.scala:78)\n",
       "\tat com.databricks.logging.AttributionContextTracing.withAttributionContext$(AttributionContextTracing.scala:75)\n",
       "\tat com.databricks.spark.chauffeur.ChauffeurState.withAttributionContext(ChauffeurState.scala:84)\n",
       "\tat com.databricks.logging.AttributionContextTracing.withAttributionTags(AttributionContextTracing.scala:127)\n",
       "\tat com.databricks.logging.AttributionContextTracing.withAttributionTags$(AttributionContextTracing.scala:108)\n",
       "\tat com.databricks.spark.chauffeur.ChauffeurState.withAttributionTags(ChauffeurState.scala:84)\n",
       "\tat com.databricks.logging.UsageLogging.recordOperationWithResultTags(UsageLogging.scala:611)\n",
       "\tat com.databricks.logging.UsageLogging.recordOperationWithResultTags$(UsageLogging.scala:519)\n",
       "\tat com.databricks.spark.chauffeur.ChauffeurState.recordOperationWithResultTags(ChauffeurState.scala:84)\n",
       "\tat com.databricks.logging.UsageLogging.recordOperation(UsageLogging.scala:511)\n",
       "\tat com.databricks.logging.UsageLogging.recordOperation$(UsageLogging.scala:475)\n",
       "\tat com.databricks.spark.chauffeur.ChauffeurState.recordOperation(ChauffeurState.scala:84)\n",
       "\tat com.databricks.spark.chauffeur.ChauffeurState.process(ChauffeurState.scala:719)\n",
       "\tat com.databricks.spark.chauffeur.Chauffeur$$anon$1$$anonfun$com$databricks$spark$chauffeur$Chauffeur$$nestedInanon$$receiveInternal$1.handleDriverRequest$1(Chauffeur.scala:918)\n",
       "\tat com.databricks.spark.chauffeur.Chauffeur$$anon$1$$anonfun$com$databricks$spark$chauffeur$Chauffeur$$nestedInanon$$receiveInternal$1.$anonfun$applyOrElse$3(Chauffeur.scala:944)\n",
       "\tat com.databricks.logging.UsageLogging.executeThunkAndCaptureResultTags$1(UsageLogging.scala:616)\n",
       "\tat com.databricks.logging.UsageLogging.$anonfun$recordOperationWithResultTags$4(UsageLogging.scala:643)\n",
       "\tat com.databricks.logging.AttributionContextTracing.$anonfun$withAttributionContext$1(AttributionContextTracing.scala:80)\n",
       "\tat com.databricks.logging.AttributionContext$.$anonfun$withValue$1(AttributionContext.scala:348)\n",
       "\tat scala.util.DynamicVariable.withValue(DynamicVariable.scala:59)\n",
       "\tat com.databricks.logging.AttributionContext$.withValue(AttributionContext.scala:344)\n",
       "\tat com.databricks.logging.AttributionContextTracing.withAttributionContext(AttributionContextTracing.scala:78)\n",
       "\tat com.databricks.logging.AttributionContextTracing.withAttributionContext$(AttributionContextTracing.scala:75)\n",
       "\tat com.databricks.rpc.ServerBackend.withAttributionContext(ServerBackend.scala:23)\n",
       "\tat com.databricks.logging.AttributionContextTracing.withAttributionTags(AttributionContextTracing.scala:127)\n",
       "\tat com.databricks.logging.AttributionContextTracing.withAttributionTags$(AttributionContextTracing.scala:108)\n",
       "\tat com.databricks.rpc.ServerBackend.withAttributionTags(ServerBackend.scala:23)\n",
       "\tat com.databricks.logging.UsageLogging.recordOperationWithResultTags(UsageLogging.scala:611)\n",
       "\tat com.databricks.logging.UsageLogging.recordOperationWithResultTags$(UsageLogging.scala:519)\n",
       "\tat com.databricks.rpc.ServerBackend.recordOperationWithResultTags(ServerBackend.scala:23)\n",
       "\tat com.databricks.spark.chauffeur.Chauffeur$$anon$1$$anonfun$com$databricks$spark$chauffeur$Chauffeur$$nestedInanon$$receiveInternal$1.handleDriverRequestWithUsageLogging$1(Chauffeur.scala:943)\n",
       "\tat com.databricks.spark.chauffeur.Chauffeur$$anon$1$$anonfun$com$databricks$spark$chauffeur$Chauffeur$$nestedInanon$$receiveInternal$1.applyOrElse(Chauffeur.scala:998)\n",
       "\tat com.databricks.spark.chauffeur.Chauffeur$$anon$1$$anonfun$com$databricks$spark$chauffeur$Chauffeur$$nestedInanon$$receiveInternal$1.applyOrElse(Chauffeur.scala:801)\n",
       "\tat scala.runtime.AbstractPartialFunction.apply(AbstractPartialFunction.scala:35)\n",
       "\tat com.databricks.spark.chauffeur.Chauffeur$$anon$1$$anonfun$receive$1.applyOrElse(Chauffeur.scala:797)\n",
       "\tat com.databricks.spark.chauffeur.Chauffeur$$anon$1$$anonfun$receive$1.applyOrElse(Chauffeur.scala:792)\n",
       "\tat com.databricks.rpc.ServerBackend.$anonfun$internalReceive0$2(ServerBackend.scala:189)\n",
       "\tat com.databricks.rpc.ServerBackend$$anonfun$commonReceive$1.applyOrElse(ServerBackend.scala:215)\n",
       "\tat com.databricks.rpc.ServerBackend$$anonfun$commonReceive$1.applyOrElse(ServerBackend.scala:215)\n",
       "\tat com.databricks.rpc.ServerBackend.internalReceive0(ServerBackend.scala:186)\n",
       "\tat com.databricks.rpc.ServerBackend.$anonfun$internalReceive$5(ServerBackend.scala:175)\n",
       "\tat com.databricks.logging.UsageLogging.$anonfun$recordOperation$1(UsageLogging.scala:510)\n",
       "\tat com.databricks.logging.UsageLogging.executeThunkAndCaptureResultTags$1(UsageLogging.scala:616)\n",
       "\tat com.databricks.logging.UsageLogging.$anonfun$recordOperationWithResultTags$4(UsageLogging.scala:643)\n",
       "\tat com.databricks.logging.AttributionContextTracing.$anonfun$withAttributionContext$1(AttributionContextTracing.scala:80)\n",
       "\tat com.databricks.logging.AttributionContext$.$anonfun$withValue$1(AttributionContext.scala:348)\n",
       "\tat scala.util.DynamicVariable.withValue(DynamicVariable.scala:59)\n",
       "\tat com.databricks.logging.AttributionContext$.withValue(AttributionContext.scala:344)\n",
       "\tat com.databricks.logging.AttributionContextTracing.withAttributionContext(AttributionContextTracing.scala:78)\n",
       "\tat com.databricks.logging.AttributionContextTracing.withAttributionContext$(AttributionContextTracing.scala:75)\n",
       "\tat com.databricks.rpc.ServerBackend.withAttributionContext(ServerBackend.scala:23)\n",
       "\tat com.databricks.logging.AttributionContextTracing.withAttributionTags(AttributionContextTracing.scala:127)\n",
       "\tat com.databricks.logging.AttributionContextTracing.withAttributionTags$(AttributionContextTracing.scala:108)\n",
       "\tat com.databricks.rpc.ServerBackend.withAttributionTags(ServerBackend.scala:23)\n",
       "\tat com.databricks.logging.UsageLogging.recordOperationWithResultTags(UsageLogging.scala:611)\n",
       "\tat com.databricks.logging.UsageLogging.recordOperationWithResultTags$(UsageLogging.scala:519)\n",
       "\tat com.databricks.rpc.ServerBackend.recordOperationWithResultTags(ServerBackend.scala:23)\n",
       "\tat com.databricks.logging.UsageLogging.recordOperation(UsageLogging.scala:511)\n",
       "\tat com.databricks.logging.UsageLogging.recordOperation$(UsageLogging.scala:475)\n",
       "\tat com.databricks.rpc.ServerBackend.recordOperation(ServerBackend.scala:23)\n",
       "\tat com.databricks.rpc.ServerBackend.executeWithLogging$1(ServerBackend.scala:148)\n",
       "\tat com.databricks.rpc.ServerBackend.internalReceive(ServerBackend.scala:175)\n",
       "\tat com.databricks.rpc.JettyServer$RequestManager.handleRPC(JettyServer.scala:997)\n",
       "\tat com.databricks.rpc.JettyServer$RequestManager.handleRequestAndRespond(JettyServer.scala:917)\n",
       "\tat com.databricks.rpc.JettyServer$RequestManager.$anonfun$handleHttp$5(JettyServer.scala:557)\n",
       "\tat com.databricks.rpc.JettyServer$RequestManager.$anonfun$handleHttp$5$adapted(JettyServer.scala:522)\n",
       "\tat com.databricks.logging.activity.ActivityContextFactory$.$anonfun$withActivityInternal$12(ActivityContextFactory.scala:1096)\n",
       "\tat com.databricks.logging.AttributionContextTracing.$anonfun$withAttributionContext$1(AttributionContextTracing.scala:80)\n",
       "\tat com.databricks.logging.AttributionContext$.$anonfun$withValue$1(AttributionContext.scala:348)\n",
       "\tat scala.util.DynamicVariable.withValue(DynamicVariable.scala:59)\n",
       "\tat com.databricks.logging.AttributionContext$.withValue(AttributionContext.scala:344)\n",
       "\tat com.databricks.logging.AttributionContextTracing.withAttributionContext(AttributionContextTracing.scala:78)\n",
       "\tat com.databricks.logging.AttributionContextTracing.withAttributionContext$(AttributionContextTracing.scala:75)\n",
       "\tat com.databricks.logging.activity.ActivityContextFactory$.withAttributionContext(ActivityContextFactory.scala:63)\n",
       "\tat com.databricks.logging.activity.ActivityContextFactory$.$anonfun$withActivityInternal$2(ActivityContextFactory.scala:1096)\n",
       "\tat com.databricks.context.integrity.IntegrityCheckContext$ThreadLocalStorage$.withValue(IntegrityCheckContext.scala:73)\n",
       "\tat com.databricks.logging.activity.ActivityContextFactory$.withActivityInternal(ActivityContextFactory.scala:1058)\n",
       "\tat com.databricks.logging.activity.ActivityContextFactory$.withActivityInternal(ActivityContextFactory.scala:1039)\n",
       "\tat com.databricks.logging.activity.ActivityContextFactory$.$anonfun$withServiceRequestActivity$39(ActivityContextFactory.scala:406)\n",
       "\tat com.databricks.logging.AttributionContextTracing.$anonfun$withAttributionContext$1(AttributionContextTracing.scala:80)\n",
       "\tat com.databricks.logging.AttributionContext$.$anonfun$withValue$1(AttributionContext.scala:348)\n",
       "\tat scala.util.DynamicVariable.withValue(DynamicVariable.scala:59)\n",
       "\tat com.databricks.logging.AttributionContext$.withValue(AttributionContext.scala:344)\n",
       "\tat com.databricks.logging.AttributionContextTracing.withAttributionContext(AttributionContextTracing.scala:78)\n",
       "\tat com.databricks.logging.AttributionContextTracing.withAttributionContext$(AttributionContextTracing.scala:75)\n",
       "\tat com.databricks.logging.activity.ActivityContextFactory$.withAttributionContext(ActivityContextFactory.scala:63)\n",
       "\tat com.databricks.logging.activity.ActivityContextFactory$.withServiceRequestActivity(ActivityContextFactory.scala:406)\n",
       "\tat com.databricks.rpc.JettyServer$RequestManager.handleHttp(JettyServer.scala:522)\n",
       "\tat com.databricks.rpc.JettyServer$RequestManager.doPost(JettyServer.scala:417)\n",
       "\tat javax.servlet.http.HttpServlet.service(HttpServlet.java:665)\n",
       "\tat com.databricks.rpc.HttpServletWithPatch.service(HttpServletWithPatch.scala:33)\n",
       "\tat javax.servlet.http.HttpServlet.service(HttpServlet.java:750)\n",
       "\tat org.eclipse.jetty.servlet.ServletHolder.handle(ServletHolder.java:799)\n",
       "\tat org.eclipse.jetty.servlet.ServletHandler.doHandle(ServletHandler.java:554)\n",
       "\tat org.eclipse.jetty.server.handler.ScopedHandler.nextScope(ScopedHandler.java:190)\n",
       "\tat org.eclipse.jetty.servlet.ServletHandler.doScope(ServletHandler.java:505)\n",
       "\tat org.eclipse.jetty.server.handler.ScopedHandler.handle(ScopedHandler.java:141)\n",
       "\tat org.eclipse.jetty.server.handler.HandlerWrapper.handle(HandlerWrapper.java:127)\n",
       "\tat org.eclipse.jetty.server.Server.handle(Server.java:516)\n",
       "\tat org.eclipse.jetty.server.HttpChannel.lambda$handle$1(HttpChannel.java:487)\n",
       "\tat org.eclipse.jetty.server.HttpChannel.dispatch(HttpChannel.java:732)\n",
       "\tat org.eclipse.jetty.server.HttpChannel.handle(HttpChannel.java:479)\n",
       "\tat org.eclipse.jetty.server.HttpConnection.onFillable(HttpConnection.java:277)\n",
       "\tat org.eclipse.jetty.io.AbstractConnection$ReadCallback.succeeded(AbstractConnection.java:311)\n",
       "\tat org.eclipse.jetty.io.FillInterest.fillable(FillInterest.java:105)\n",
       "\tat org.eclipse.jetty.io.ssl.SslConnection$DecryptedEndPoint.onFillable(SslConnection.java:555)\n",
       "\tat org.eclipse.jetty.io.ssl.SslConnection.onFillable(SslConnection.java:410)\n",
       "\tat org.eclipse.jetty.io.ssl.SslConnection$2.succeeded(SslConnection.java:164)\n",
       "\tat org.eclipse.jetty.io.FillInterest.fillable(FillInterest.java:105)\n",
       "\tat org.eclipse.jetty.io.ChannelEndPoint$1.run(ChannelEndPoint.java:104)\n",
       "\tat org.eclipse.jetty.util.thread.strategy.EatWhatYouKill.runTask(EatWhatYouKill.java:338)\n",
       "\tat org.eclipse.jetty.util.thread.strategy.EatWhatYouKill.doProduce(EatWhatYouKill.java:315)\n",
       "\tat org.eclipse.jetty.util.thread.strategy.EatWhatYouKill.tryProduce(EatWhatYouKill.java:173)\n",
       "\tat org.eclipse.jetty.util.thread.strategy.EatWhatYouKill.run(EatWhatYouKill.java:131)\n",
       "\tat org.eclipse.jetty.util.thread.ReservedThreadExecutor$ReservedThread.run(ReservedThreadExecutor.java:409)\n",
       "\tat com.databricks.rpc.InstrumentedQueuedThreadPool$$anon$1.$anonfun$run$2(InstrumentedQueuedThreadPool.scala:111)\n",
       "\tat scala.runtime.java8.JFunction0$mcV$sp.apply(JFunction0$mcV$sp.scala:18)\n",
       "\tat com.databricks.logging.AttributionContextTracing.$anonfun$withAttributionContext$1(AttributionContextTracing.scala:80)\n",
       "\tat com.databricks.logging.AttributionContext$.$anonfun$withValue$1(AttributionContext.scala:348)\n",
       "\tat scala.util.DynamicVariable.withValue(DynamicVariable.scala:59)\n",
       "\tat com.databricks.logging.AttributionContext$.withValue(AttributionContext.scala:344)\n",
       "\tat com.databricks.logging.AttributionContextTracing.withAttributionContext(AttributionContextTracing.scala:78)\n",
       "\tat com.databricks.logging.AttributionContextTracing.withAttributionContext$(AttributionContextTracing.scala:75)\n",
       "\tat com.databricks.rpc.InstrumentedQueuedThreadPool.withAttributionContext(InstrumentedQueuedThreadPool.scala:46)\n",
       "\tat com.databricks.rpc.InstrumentedQueuedThreadPool$$anon$1.$anonfun$run$1(InstrumentedQueuedThreadPool.scala:111)\n",
       "\tat scala.runtime.java8.JFunction0$mcV$sp.apply(JFunction0$mcV$sp.scala:18)\n",
       "\tat com.databricks.instrumentation.QueuedThreadPoolInstrumenter.trackActiveThreads(QueuedThreadPoolInstrumenter.scala:132)\n",
       "\tat com.databricks.instrumentation.QueuedThreadPoolInstrumenter.trackActiveThreads$(QueuedThreadPoolInstrumenter.scala:129)\n",
       "\tat com.databricks.rpc.InstrumentedQueuedThreadPool.trackActiveThreads(InstrumentedQueuedThreadPool.scala:46)\n",
       "\tat com.databricks.rpc.InstrumentedQueuedThreadPool$$anon$1.run(InstrumentedQueuedThreadPool.scala:93)\n",
       "\tat org.eclipse.jetty.util.thread.QueuedThreadPool.runJob(QueuedThreadPool.java:883)\n",
       "\tat org.eclipse.jetty.util.thread.QueuedThreadPool$Runner.run(QueuedThreadPool.java:1034)\n",
       "\tat java.base/java.lang.Thread.run(Thread.java:840)"
      ]
     },
     "metadata": {
      "application/vnd.databricks.v1+output": {
       "addedWidgets": {},
       "arguments": {},
       "datasetInfos": [],
       "jupyterProps": null,
       "metadata": {
        "errorSummary": "Command skipped"
       },
       "removedWidgets": [],
       "sqlProps": null,
       "stackFrames": [
        "com.databricks.backend.common.rpc.CommandSkippedException",
        "\tat com.databricks.spark.chauffeur.SequenceExecutionState.$anonfun$cancel$3(SequenceExecutionState.scala:134)",
        "\tat com.databricks.spark.chauffeur.SequenceExecutionState.$anonfun$cancel$3$adapted(SequenceExecutionState.scala:129)",
        "\tat scala.collection.immutable.Range.foreach(Range.scala:192)",
        "\tat com.databricks.spark.chauffeur.SequenceExecutionState.cancel(SequenceExecutionState.scala:129)",
        "\tat com.databricks.spark.chauffeur.ExecContextState.cancelRunningSequence(ExecContextState.scala:715)",
        "\tat com.databricks.spark.chauffeur.ExecContextState.$anonfun$cancel$1(ExecContextState.scala:435)",
        "\tat scala.Option.getOrElse(Option.scala:201)",
        "\tat com.databricks.spark.chauffeur.ExecContextState.cancel(ExecContextState.scala:435)",
        "\tat com.databricks.spark.chauffeur.ExecutionContextManagerV1.cancelExecution(ExecutionContextManagerV1.scala:465)",
        "\tat com.databricks.spark.chauffeur.ChauffeurState.$anonfun$process$1(ChauffeurState.scala:741)",
        "\tat com.databricks.logging.UsageLogging.$anonfun$recordOperation$1(UsageLogging.scala:510)",
        "\tat com.databricks.logging.UsageLogging.executeThunkAndCaptureResultTags$1(UsageLogging.scala:616)",
        "\tat com.databricks.logging.UsageLogging.$anonfun$recordOperationWithResultTags$4(UsageLogging.scala:643)",
        "\tat com.databricks.logging.AttributionContextTracing.$anonfun$withAttributionContext$1(AttributionContextTracing.scala:80)",
        "\tat com.databricks.logging.AttributionContext$.$anonfun$withValue$1(AttributionContext.scala:348)",
        "\tat scala.util.DynamicVariable.withValue(DynamicVariable.scala:59)",
        "\tat com.databricks.logging.AttributionContext$.withValue(AttributionContext.scala:344)",
        "\tat com.databricks.logging.AttributionContextTracing.withAttributionContext(AttributionContextTracing.scala:78)",
        "\tat com.databricks.logging.AttributionContextTracing.withAttributionContext$(AttributionContextTracing.scala:75)",
        "\tat com.databricks.spark.chauffeur.ChauffeurState.withAttributionContext(ChauffeurState.scala:84)",
        "\tat com.databricks.logging.AttributionContextTracing.withAttributionTags(AttributionContextTracing.scala:127)",
        "\tat com.databricks.logging.AttributionContextTracing.withAttributionTags$(AttributionContextTracing.scala:108)",
        "\tat com.databricks.spark.chauffeur.ChauffeurState.withAttributionTags(ChauffeurState.scala:84)",
        "\tat com.databricks.logging.UsageLogging.recordOperationWithResultTags(UsageLogging.scala:611)",
        "\tat com.databricks.logging.UsageLogging.recordOperationWithResultTags$(UsageLogging.scala:519)",
        "\tat com.databricks.spark.chauffeur.ChauffeurState.recordOperationWithResultTags(ChauffeurState.scala:84)",
        "\tat com.databricks.logging.UsageLogging.recordOperation(UsageLogging.scala:511)",
        "\tat com.databricks.logging.UsageLogging.recordOperation$(UsageLogging.scala:475)",
        "\tat com.databricks.spark.chauffeur.ChauffeurState.recordOperation(ChauffeurState.scala:84)",
        "\tat com.databricks.spark.chauffeur.ChauffeurState.process(ChauffeurState.scala:719)",
        "\tat com.databricks.spark.chauffeur.Chauffeur$$anon$1$$anonfun$com$databricks$spark$chauffeur$Chauffeur$$nestedInanon$$receiveInternal$1.handleDriverRequest$1(Chauffeur.scala:918)",
        "\tat com.databricks.spark.chauffeur.Chauffeur$$anon$1$$anonfun$com$databricks$spark$chauffeur$Chauffeur$$nestedInanon$$receiveInternal$1.$anonfun$applyOrElse$3(Chauffeur.scala:944)",
        "\tat com.databricks.logging.UsageLogging.executeThunkAndCaptureResultTags$1(UsageLogging.scala:616)",
        "\tat com.databricks.logging.UsageLogging.$anonfun$recordOperationWithResultTags$4(UsageLogging.scala:643)",
        "\tat com.databricks.logging.AttributionContextTracing.$anonfun$withAttributionContext$1(AttributionContextTracing.scala:80)",
        "\tat com.databricks.logging.AttributionContext$.$anonfun$withValue$1(AttributionContext.scala:348)",
        "\tat scala.util.DynamicVariable.withValue(DynamicVariable.scala:59)",
        "\tat com.databricks.logging.AttributionContext$.withValue(AttributionContext.scala:344)",
        "\tat com.databricks.logging.AttributionContextTracing.withAttributionContext(AttributionContextTracing.scala:78)",
        "\tat com.databricks.logging.AttributionContextTracing.withAttributionContext$(AttributionContextTracing.scala:75)",
        "\tat com.databricks.rpc.ServerBackend.withAttributionContext(ServerBackend.scala:23)",
        "\tat com.databricks.logging.AttributionContextTracing.withAttributionTags(AttributionContextTracing.scala:127)",
        "\tat com.databricks.logging.AttributionContextTracing.withAttributionTags$(AttributionContextTracing.scala:108)",
        "\tat com.databricks.rpc.ServerBackend.withAttributionTags(ServerBackend.scala:23)",
        "\tat com.databricks.logging.UsageLogging.recordOperationWithResultTags(UsageLogging.scala:611)",
        "\tat com.databricks.logging.UsageLogging.recordOperationWithResultTags$(UsageLogging.scala:519)",
        "\tat com.databricks.rpc.ServerBackend.recordOperationWithResultTags(ServerBackend.scala:23)",
        "\tat com.databricks.spark.chauffeur.Chauffeur$$anon$1$$anonfun$com$databricks$spark$chauffeur$Chauffeur$$nestedInanon$$receiveInternal$1.handleDriverRequestWithUsageLogging$1(Chauffeur.scala:943)",
        "\tat com.databricks.spark.chauffeur.Chauffeur$$anon$1$$anonfun$com$databricks$spark$chauffeur$Chauffeur$$nestedInanon$$receiveInternal$1.applyOrElse(Chauffeur.scala:998)",
        "\tat com.databricks.spark.chauffeur.Chauffeur$$anon$1$$anonfun$com$databricks$spark$chauffeur$Chauffeur$$nestedInanon$$receiveInternal$1.applyOrElse(Chauffeur.scala:801)",
        "\tat scala.runtime.AbstractPartialFunction.apply(AbstractPartialFunction.scala:35)",
        "\tat com.databricks.spark.chauffeur.Chauffeur$$anon$1$$anonfun$receive$1.applyOrElse(Chauffeur.scala:797)",
        "\tat com.databricks.spark.chauffeur.Chauffeur$$anon$1$$anonfun$receive$1.applyOrElse(Chauffeur.scala:792)",
        "\tat com.databricks.rpc.ServerBackend.$anonfun$internalReceive0$2(ServerBackend.scala:189)",
        "\tat com.databricks.rpc.ServerBackend$$anonfun$commonReceive$1.applyOrElse(ServerBackend.scala:215)",
        "\tat com.databricks.rpc.ServerBackend$$anonfun$commonReceive$1.applyOrElse(ServerBackend.scala:215)",
        "\tat com.databricks.rpc.ServerBackend.internalReceive0(ServerBackend.scala:186)",
        "\tat com.databricks.rpc.ServerBackend.$anonfun$internalReceive$5(ServerBackend.scala:175)",
        "\tat com.databricks.logging.UsageLogging.$anonfun$recordOperation$1(UsageLogging.scala:510)",
        "\tat com.databricks.logging.UsageLogging.executeThunkAndCaptureResultTags$1(UsageLogging.scala:616)",
        "\tat com.databricks.logging.UsageLogging.$anonfun$recordOperationWithResultTags$4(UsageLogging.scala:643)",
        "\tat com.databricks.logging.AttributionContextTracing.$anonfun$withAttributionContext$1(AttributionContextTracing.scala:80)",
        "\tat com.databricks.logging.AttributionContext$.$anonfun$withValue$1(AttributionContext.scala:348)",
        "\tat scala.util.DynamicVariable.withValue(DynamicVariable.scala:59)",
        "\tat com.databricks.logging.AttributionContext$.withValue(AttributionContext.scala:344)",
        "\tat com.databricks.logging.AttributionContextTracing.withAttributionContext(AttributionContextTracing.scala:78)",
        "\tat com.databricks.logging.AttributionContextTracing.withAttributionContext$(AttributionContextTracing.scala:75)",
        "\tat com.databricks.rpc.ServerBackend.withAttributionContext(ServerBackend.scala:23)",
        "\tat com.databricks.logging.AttributionContextTracing.withAttributionTags(AttributionContextTracing.scala:127)",
        "\tat com.databricks.logging.AttributionContextTracing.withAttributionTags$(AttributionContextTracing.scala:108)",
        "\tat com.databricks.rpc.ServerBackend.withAttributionTags(ServerBackend.scala:23)",
        "\tat com.databricks.logging.UsageLogging.recordOperationWithResultTags(UsageLogging.scala:611)",
        "\tat com.databricks.logging.UsageLogging.recordOperationWithResultTags$(UsageLogging.scala:519)",
        "\tat com.databricks.rpc.ServerBackend.recordOperationWithResultTags(ServerBackend.scala:23)",
        "\tat com.databricks.logging.UsageLogging.recordOperation(UsageLogging.scala:511)",
        "\tat com.databricks.logging.UsageLogging.recordOperation$(UsageLogging.scala:475)",
        "\tat com.databricks.rpc.ServerBackend.recordOperation(ServerBackend.scala:23)",
        "\tat com.databricks.rpc.ServerBackend.executeWithLogging$1(ServerBackend.scala:148)",
        "\tat com.databricks.rpc.ServerBackend.internalReceive(ServerBackend.scala:175)",
        "\tat com.databricks.rpc.JettyServer$RequestManager.handleRPC(JettyServer.scala:997)",
        "\tat com.databricks.rpc.JettyServer$RequestManager.handleRequestAndRespond(JettyServer.scala:917)",
        "\tat com.databricks.rpc.JettyServer$RequestManager.$anonfun$handleHttp$5(JettyServer.scala:557)",
        "\tat com.databricks.rpc.JettyServer$RequestManager.$anonfun$handleHttp$5$adapted(JettyServer.scala:522)",
        "\tat com.databricks.logging.activity.ActivityContextFactory$.$anonfun$withActivityInternal$12(ActivityContextFactory.scala:1096)",
        "\tat com.databricks.logging.AttributionContextTracing.$anonfun$withAttributionContext$1(AttributionContextTracing.scala:80)",
        "\tat com.databricks.logging.AttributionContext$.$anonfun$withValue$1(AttributionContext.scala:348)",
        "\tat scala.util.DynamicVariable.withValue(DynamicVariable.scala:59)",
        "\tat com.databricks.logging.AttributionContext$.withValue(AttributionContext.scala:344)",
        "\tat com.databricks.logging.AttributionContextTracing.withAttributionContext(AttributionContextTracing.scala:78)",
        "\tat com.databricks.logging.AttributionContextTracing.withAttributionContext$(AttributionContextTracing.scala:75)",
        "\tat com.databricks.logging.activity.ActivityContextFactory$.withAttributionContext(ActivityContextFactory.scala:63)",
        "\tat com.databricks.logging.activity.ActivityContextFactory$.$anonfun$withActivityInternal$2(ActivityContextFactory.scala:1096)",
        "\tat com.databricks.context.integrity.IntegrityCheckContext$ThreadLocalStorage$.withValue(IntegrityCheckContext.scala:73)",
        "\tat com.databricks.logging.activity.ActivityContextFactory$.withActivityInternal(ActivityContextFactory.scala:1058)",
        "\tat com.databricks.logging.activity.ActivityContextFactory$.withActivityInternal(ActivityContextFactory.scala:1039)",
        "\tat com.databricks.logging.activity.ActivityContextFactory$.$anonfun$withServiceRequestActivity$39(ActivityContextFactory.scala:406)",
        "\tat com.databricks.logging.AttributionContextTracing.$anonfun$withAttributionContext$1(AttributionContextTracing.scala:80)",
        "\tat com.databricks.logging.AttributionContext$.$anonfun$withValue$1(AttributionContext.scala:348)",
        "\tat scala.util.DynamicVariable.withValue(DynamicVariable.scala:59)",
        "\tat com.databricks.logging.AttributionContext$.withValue(AttributionContext.scala:344)",
        "\tat com.databricks.logging.AttributionContextTracing.withAttributionContext(AttributionContextTracing.scala:78)",
        "\tat com.databricks.logging.AttributionContextTracing.withAttributionContext$(AttributionContextTracing.scala:75)",
        "\tat com.databricks.logging.activity.ActivityContextFactory$.withAttributionContext(ActivityContextFactory.scala:63)",
        "\tat com.databricks.logging.activity.ActivityContextFactory$.withServiceRequestActivity(ActivityContextFactory.scala:406)",
        "\tat com.databricks.rpc.JettyServer$RequestManager.handleHttp(JettyServer.scala:522)",
        "\tat com.databricks.rpc.JettyServer$RequestManager.doPost(JettyServer.scala:417)",
        "\tat javax.servlet.http.HttpServlet.service(HttpServlet.java:665)",
        "\tat com.databricks.rpc.HttpServletWithPatch.service(HttpServletWithPatch.scala:33)",
        "\tat javax.servlet.http.HttpServlet.service(HttpServlet.java:750)",
        "\tat org.eclipse.jetty.servlet.ServletHolder.handle(ServletHolder.java:799)",
        "\tat org.eclipse.jetty.servlet.ServletHandler.doHandle(ServletHandler.java:554)",
        "\tat org.eclipse.jetty.server.handler.ScopedHandler.nextScope(ScopedHandler.java:190)",
        "\tat org.eclipse.jetty.servlet.ServletHandler.doScope(ServletHandler.java:505)",
        "\tat org.eclipse.jetty.server.handler.ScopedHandler.handle(ScopedHandler.java:141)",
        "\tat org.eclipse.jetty.server.handler.HandlerWrapper.handle(HandlerWrapper.java:127)",
        "\tat org.eclipse.jetty.server.Server.handle(Server.java:516)",
        "\tat org.eclipse.jetty.server.HttpChannel.lambda$handle$1(HttpChannel.java:487)",
        "\tat org.eclipse.jetty.server.HttpChannel.dispatch(HttpChannel.java:732)",
        "\tat org.eclipse.jetty.server.HttpChannel.handle(HttpChannel.java:479)",
        "\tat org.eclipse.jetty.server.HttpConnection.onFillable(HttpConnection.java:277)",
        "\tat org.eclipse.jetty.io.AbstractConnection$ReadCallback.succeeded(AbstractConnection.java:311)",
        "\tat org.eclipse.jetty.io.FillInterest.fillable(FillInterest.java:105)",
        "\tat org.eclipse.jetty.io.ssl.SslConnection$DecryptedEndPoint.onFillable(SslConnection.java:555)",
        "\tat org.eclipse.jetty.io.ssl.SslConnection.onFillable(SslConnection.java:410)",
        "\tat org.eclipse.jetty.io.ssl.SslConnection$2.succeeded(SslConnection.java:164)",
        "\tat org.eclipse.jetty.io.FillInterest.fillable(FillInterest.java:105)",
        "\tat org.eclipse.jetty.io.ChannelEndPoint$1.run(ChannelEndPoint.java:104)",
        "\tat org.eclipse.jetty.util.thread.strategy.EatWhatYouKill.runTask(EatWhatYouKill.java:338)",
        "\tat org.eclipse.jetty.util.thread.strategy.EatWhatYouKill.doProduce(EatWhatYouKill.java:315)",
        "\tat org.eclipse.jetty.util.thread.strategy.EatWhatYouKill.tryProduce(EatWhatYouKill.java:173)",
        "\tat org.eclipse.jetty.util.thread.strategy.EatWhatYouKill.run(EatWhatYouKill.java:131)",
        "\tat org.eclipse.jetty.util.thread.ReservedThreadExecutor$ReservedThread.run(ReservedThreadExecutor.java:409)",
        "\tat com.databricks.rpc.InstrumentedQueuedThreadPool$$anon$1.$anonfun$run$2(InstrumentedQueuedThreadPool.scala:111)",
        "\tat scala.runtime.java8.JFunction0$mcV$sp.apply(JFunction0$mcV$sp.scala:18)",
        "\tat com.databricks.logging.AttributionContextTracing.$anonfun$withAttributionContext$1(AttributionContextTracing.scala:80)",
        "\tat com.databricks.logging.AttributionContext$.$anonfun$withValue$1(AttributionContext.scala:348)",
        "\tat scala.util.DynamicVariable.withValue(DynamicVariable.scala:59)",
        "\tat com.databricks.logging.AttributionContext$.withValue(AttributionContext.scala:344)",
        "\tat com.databricks.logging.AttributionContextTracing.withAttributionContext(AttributionContextTracing.scala:78)",
        "\tat com.databricks.logging.AttributionContextTracing.withAttributionContext$(AttributionContextTracing.scala:75)",
        "\tat com.databricks.rpc.InstrumentedQueuedThreadPool.withAttributionContext(InstrumentedQueuedThreadPool.scala:46)",
        "\tat com.databricks.rpc.InstrumentedQueuedThreadPool$$anon$1.$anonfun$run$1(InstrumentedQueuedThreadPool.scala:111)",
        "\tat scala.runtime.java8.JFunction0$mcV$sp.apply(JFunction0$mcV$sp.scala:18)",
        "\tat com.databricks.instrumentation.QueuedThreadPoolInstrumenter.trackActiveThreads(QueuedThreadPoolInstrumenter.scala:132)",
        "\tat com.databricks.instrumentation.QueuedThreadPoolInstrumenter.trackActiveThreads$(QueuedThreadPoolInstrumenter.scala:129)",
        "\tat com.databricks.rpc.InstrumentedQueuedThreadPool.trackActiveThreads(InstrumentedQueuedThreadPool.scala:46)",
        "\tat com.databricks.rpc.InstrumentedQueuedThreadPool$$anon$1.run(InstrumentedQueuedThreadPool.scala:93)",
        "\tat org.eclipse.jetty.util.thread.QueuedThreadPool.runJob(QueuedThreadPool.java:883)",
        "\tat org.eclipse.jetty.util.thread.QueuedThreadPool$Runner.run(QueuedThreadPool.java:1034)",
        "\tat java.base/java.lang.Thread.run(Thread.java:840)"
       ],
       "type": "baseError"
      }
     },
     "output_type": "display_data"
    }
   ],
   "source": [
    "res = spark.sql(\"DESCRIBE HISTORY acidDemo\")\n",
    "display(res)"
   ]
  },
  {
   "cell_type": "code",
   "execution_count": 0,
   "metadata": {
    "application/vnd.databricks.v1+cell": {
     "cellMetadata": {
      "byteLimit": 2048000,
      "rowLimit": 10000
     },
     "inputWidgets": {},
     "nuid": "c4e0a3f2-4793-4ecc-bd25-5e6428166967",
     "showTitle": false,
     "tableResultSettingsMap": {},
     "title": ""
    }
   },
   "outputs": [
    {
     "output_type": "execute_result",
     "data": {
      "text/plain": [
       "DataFrame[path: string]"
      ]
     },
     "execution_count": 41,
     "metadata": {},
     "output_type": "execute_result"
    }
   ],
   "source": [
    "# Optimize the Delta table to combine small files\n",
    "spark.sql(\"OPTIMIZE acidDemo\")\n",
    "# Remove old versions and unreferenced files\n",
    "spark.sql(\"VACUUM acidDemo\")"
   ]
  },
  {
   "cell_type": "code",
   "execution_count": 0,
   "metadata": {
    "application/vnd.databricks.v1+cell": {
     "cellMetadata": {
      "byteLimit": 2048000,
      "implicitDf": true,
      "rowLimit": 10000
     },
     "inputWidgets": {},
     "nuid": "cfaf5c7a-aa3a-43ca-b93b-2e8ccb0ab3d7",
     "showTitle": false,
     "tableResultSettingsMap": {},
     "title": ""
    }
   },
   "outputs": [],
   "source": [
    "%sql\n",
    "CREATE CATALOG IF NOT EXISTS my_catalog;\n",
    "CREATE SCHEMA IF NOT EXISTS my_catalog.my_schema;\n",
    "CREATE VOLUME IF NOT EXISTS my_catalog.my_schema.my_volume;\n"
   ]
  },
  {
   "cell_type": "code",
   "execution_count": 0,
   "metadata": {
    "application/vnd.databricks.v1+cell": {
     "cellMetadata": {
      "byteLimit": 2048000,
      "rowLimit": 10000
     },
     "inputWidgets": {},
     "nuid": "84bf0ecb-e54e-4090-8370-969f2d1f2033",
     "showTitle": false,
     "tableResultSettingsMap": {},
     "title": ""
    }
   },
   "outputs": [
    {
     "output_type": "stream",
     "name": "stdout",
     "output_type": "stream",
     "text": [
      "Base Path: /Volumes/my_catalog/my_schema/my_volume\n"
     ]
    },
    {
     "output_type": "display_data",
     "data": {
      "text/html": [
       "<style scoped>\n",
       "  .table-result-container {\n",
       "    max-height: 300px;\n",
       "    overflow: auto;\n",
       "  }\n",
       "  table, th, td {\n",
       "    border: 1px solid black;\n",
       "    border-collapse: collapse;\n",
       "  }\n",
       "  th, td {\n",
       "    padding: 5px;\n",
       "  }\n",
       "  th {\n",
       "    text-align: left;\n",
       "  }\n",
       "</style><div class='table-result-container'><table class='table-result'><thead style='background-color: white'><tr><th>path</th><th>name</th><th>size</th><th>modificationTime</th></tr></thead><tbody><tr><td>dbfs:/Volumes/my_catalog/my_schema/my_volume/demo_folder/</td><td>demo_folder/</td><td>0</td><td>1760593106746</td></tr></tbody></table></div>"
      ]
     },
     "metadata": {
      "application/vnd.databricks.v1+output": {
       "addedWidgets": {},
       "aggData": [],
       "aggError": "",
       "aggOverflow": false,
       "aggSchema": [],
       "aggSeriesLimitReached": false,
       "aggType": "",
       "arguments": {},
       "columnCustomDisplayInfos": {},
       "data": [
        [
         "dbfs:/Volumes/my_catalog/my_schema/my_volume/demo_folder/",
         "demo_folder/",
         0,
         1760593106746
        ]
       ],
       "datasetInfos": [],
       "dbfsResultPath": null,
       "isJsonSchema": true,
       "metadata": {},
       "overflow": false,
       "plotOptions": {
        "customPlotOptions": {},
        "displayType": "table",
        "pivotAggregation": null,
        "pivotColumns": null,
        "xColumns": null,
        "yColumns": null
       },
       "removedWidgets": [],
       "schema": [
        {
         "metadata": "{}",
         "name": "path",
         "type": "\"string\""
        },
        {
         "metadata": "{}",
         "name": "name",
         "type": "\"string\""
        },
        {
         "metadata": "{}",
         "name": "size",
         "type": "\"long\""
        },
        {
         "metadata": "{}",
         "name": "modificationTime",
         "type": "\"long\""
        }
       ],
       "type": "table"
      }
     },
     "output_type": "display_data"
    },
    {
     "output_type": "display_data",
     "data": {
      "text/html": [
       "<style scoped>\n",
       "  .table-result-container {\n",
       "    max-height: 300px;\n",
       "    overflow: auto;\n",
       "  }\n",
       "  table, th, td {\n",
       "    border: 1px solid black;\n",
       "    border-collapse: collapse;\n",
       "  }\n",
       "  th, td {\n",
       "    padding: 5px;\n",
       "  }\n",
       "  th {\n",
       "    text-align: left;\n",
       "  }\n",
       "</style><div class='table-result-container'><table class='table-result'><thead style='background-color: white'><tr><th>path</th><th>name</th><th>size</th><th>modificationTime</th></tr></thead><tbody><tr><td>dbfs:/Volumes/my_catalog/my_schema/my_volume/demo_folder/people.csv/</td><td>people.csv/</td><td>0</td><td>1760593108758</td></tr><tr><td>dbfs:/Volumes/my_catalog/my_schema/my_volume/demo_folder/people2.csv/</td><td>people2.csv/</td><td>0</td><td>1760593108758</td></tr></tbody></table></div>"
      ]
     },
     "metadata": {
      "application/vnd.databricks.v1+output": {
       "addedWidgets": {},
       "aggData": [],
       "aggError": "",
       "aggOverflow": false,
       "aggSchema": [],
       "aggSeriesLimitReached": false,
       "aggType": "",
       "arguments": {},
       "columnCustomDisplayInfos": {},
       "data": [
        [
         "dbfs:/Volumes/my_catalog/my_schema/my_volume/demo_folder/people.csv/",
         "people.csv/",
         0,
         1760593108758
        ],
        [
         "dbfs:/Volumes/my_catalog/my_schema/my_volume/demo_folder/people2.csv/",
         "people2.csv/",
         0,
         1760593108758
        ]
       ],
       "datasetInfos": [],
       "dbfsResultPath": null,
       "isJsonSchema": true,
       "metadata": {},
       "overflow": false,
       "plotOptions": {
        "customPlotOptions": {},
        "displayType": "table",
        "pivotAggregation": null,
        "pivotColumns": null,
        "xColumns": null,
        "yColumns": null
       },
       "removedWidgets": [],
       "schema": [
        {
         "metadata": "{}",
         "name": "path",
         "type": "\"string\""
        },
        {
         "metadata": "{}",
         "name": "name",
         "type": "\"string\""
        },
        {
         "metadata": "{}",
         "name": "size",
         "type": "\"long\""
        },
        {
         "metadata": "{}",
         "name": "modificationTime",
         "type": "\"long\""
        }
       ],
       "type": "table"
      }
     },
     "output_type": "display_data"
    }
   ],
   "source": [
    "base_path = \"/Volumes/my_catalog/my_schema/my_volume\"\n",
    "print(\"Base Path:\", base_path)\n",
    "dbutils.fs.mkdirs(f\"{base_path}/demo_folder\")\n",
    "display(dbutils.fs.ls(base_path))\n",
    "data = [(\"Rajat\", 23), (\"Amit\", 25), (\"Shiv\", 30)]\n",
    "columns = [\"name\", \"age\"]\n",
    "\n",
    "df = spark.createDataFrame(data, columns)\n",
    "df.write.mode(\"overwrite\").option(\"header\", \"true\").csv(f\"{base_path}/demo_folder/people2.csv\")\n",
    "display(dbutils.fs.ls(f\"{base_path}/demo_folder\"))\n"
   ]
  },
  {
   "cell_type": "code",
   "execution_count": 0,
   "metadata": {
    "application/vnd.databricks.v1+cell": {
     "cellMetadata": {
      "byteLimit": 2048000,
      "rowLimit": 10000
     },
     "inputWidgets": {},
     "nuid": "eff2d99f-6b3e-4053-af5e-e1c263d8fa4b",
     "showTitle": false,
     "tableResultSettingsMap": {},
     "title": ""
    }
   },
   "outputs": [
    {
     "output_type": "execute_result",
     "data": {
      "text/plain": [
       "True"
      ]
     },
     "execution_count": 9,
     "metadata": {},
     "output_type": "execute_result"
    }
   ],
   "source": [
    "# Copy CSV\n",
    "dbutils.fs.cp(\n",
    "    f\"{base_path}/demo_folder/people.csv\",\n",
    "    f\"{base_path}/people_copy.csv\",\n",
    "    recurse=True\n",
    ")\n",
    "\n",
    "# Move CSV\n",
    "dbutils.fs.mv(\n",
    "    f\"{base_path}/people_copy.csv\",\n",
    "    f\"{base_path}/people_moved.csv\",\n",
    "    recurse=True\n",
    ")\n",
    "\n",
    "# Delete CSV\n",
    "dbutils.fs.rm(f\"{base_path}/people_moved.csv\", recurse=True)\n"
   ]
  },
  {
   "cell_type": "code",
   "execution_count": 0,
   "metadata": {
    "application/vnd.databricks.v1+cell": {
     "cellMetadata": {
      "byteLimit": 2048000,
      "rowLimit": 10000
     },
     "inputWidgets": {},
     "nuid": "9668e064-27b0-4861-897a-5c6c268e5dc4",
     "showTitle": false,
     "tableResultSettingsMap": {},
     "title": ""
    }
   },
   "outputs": [],
   "source": [
    "from pyspark.sql.functions import col\n",
    "\n",
    "# Create a text widget for dynamic file path\n",
    "dbutils.widgets.text(\"file_path\", \"/Volumes/my_catalog/my_schema/my_volume/demo_folder/people2.csv\")\n",
    "\n",
    "# dropdown widget for age filtering\n",
    "dbutils.widgets.dropdown(\"age\", \"23\", [\"23\", \"25\", \"30\"])\n",
    "\n",
    "\n"
   ]
  },
  {
   "cell_type": "code",
   "execution_count": 0,
   "metadata": {
    "application/vnd.databricks.v1+cell": {
     "cellMetadata": {
      "byteLimit": 2048000,
      "rowLimit": 10000
     },
     "inputWidgets": {},
     "nuid": "32aad6b9-d1d6-4671-83ce-84dc83fe6635",
     "showTitle": false,
     "tableResultSettingsMap": {},
     "title": ""
    }
   },
   "outputs": [
    {
     "output_type": "stream",
     "name": "stdout",
     "output_type": "stream",
     "text": [
      "DataFrame[name: string, age: int]\n"
     ]
    },
    {
     "output_type": "display_data",
     "data": {
      "text/html": [
       "<style scoped>\n",
       "  .table-result-container {\n",
       "    max-height: 300px;\n",
       "    overflow: auto;\n",
       "  }\n",
       "  table, th, td {\n",
       "    border: 1px solid black;\n",
       "    border-collapse: collapse;\n",
       "  }\n",
       "  th, td {\n",
       "    padding: 5px;\n",
       "  }\n",
       "  th {\n",
       "    text-align: left;\n",
       "  }\n",
       "</style><div class='table-result-container'><table class='table-result'><thead style='background-color: white'><tr><th>name</th><th>age</th></tr></thead><tbody><tr><td>Rajat</td><td>23</td></tr></tbody></table></div>"
      ]
     },
     "metadata": {
      "application/vnd.databricks.v1+output": {
       "addedWidgets": {},
       "aggData": [],
       "aggError": "",
       "aggOverflow": false,
       "aggSchema": [],
       "aggSeriesLimitReached": false,
       "aggType": "",
       "arguments": {},
       "columnCustomDisplayInfos": {},
       "data": [
        [
         "Rajat",
         23
        ]
       ],
       "datasetInfos": [],
       "dbfsResultPath": null,
       "isJsonSchema": true,
       "metadata": {},
       "overflow": false,
       "plotOptions": {
        "customPlotOptions": {},
        "displayType": "table",
        "pivotAggregation": null,
        "pivotColumns": null,
        "xColumns": null,
        "yColumns": null
       },
       "removedWidgets": [],
       "schema": [
        {
         "metadata": "{}",
         "name": "name",
         "type": "\"string\""
        },
        {
         "metadata": "{}",
         "name": "age",
         "type": "\"integer\""
        }
       ],
       "type": "table"
      }
     },
     "output_type": "display_data"
    }
   ],
   "source": [
    "# Get values from widgets\n",
    "file_path = dbutils.widgets.get(\"file_path\")\n",
    "age = int(dbutils.widgets.get(\"age\"))\n",
    "\n",
    "dfnew = spark.read.option(\"header\", \"true\").option(\"inferSchema\", \"true\").csv(file_path)\n",
    "print(dfnew)\n",
    "\n",
    "filtereddfnew = dfnew.filter(col(\"age\") == age)\n",
    "\n",
    "display(filtereddfnew)\n",
    "\n",
    "# Remove widgets after execution (optional cleanup)\n",
    "dbutils.widgets.removeAll()"
   ]
  },
  {
   "cell_type": "code",
   "execution_count": 0,
   "metadata": {
    "application/vnd.databricks.v1+cell": {
     "cellMetadata": {
      "byteLimit": 2048000,
      "rowLimit": 10000
     },
     "inputWidgets": {},
     "nuid": "db83d64e-316a-467d-b8c1-cf31cb682e50",
     "showTitle": false,
     "tableResultSettingsMap": {},
     "title": ""
    }
   },
   "outputs": [
    {
     "output_type": "stream",
     "name": "stdout",
     "output_type": "stream",
     "text": [
      "['Rajat', '23']\n"
     ]
    }
   ],
   "source": [
    "print(dfnew.columns)\n"
   ]
  }
 ],
 "metadata": {
  "application/vnd.databricks.v1+notebook": {
   "computePreferences": null,
   "dashboards": [],
   "environmentMetadata": {
    "base_environment": "",
    "environment_version": "4"
   },
   "inputWidgetPreferences": null,
   "language": "python",
   "notebookMetadata": {
    "mostRecentlyExecutedCommandWithImplicitDF": {
     "commandId": 6720063680871194,
     "dataframes": [
      "_sqldf"
     ]
    },
    "pythonIndentUnit": 4
   },
   "notebookName": "Session 3 assignment",
   "widgets": {}
  },
  "language_info": {
   "name": "python"
  }
 },
 "nbformat": 4,
 "nbformat_minor": 0
}