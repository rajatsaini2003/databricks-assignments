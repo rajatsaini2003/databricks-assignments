{
 "cells": [
  {
   "cell_type": "code",
   "execution_count": 0,
   "metadata": {
    "application/vnd.databricks.v1+cell": {
     "cellMetadata": {
      "byteLimit": 2048000,
      "implicitDf": true,
      "rowLimit": 10000
     },
     "inputWidgets": {},
     "nuid": "663cb7a3-5ec0-45d6-9676-43980e3e74cf",
     "showTitle": false,
     "tableResultSettingsMap": {},
     "title": ""
    }
   },
   "outputs": [
    {
     "output_type": "display_data",
     "data": {
      "application/vnd.databricks.empty-table+json": {
       "directive_name": "NoDirective"
      }
     },
     "metadata": {},
     "output_type": "display_data"
    }
   ],
   "source": [
    "%sql\n",
    "CREATE CATALOG IF NOT EXISTS my_catalog;\n",
    "CREATE SCHEMA IF NOT EXISTS my_catalog.my_schema;\n",
    "CREATE VOLUME IF NOT EXISTS my_catalog.my_schema.session4new;"
   ]
  },
  {
   "cell_type": "code",
   "execution_count": 0,
   "metadata": {
    "application/vnd.databricks.v1+cell": {
     "cellMetadata": {
      "byteLimit": 2048000,
      "rowLimit": 10000
     },
     "inputWidgets": {},
     "nuid": "ecdad21e-4d64-4cda-9e61-580bd2c0f612",
     "showTitle": false,
     "tableResultSettingsMap": {},
     "title": ""
    }
   },
   "outputs": [],
   "source": [
    "from pyspark.sql.functions import col, current_timestamp\n",
    "\n",
    "base_path = \"/Volumes/my_catalog/my_schema/session4new\"\n",
    "bronze_input = f\"{base_path}/bronze_sales\"\n",
    "bronze_output = f\"{base_path}/bronze_delta\"\n",
    "bronze_schema = f\"{base_path}/bronze_schema\"\n",
    "\n",
    "bronze_df = (\n",
    "    spark.readStream.format(\"cloudFiles\")\n",
    "    .option(\"cloudFiles.format\", \"csv\")\n",
    "    .option(\"cloudFiles.schemaLocation\", bronze_schema)\n",
    "    .option(\"mergeSchema\", \"true\")\n",
    "    .option(\"header\", \"true\")\n",
    "    .load(bronze_input)\n",
    "    .withColumn(\"ingestion_timestamp\", current_timestamp())\n",
    "    .withColumn(\"source_file\", col(\"_metadata.file_path\"))\n",
    ")\n",
    "\n",
    "(\n",
    "    bronze_df.writeStream.format(\"delta\")\n",
    "    .option(\"checkpointLocation\", f\"{bronze_output}/_checkpoint\")\n",
    "    .trigger(availableNow=True)\n",
    "    .outputMode(\"append\")\n",
    "    .start(bronze_output)\n",
    "    .awaitTermination()\n",
    ")\n"
   ]
  },
  {
   "cell_type": "code",
   "execution_count": 0,
   "metadata": {
    "application/vnd.databricks.v1+cell": {
     "cellMetadata": {
      "byteLimit": 2048000,
      "implicitDf": true,
      "rowLimit": 10000
     },
     "inputWidgets": {},
     "nuid": "45ce7a02-aa6e-4640-b8b6-0217a39cfb84",
     "showTitle": false,
     "tableResultSettingsMap": {
      "0": {
       "dataGridStateBlob": "{\"version\":1,\"tableState\":{\"columnPinning\":{\"left\":[\"#row_number#\"],\"right\":[]},\"columnSizing\":{\"#row_number#\":88},\"columnVisibility\":{}},\"settings\":{\"columns\":{}},\"syncTimestamp\":1761658376497}",
       "filterBlob": null,
       "queryPlanFiltersBlob": null,
       "tableResultIndex": 0
      }
     },
     "title": ""
    }
   },
   "outputs": [
    {
     "output_type": "display_data",
     "data": {
      "text/html": [
       "<style scoped>\n",
       "  .table-result-container {\n",
       "    max-height: 300px;\n",
       "    overflow: auto;\n",
       "  }\n",
       "  table, th, td {\n",
       "    border: 1px solid black;\n",
       "    border-collapse: collapse;\n",
       "  }\n",
       "  th, td {\n",
       "    padding: 5px;\n",
       "  }\n",
       "  th {\n",
       "    text-align: left;\n",
       "  }\n",
       "</style><div class='table-result-container'><table class='table-result'><thead style='background-color: white'><tr><th>product_id</th><th>product_name</th><th>store</th><th>quantity</th><th>price</th><th>sale_date</th><th>_rescued_data</th><th>ingestion_timestamp</th><th>source_file</th></tr></thead><tbody><tr><td>101</td><td>Soap</td><td>Store_A</td><td>12</td><td>25.5</td><td>2025-10-02</td><td>null</td><td>2025-10-28T14:55:43.814Z</td><td>/Volumes/my_catalog/my_schema/session4new/bronze_sales/sales_2025-10-02.csv</td></tr><tr><td>102</td><td>Shampoo</td><td>Store_B</td><td>7</td><td>120.0</td><td>2025-10-02</td><td>null</td><td>2025-10-28T14:55:43.814Z</td><td>/Volumes/my_catalog/my_schema/session4new/bronze_sales/sales_2025-10-02.csv</td></tr><tr><td>103</td><td>Toothpaste</td><td>Store_B</td><td>10</td><td>55.0</td><td>2025-10-02</td><td>null</td><td>2025-10-28T14:55:43.814Z</td><td>/Volumes/my_catalog/my_schema/session4new/bronze_sales/sales_2025-10-02.csv</td></tr><tr><td>104</td><td>Conditioner</td><td>Store_C</td><td>3</td><td>150.0</td><td>2025-10-02</td><td>null</td><td>2025-10-28T14:55:43.814Z</td><td>/Volumes/my_catalog/my_schema/session4new/bronze_sales/sales_2025-10-02.csv</td></tr><tr><td>101</td><td>Soap</td><td>Store_A</td><td>10</td><td>25.5</td><td>2025-10-01</td><td>null</td><td>2025-10-28T14:55:43.814Z</td><td>/Volumes/my_catalog/my_schema/session4new/bronze_sales/sales_2025-10-01.csv</td></tr><tr><td>102</td><td>Shampoo</td><td>Store_A</td><td>5</td><td>120.0</td><td>2025-10-01</td><td>null</td><td>2025-10-28T14:55:43.814Z</td><td>/Volumes/my_catalog/my_schema/session4new/bronze_sales/sales_2025-10-01.csv</td></tr><tr><td>103</td><td>Toothpaste</td><td>Store_B</td><td>8</td><td>55.0</td><td>2025-10-01</td><td>null</td><td>2025-10-28T14:55:43.814Z</td><td>/Volumes/my_catalog/my_schema/session4new/bronze_sales/sales_2025-10-01.csv</td></tr><tr><td>104</td><td>Conditioner</td><td>Store_C</td><td>2</td><td>150.0</td><td>2025-10-01</td><td>null</td><td>2025-10-28T14:55:43.814Z</td><td>/Volumes/my_catalog/my_schema/session4new/bronze_sales/sales_2025-10-01.csv</td></tr><tr><td>101</td><td>Soap</td><td>Store_A</td><td>15</td><td>25.5</td><td>2025-10-03</td><td>null</td><td>2025-10-28T14:55:43.814Z</td><td>/Volumes/my_catalog/my_schema/session4new/bronze_sales/sales_2025-10-03.csv</td></tr><tr><td>102</td><td>Shampoo</td><td>Store_B</td><td>4</td><td>120.0</td><td>2025-10-03</td><td>null</td><td>2025-10-28T14:55:43.814Z</td><td>/Volumes/my_catalog/my_schema/session4new/bronze_sales/sales_2025-10-03.csv</td></tr><tr><td>103</td><td>Toothpaste</td><td>Store_C</td><td>9</td><td>55.0</td><td>2025-10-03</td><td>null</td><td>2025-10-28T14:55:43.814Z</td><td>/Volumes/my_catalog/my_schema/session4new/bronze_sales/sales_2025-10-03.csv</td></tr><tr><td>104</td><td>Conditioner</td><td>Store_C</td><td>5</td><td>150.0</td><td>2025-10-03</td><td>null</td><td>2025-10-28T14:55:43.814Z</td><td>/Volumes/my_catalog/my_schema/session4new/bronze_sales/sales_2025-10-03.csv</td></tr></tbody></table></div>"
      ]
     },
     "metadata": {
      "application/vnd.databricks.v1+output": {
       "addedWidgets": {},
       "aggData": [],
       "aggError": "",
       "aggOverflow": false,
       "aggSchema": [],
       "aggSeriesLimitReached": false,
       "aggType": "",
       "arguments": {},
       "columnCustomDisplayInfos": {},
       "data": [
        [
         "101",
         "Soap",
         "Store_A",
         "12",
         "25.5",
         "2025-10-02",
         null,
         "2025-10-28T14:55:43.814Z",
         "/Volumes/my_catalog/my_schema/session4new/bronze_sales/sales_2025-10-02.csv"
        ],
        [
         "102",
         "Shampoo",
         "Store_B",
         "7",
         "120.0",
         "2025-10-02",
         null,
         "2025-10-28T14:55:43.814Z",
         "/Volumes/my_catalog/my_schema/session4new/bronze_sales/sales_2025-10-02.csv"
        ],
        [
         "103",
         "Toothpaste",
         "Store_B",
         "10",
         "55.0",
         "2025-10-02",
         null,
         "2025-10-28T14:55:43.814Z",
         "/Volumes/my_catalog/my_schema/session4new/bronze_sales/sales_2025-10-02.csv"
        ],
        [
         "104",
         "Conditioner",
         "Store_C",
         "3",
         "150.0",
         "2025-10-02",
         null,
         "2025-10-28T14:55:43.814Z",
         "/Volumes/my_catalog/my_schema/session4new/bronze_sales/sales_2025-10-02.csv"
        ],
        [
         "101",
         "Soap",
         "Store_A",
         "10",
         "25.5",
         "2025-10-01",
         null,
         "2025-10-28T14:55:43.814Z",
         "/Volumes/my_catalog/my_schema/session4new/bronze_sales/sales_2025-10-01.csv"
        ],
        [
         "102",
         "Shampoo",
         "Store_A",
         "5",
         "120.0",
         "2025-10-01",
         null,
         "2025-10-28T14:55:43.814Z",
         "/Volumes/my_catalog/my_schema/session4new/bronze_sales/sales_2025-10-01.csv"
        ],
        [
         "103",
         "Toothpaste",
         "Store_B",
         "8",
         "55.0",
         "2025-10-01",
         null,
         "2025-10-28T14:55:43.814Z",
         "/Volumes/my_catalog/my_schema/session4new/bronze_sales/sales_2025-10-01.csv"
        ],
        [
         "104",
         "Conditioner",
         "Store_C",
         "2",
         "150.0",
         "2025-10-01",
         null,
         "2025-10-28T14:55:43.814Z",
         "/Volumes/my_catalog/my_schema/session4new/bronze_sales/sales_2025-10-01.csv"
        ],
        [
         "101",
         "Soap",
         "Store_A",
         "15",
         "25.5",
         "2025-10-03",
         null,
         "2025-10-28T14:55:43.814Z",
         "/Volumes/my_catalog/my_schema/session4new/bronze_sales/sales_2025-10-03.csv"
        ],
        [
         "102",
         "Shampoo",
         "Store_B",
         "4",
         "120.0",
         "2025-10-03",
         null,
         "2025-10-28T14:55:43.814Z",
         "/Volumes/my_catalog/my_schema/session4new/bronze_sales/sales_2025-10-03.csv"
        ],
        [
         "103",
         "Toothpaste",
         "Store_C",
         "9",
         "55.0",
         "2025-10-03",
         null,
         "2025-10-28T14:55:43.814Z",
         "/Volumes/my_catalog/my_schema/session4new/bronze_sales/sales_2025-10-03.csv"
        ],
        [
         "104",
         "Conditioner",
         "Store_C",
         "5",
         "150.0",
         "2025-10-03",
         null,
         "2025-10-28T14:55:43.814Z",
         "/Volumes/my_catalog/my_schema/session4new/bronze_sales/sales_2025-10-03.csv"
        ]
       ],
       "datasetInfos": [],
       "dbfsResultPath": null,
       "isJsonSchema": true,
       "metadata": {},
       "overflow": false,
       "plotOptions": {
        "customPlotOptions": {},
        "displayType": "table",
        "pivotAggregation": null,
        "pivotColumns": null,
        "xColumns": null,
        "yColumns": null
       },
       "removedWidgets": [],
       "schema": [
        {
         "metadata": "{}",
         "name": "product_id",
         "type": "\"string\""
        },
        {
         "metadata": "{}",
         "name": "product_name",
         "type": "\"string\""
        },
        {
         "metadata": "{}",
         "name": "store",
         "type": "\"string\""
        },
        {
         "metadata": "{}",
         "name": "quantity",
         "type": "\"string\""
        },
        {
         "metadata": "{}",
         "name": "price",
         "type": "\"string\""
        },
        {
         "metadata": "{\"__detected_date_formats\": \"yyyy-M-d\"}",
         "name": "sale_date",
         "type": "\"string\""
        },
        {
         "metadata": "{}",
         "name": "_rescued_data",
         "type": "\"string\""
        },
        {
         "metadata": "{}",
         "name": "ingestion_timestamp",
         "type": "\"timestamp\""
        },
        {
         "metadata": "{}",
         "name": "source_file",
         "type": "\"string\""
        }
       ],
       "type": "table"
      }
     },
     "output_type": "display_data"
    }
   ],
   "source": [
    "\n",
    "display(spark.read.format(\"delta\").load(f\"{base_path}/bronze_delta\"))\n"
   ]
  },
  {
   "cell_type": "code",
   "execution_count": 0,
   "metadata": {
    "application/vnd.databricks.v1+cell": {
     "cellMetadata": {
      "byteLimit": 2048000,
      "rowLimit": 10000
     },
     "inputWidgets": {},
     "nuid": "e450a6c2-484f-4c3a-a712-ff7829e3449d",
     "showTitle": false,
     "tableResultSettingsMap": {},
     "title": ""
    }
   },
   "outputs": [
    {
     "output_type": "display_data",
     "data": {
      "text/html": [
       "<style scoped>\n",
       "  .table-result-container {\n",
       "    max-height: 300px;\n",
       "    overflow: auto;\n",
       "  }\n",
       "  table, th, td {\n",
       "    border: 1px solid black;\n",
       "    border-collapse: collapse;\n",
       "  }\n",
       "  th, td {\n",
       "    padding: 5px;\n",
       "  }\n",
       "  th {\n",
       "    text-align: left;\n",
       "  }\n",
       "</style><div class='table-result-container'><table class='table-result'><thead style='background-color: white'><tr><th>product_id</th><th>product_name</th><th>store</th><th>quantity</th><th>price</th><th>sale_date</th><th>_rescued_data</th><th>ingestion_timestamp</th><th>source_file</th><th>total_sales</th></tr></thead><tbody><tr><td>101</td><td>Soap</td><td>Store_A</td><td>12</td><td>25.5</td><td>2025-10-02</td><td>null</td><td>2025-10-28T14:16:45.854Z</td><td>/Volumes/my_catalog/my_schema/session4new/sales_2025-10-02.csv</td><td>306.0</td></tr><tr><td>102</td><td>Shampoo</td><td>Store_B</td><td>7</td><td>120.0</td><td>2025-10-02</td><td>null</td><td>2025-10-28T14:16:45.854Z</td><td>/Volumes/my_catalog/my_schema/session4new/sales_2025-10-02.csv</td><td>840.0</td></tr><tr><td>103</td><td>Toothpaste</td><td>Store_B</td><td>10</td><td>55.0</td><td>2025-10-02</td><td>null</td><td>2025-10-28T14:16:45.854Z</td><td>/Volumes/my_catalog/my_schema/session4new/sales_2025-10-02.csv</td><td>550.0</td></tr><tr><td>104</td><td>Conditioner</td><td>Store_C</td><td>3</td><td>150.0</td><td>2025-10-02</td><td>null</td><td>2025-10-28T14:16:45.854Z</td><td>/Volumes/my_catalog/my_schema/session4new/sales_2025-10-02.csv</td><td>450.0</td></tr><tr><td>101</td><td>Soap</td><td>Store_A</td><td>10</td><td>25.5</td><td>2025-10-01</td><td>null</td><td>2025-10-28T14:16:45.854Z</td><td>/Volumes/my_catalog/my_schema/session4new/sales_2025-10-01.csv</td><td>255.0</td></tr><tr><td>102</td><td>Shampoo</td><td>Store_A</td><td>5</td><td>120.0</td><td>2025-10-01</td><td>null</td><td>2025-10-28T14:16:45.854Z</td><td>/Volumes/my_catalog/my_schema/session4new/sales_2025-10-01.csv</td><td>600.0</td></tr><tr><td>103</td><td>Toothpaste</td><td>Store_B</td><td>8</td><td>55.0</td><td>2025-10-01</td><td>null</td><td>2025-10-28T14:16:45.854Z</td><td>/Volumes/my_catalog/my_schema/session4new/sales_2025-10-01.csv</td><td>440.0</td></tr><tr><td>104</td><td>Conditioner</td><td>Store_C</td><td>2</td><td>150.0</td><td>2025-10-01</td><td>null</td><td>2025-10-28T14:16:45.854Z</td><td>/Volumes/my_catalog/my_schema/session4new/sales_2025-10-01.csv</td><td>300.0</td></tr><tr><td>101</td><td>Soap</td><td>Store_A</td><td>15</td><td>25.5</td><td>2025-10-03</td><td>null</td><td>2025-10-28T14:16:45.854Z</td><td>/Volumes/my_catalog/my_schema/session4new/sales_2025-10-03.csv</td><td>382.5</td></tr><tr><td>102</td><td>Shampoo</td><td>Store_B</td><td>4</td><td>120.0</td><td>2025-10-03</td><td>null</td><td>2025-10-28T14:16:45.854Z</td><td>/Volumes/my_catalog/my_schema/session4new/sales_2025-10-03.csv</td><td>480.0</td></tr><tr><td>103</td><td>Toothpaste</td><td>Store_C</td><td>9</td><td>55.0</td><td>2025-10-03</td><td>null</td><td>2025-10-28T14:16:45.854Z</td><td>/Volumes/my_catalog/my_schema/session4new/sales_2025-10-03.csv</td><td>495.0</td></tr><tr><td>104</td><td>Conditioner</td><td>Store_C</td><td>5</td><td>150.0</td><td>2025-10-03</td><td>null</td><td>2025-10-28T14:16:45.854Z</td><td>/Volumes/my_catalog/my_schema/session4new/sales_2025-10-03.csv</td><td>750.0</td></tr></tbody></table></div>"
      ]
     },
     "metadata": {
      "application/vnd.databricks.v1+output": {
       "addedWidgets": {},
       "aggData": [],
       "aggError": "",
       "aggOverflow": false,
       "aggSchema": [],
       "aggSeriesLimitReached": false,
       "aggType": "",
       "arguments": {},
       "columnCustomDisplayInfos": {},
       "data": [
        [
         "101",
         "Soap",
         "Store_A",
         12,
         25.5,
         "2025-10-02",
         null,
         "2025-10-28T14:16:45.854Z",
         "/Volumes/my_catalog/my_schema/session4new/sales_2025-10-02.csv",
         306.0
        ],
        [
         "102",
         "Shampoo",
         "Store_B",
         7,
         120.0,
         "2025-10-02",
         null,
         "2025-10-28T14:16:45.854Z",
         "/Volumes/my_catalog/my_schema/session4new/sales_2025-10-02.csv",
         840.0
        ],
        [
         "103",
         "Toothpaste",
         "Store_B",
         10,
         55.0,
         "2025-10-02",
         null,
         "2025-10-28T14:16:45.854Z",
         "/Volumes/my_catalog/my_schema/session4new/sales_2025-10-02.csv",
         550.0
        ],
        [
         "104",
         "Conditioner",
         "Store_C",
         3,
         150.0,
         "2025-10-02",
         null,
         "2025-10-28T14:16:45.854Z",
         "/Volumes/my_catalog/my_schema/session4new/sales_2025-10-02.csv",
         450.0
        ],
        [
         "101",
         "Soap",
         "Store_A",
         10,
         25.5,
         "2025-10-01",
         null,
         "2025-10-28T14:16:45.854Z",
         "/Volumes/my_catalog/my_schema/session4new/sales_2025-10-01.csv",
         255.0
        ],
        [
         "102",
         "Shampoo",
         "Store_A",
         5,
         120.0,
         "2025-10-01",
         null,
         "2025-10-28T14:16:45.854Z",
         "/Volumes/my_catalog/my_schema/session4new/sales_2025-10-01.csv",
         600.0
        ],
        [
         "103",
         "Toothpaste",
         "Store_B",
         8,
         55.0,
         "2025-10-01",
         null,
         "2025-10-28T14:16:45.854Z",
         "/Volumes/my_catalog/my_schema/session4new/sales_2025-10-01.csv",
         440.0
        ],
        [
         "104",
         "Conditioner",
         "Store_C",
         2,
         150.0,
         "2025-10-01",
         null,
         "2025-10-28T14:16:45.854Z",
         "/Volumes/my_catalog/my_schema/session4new/sales_2025-10-01.csv",
         300.0
        ],
        [
         "101",
         "Soap",
         "Store_A",
         15,
         25.5,
         "2025-10-03",
         null,
         "2025-10-28T14:16:45.854Z",
         "/Volumes/my_catalog/my_schema/session4new/sales_2025-10-03.csv",
         382.5
        ],
        [
         "102",
         "Shampoo",
         "Store_B",
         4,
         120.0,
         "2025-10-03",
         null,
         "2025-10-28T14:16:45.854Z",
         "/Volumes/my_catalog/my_schema/session4new/sales_2025-10-03.csv",
         480.0
        ],
        [
         "103",
         "Toothpaste",
         "Store_C",
         9,
         55.0,
         "2025-10-03",
         null,
         "2025-10-28T14:16:45.854Z",
         "/Volumes/my_catalog/my_schema/session4new/sales_2025-10-03.csv",
         495.0
        ],
        [
         "104",
         "Conditioner",
         "Store_C",
         5,
         150.0,
         "2025-10-03",
         null,
         "2025-10-28T14:16:45.854Z",
         "/Volumes/my_catalog/my_schema/session4new/sales_2025-10-03.csv",
         750.0
        ]
       ],
       "datasetInfos": [],
       "dbfsResultPath": null,
       "isJsonSchema": true,
       "metadata": {},
       "overflow": false,
       "plotOptions": {
        "customPlotOptions": {},
        "displayType": "table",
        "pivotAggregation": null,
        "pivotColumns": null,
        "xColumns": null,
        "yColumns": null
       },
       "removedWidgets": [],
       "schema": [
        {
         "metadata": "{}",
         "name": "product_id",
         "type": "\"string\""
        },
        {
         "metadata": "{}",
         "name": "product_name",
         "type": "\"string\""
        },
        {
         "metadata": "{}",
         "name": "store",
         "type": "\"string\""
        },
        {
         "metadata": "{}",
         "name": "quantity",
         "type": "\"integer\""
        },
        {
         "metadata": "{}",
         "name": "price",
         "type": "\"double\""
        },
        {
         "metadata": "{\"__detected_date_formats\": \"yyyy-M-d\"}",
         "name": "sale_date",
         "type": "\"string\""
        },
        {
         "metadata": "{}",
         "name": "_rescued_data",
         "type": "\"string\""
        },
        {
         "metadata": "{}",
         "name": "ingestion_timestamp",
         "type": "\"timestamp\""
        },
        {
         "metadata": "{}",
         "name": "source_file",
         "type": "\"string\""
        },
        {
         "metadata": "{}",
         "name": "total_sales",
         "type": "\"double\""
        }
       ],
       "type": "table"
      }
     },
     "output_type": "display_data"
    }
   ],
   "source": [
    "from pyspark.sql.functions import col, round\n",
    "\n",
    "# Paths\n",
    "bronze_output = \"/Volumes/my_catalog/my_schema/session4new/bronze_delta\"\n",
    "silver_output = \"/Volumes/my_catalog/my_schema/session4new/silver_delta\"\n",
    "\n",
    "# 1 Read data from Bronze Delta\n",
    "bronze_df = spark.read.format(\"delta\").load(bronze_output)\n",
    "\n",
    "# 2 Clean + Transform\n",
    "silver_df = (\n",
    "    bronze_df\n",
    "    .dropna(subset=[\"product_id\", \"product_name\", \"store\", \"quantity\", \"price\", \"sale_date\"])\n",
    "    .withColumn(\"quantity\", col(\"quantity\").cast(\"int\"))\n",
    "    .withColumn(\"price\", col(\"price\").cast(\"double\"))\n",
    "    .withColumn(\"total_sales\", col(\"quantity\") * col(\"price\"))\n",
    ")\n",
    "\n",
    "# 3 Write to Silver Delta table\n",
    "(\n",
    "    silver_df.write.format(\"delta\")\n",
    "    .mode(\"overwrite\")\n",
    "    .option(\"overwriteSchema\", \"true\")\n",
    "    .save(silver_output)\n",
    ")\n",
    "\n",
    "# 4 Display result\n",
    "display(silver_df)\n"
   ]
  },
  {
   "cell_type": "code",
   "execution_count": 0,
   "metadata": {
    "application/vnd.databricks.v1+cell": {
     "cellMetadata": {
      "byteLimit": 2048000,
      "rowLimit": 10000
     },
     "inputWidgets": {},
     "nuid": "48808756-29e8-45e8-a047-c78d233018ea",
     "showTitle": false,
     "tableResultSettingsMap": {},
     "title": ""
    }
   },
   "outputs": [
    {
     "output_type": "display_data",
     "data": {
      "text/html": [
       "<style scoped>\n",
       "  .table-result-container {\n",
       "    max-height: 300px;\n",
       "    overflow: auto;\n",
       "  }\n",
       "  table, th, td {\n",
       "    border: 1px solid black;\n",
       "    border-collapse: collapse;\n",
       "  }\n",
       "  th, td {\n",
       "    padding: 5px;\n",
       "  }\n",
       "  th {\n",
       "    text-align: left;\n",
       "  }\n",
       "</style><div class='table-result-container'><table class='table-result'><thead style='background-color: white'><tr><th>store</th><th>sale_date</th><th>daily_total_sales</th><th>performance_flag</th></tr></thead><tbody><tr><td>Store_C</td><td>2025-10-03</td><td>1245.0</td><td>Normal</td></tr><tr><td>Store_A</td><td>2025-10-01</td><td>855.0</td><td>Normal</td></tr><tr><td>Store_C</td><td>2025-10-01</td><td>300.0</td><td>Normal</td></tr><tr><td>Store_B</td><td>2025-10-03</td><td>480.0</td><td>Normal</td></tr><tr><td>Store_C</td><td>2025-10-02</td><td>450.0</td><td>Normal</td></tr><tr><td>Store_A</td><td>2025-10-02</td><td>306.0</td><td>Normal</td></tr><tr><td>Store_A</td><td>2025-10-03</td><td>382.5</td><td>Normal</td></tr><tr><td>Store_B</td><td>2025-10-02</td><td>1390.0</td><td>Normal</td></tr><tr><td>Store_B</td><td>2025-10-01</td><td>440.0</td><td>Normal</td></tr></tbody></table></div>"
      ]
     },
     "metadata": {
      "application/vnd.databricks.v1+output": {
       "addedWidgets": {},
       "aggData": [],
       "aggError": "",
       "aggOverflow": false,
       "aggSchema": [],
       "aggSeriesLimitReached": false,
       "aggType": "",
       "arguments": {},
       "columnCustomDisplayInfos": {},
       "data": [
        [
         "Store_C",
         "2025-10-03",
         1245.0,
         "Normal"
        ],
        [
         "Store_A",
         "2025-10-01",
         855.0,
         "Normal"
        ],
        [
         "Store_C",
         "2025-10-01",
         300.0,
         "Normal"
        ],
        [
         "Store_B",
         "2025-10-03",
         480.0,
         "Normal"
        ],
        [
         "Store_C",
         "2025-10-02",
         450.0,
         "Normal"
        ],
        [
         "Store_A",
         "2025-10-02",
         306.0,
         "Normal"
        ],
        [
         "Store_A",
         "2025-10-03",
         382.5,
         "Normal"
        ],
        [
         "Store_B",
         "2025-10-02",
         1390.0,
         "Normal"
        ],
        [
         "Store_B",
         "2025-10-01",
         440.0,
         "Normal"
        ]
       ],
       "datasetInfos": [],
       "dbfsResultPath": null,
       "isJsonSchema": true,
       "metadata": {},
       "overflow": false,
       "plotOptions": {
        "customPlotOptions": {},
        "displayType": "table",
        "pivotAggregation": null,
        "pivotColumns": null,
        "xColumns": null,
        "yColumns": null
       },
       "removedWidgets": [],
       "schema": [
        {
         "metadata": "{}",
         "name": "store",
         "type": "\"string\""
        },
        {
         "metadata": "{\"__detected_date_formats\": \"yyyy-M-d\"}",
         "name": "sale_date",
         "type": "\"string\""
        },
        {
         "metadata": "{}",
         "name": "daily_total_sales",
         "type": "\"double\""
        },
        {
         "metadata": "{}",
         "name": "performance_flag",
         "type": "\"string\""
        }
       ],
       "type": "table"
      }
     },
     "output_type": "display_data"
    }
   ],
   "source": [
    "from pyspark.sql.functions import col, sum as _sum, when\n",
    "\n",
    "# Paths\n",
    "silver_output = \"/Volumes/my_catalog/my_schema/session4new/silver_delta\"\n",
    "gold_output = \"/Volumes/my_catalog/my_schema/session4new/gold_delta\"\n",
    "\n",
    "# 1 Read from Silver Delta table\n",
    "silver_df = spark.read.format(\"delta\").load(silver_output)\n",
    "\n",
    "# 2 Aggregate total sales per store & date\n",
    "gold_df = (\n",
    "    silver_df.groupBy(\"store\", \"sale_date\")\n",
    "    .agg(_sum(\"total_sales\").alias(\"daily_total_sales\"))\n",
    "    .withColumn(\n",
    "        \"performance_flag\",\n",
    "        when(col(\"daily_total_sales\") > 50000, \"High Performing\").otherwise(\"Normal\")\n",
    "    )\n",
    ")\n",
    "\n",
    "# 3 Write Gold Layer Delta table (partition by store)\n",
    "(\n",
    "    gold_df.write.format(\"delta\")\n",
    "    .mode(\"overwrite\")\n",
    "    .option(\"overwriteSchema\", \"true\")\n",
    "    .partitionBy(\"store\")\n",
    "    .save(gold_output)\n",
    ")\n",
    "\n",
    "# 4 Display Gold table result\n",
    "display(gold_df)\n"
   ]
  },
  {
   "cell_type": "code",
   "execution_count": 0,
   "metadata": {
    "application/vnd.databricks.v1+cell": {
     "cellMetadata": {
      "byteLimit": 2048000,
      "implicitDf": true,
      "rowLimit": 10000
     },
     "inputWidgets": {},
     "nuid": "3fd6ff85-afc4-49e5-b8d1-cc709ae7c349",
     "showTitle": false,
     "tableResultSettingsMap": {},
     "title": ""
    }
   },
   "outputs": [
    {
     "output_type": "display_data",
     "data": {
      "text/html": [
       "<style scoped>\n",
       "  .table-result-container {\n",
       "    max-height: 300px;\n",
       "    overflow: auto;\n",
       "  }\n",
       "  table, th, td {\n",
       "    border: 1px solid black;\n",
       "    border-collapse: collapse;\n",
       "  }\n",
       "  th, td {\n",
       "    padding: 5px;\n",
       "  }\n",
       "  th {\n",
       "    text-align: left;\n",
       "  }\n",
       "</style><div class='table-result-container'><table class='table-result'><thead style='background-color: white'><tr><th>path</th></tr></thead><tbody><tr><td>dbfs:/Volumes/my_catalog/my_schema/session4new/gold_delta</td></tr></tbody></table></div>"
      ]
     },
     "metadata": {
      "application/vnd.databricks.v1+output": {
       "addedWidgets": {},
       "aggData": [],
       "aggError": "",
       "aggOverflow": false,
       "aggSchema": [],
       "aggSeriesLimitReached": false,
       "aggType": "",
       "arguments": {},
       "columnCustomDisplayInfos": {},
       "data": [
        [
         "dbfs:/Volumes/my_catalog/my_schema/session4new/gold_delta"
        ]
       ],
       "datasetInfos": [
        {
         "name": "_sqldf",
         "schema": {
          "fields": [
           {
            "metadata": {},
            "name": "path",
            "nullable": true,
            "type": "string"
           }
          ],
          "type": "struct"
         },
         "tableIdentifier": null,
         "typeStr": "pyspark.sql.connect.dataframe.DataFrame"
        }
       ],
       "dbfsResultPath": null,
       "isJsonSchema": true,
       "metadata": {
        "createTempViewForImplicitDf": true,
        "dataframeName": "_sqldf",
        "executionCount": 74
       },
       "overflow": false,
       "plotOptions": {
        "customPlotOptions": {},
        "displayType": "table",
        "pivotAggregation": null,
        "pivotColumns": null,
        "xColumns": null,
        "yColumns": null
       },
       "removedWidgets": [],
       "schema": [
        {
         "metadata": "{}",
         "name": "path",
         "type": "\"string\""
        }
       ],
       "type": "table"
      }
     },
     "output_type": "display_data"
    }
   ],
   "source": [
    "%sql\n",
    "OPTIMIZE delta.`/Volumes/my_catalog/my_schema/session4new/gold_delta`;\n",
    "\n",
    "VACUUM delta.`/Volumes/my_catalog/my_schema/session4new/gold_delta` RETAIN 169 HOURS;\n"
   ]
  },
  {
   "cell_type": "code",
   "execution_count": 0,
   "metadata": {
    "application/vnd.databricks.v1+cell": {
     "cellMetadata": {
      "byteLimit": 2048000,
      "implicitDf": true,
      "rowLimit": 10000
     },
     "inputWidgets": {},
     "nuid": "1ac2c7cf-4dd5-472e-970a-3ded5919ecab",
     "showTitle": false,
     "tableResultSettingsMap": {},
     "title": ""
    }
   },
   "outputs": [
    {
     "output_type": "display_data",
     "data": {
      "text/html": [
       "<style scoped>\n",
       "  .table-result-container {\n",
       "    max-height: 300px;\n",
       "    overflow: auto;\n",
       "  }\n",
       "  table, th, td {\n",
       "    border: 1px solid black;\n",
       "    border-collapse: collapse;\n",
       "  }\n",
       "  th, td {\n",
       "    padding: 5px;\n",
       "  }\n",
       "  th {\n",
       "    text-align: left;\n",
       "  }\n",
       "</style><div class='table-result-container'><table class='table-result'><thead style='background-color: white'><tr><th>version</th><th>timestamp</th><th>userId</th><th>userName</th><th>operation</th><th>operationParameters</th><th>job</th><th>notebook</th><th>clusterId</th><th>readVersion</th><th>isolationLevel</th><th>isBlindAppend</th><th>operationMetrics</th><th>userMetadata</th><th>engineInfo</th></tr></thead><tbody><tr><td>0</td><td>2025-10-28T14:23:21.000Z</td><td>70429301836869</td><td>rajatsaini9460@gmail.com</td><td>WRITE</td><td>Map(mode -> Overwrite, statsOnLoad -> false, partitionBy -> [\"store\"])</td><td>null</td><td>List(4249874690713960)</td><td>1028-134830-1c4jevt-v2n</td><td>null</td><td>WriteSerializable</td><td>false</td><td>Map(numFiles -> 3, numRemovedFiles -> 0, numRemovedBytes -> 0, numDeletionVectorsRemoved -> 0, numOutputRows -> 9, numOutputBytes -> 3673)</td><td>null</td><td>Databricks-Runtime/17.2.x-aarch64-photon-scala2.13</td></tr></tbody></table></div>"
      ]
     },
     "metadata": {
      "application/vnd.databricks.v1+output": {
       "addedWidgets": {},
       "aggData": [],
       "aggError": "",
       "aggOverflow": false,
       "aggSchema": [],
       "aggSeriesLimitReached": false,
       "aggType": "",
       "arguments": {},
       "columnCustomDisplayInfos": {},
       "data": [
        [
         0,
         "2025-10-28T14:23:21.000Z",
         "70429301836869",
         "rajatsaini9460@gmail.com",
         "WRITE",
         {
          "mode": "Overwrite",
          "partitionBy": "[\"store\"]",
          "statsOnLoad": "false"
         },
         null,
         [
          "4249874690713960"
         ],
         "1028-134830-1c4jevt-v2n",
         null,
         "WriteSerializable",
         false,
         {
          "numDeletionVectorsRemoved": "0",
          "numFiles": "3",
          "numOutputBytes": "3673",
          "numOutputRows": "9",
          "numRemovedBytes": "0",
          "numRemovedFiles": "0"
         },
         null,
         "Databricks-Runtime/17.2.x-aarch64-photon-scala2.13"
        ]
       ],
       "datasetInfos": [
        {
         "name": "_sqldf",
         "schema": {
          "fields": [
           {
            "metadata": {},
            "name": "version",
            "nullable": true,
            "type": "long"
           },
           {
            "metadata": {},
            "name": "timestamp",
            "nullable": true,
            "type": "timestamp"
           },
           {
            "metadata": {},
            "name": "userId",
            "nullable": true,
            "type": "string"
           },
           {
            "metadata": {},
            "name": "userName",
            "nullable": true,
            "type": "string"
           },
           {
            "metadata": {},
            "name": "operation",
            "nullable": true,
            "type": "string"
           },
           {
            "metadata": {},
            "name": "operationParameters",
            "nullable": true,
            "type": {
             "keyType": "string",
             "type": "map",
             "valueContainsNull": true,
             "valueType": "string"
            }
           },
           {
            "metadata": {},
            "name": "job",
            "nullable": true,
            "type": {
             "fields": [
              {
               "metadata": {},
               "name": "jobId",
               "nullable": true,
               "type": "string"
              },
              {
               "metadata": {},
               "name": "jobName",
               "nullable": true,
               "type": "string"
              },
              {
               "metadata": {},
               "name": "jobRunId",
               "nullable": true,
               "type": "string"
              },
              {
               "metadata": {},
               "name": "runId",
               "nullable": true,
               "type": "string"
              },
              {
               "metadata": {},
               "name": "jobOwnerId",
               "nullable": true,
               "type": "string"
              },
              {
               "metadata": {},
               "name": "triggerType",
               "nullable": true,
               "type": "string"
              }
             ],
             "type": "struct"
            }
           },
           {
            "metadata": {},
            "name": "notebook",
            "nullable": true,
            "type": {
             "fields": [
              {
               "metadata": {},
               "name": "notebookId",
               "nullable": true,
               "type": "string"
              }
             ],
             "type": "struct"
            }
           },
           {
            "metadata": {},
            "name": "clusterId",
            "nullable": true,
            "type": "string"
           },
           {
            "metadata": {},
            "name": "readVersion",
            "nullable": true,
            "type": "long"
           },
           {
            "metadata": {},
            "name": "isolationLevel",
            "nullable": true,
            "type": "string"
           },
           {
            "metadata": {},
            "name": "isBlindAppend",
            "nullable": true,
            "type": "boolean"
           },
           {
            "metadata": {},
            "name": "operationMetrics",
            "nullable": true,
            "type": {
             "keyType": "string",
             "type": "map",
             "valueContainsNull": true,
             "valueType": "string"
            }
           },
           {
            "metadata": {},
            "name": "userMetadata",
            "nullable": true,
            "type": "string"
           },
           {
            "metadata": {},
            "name": "engineInfo",
            "nullable": true,
            "type": "string"
           }
          ],
          "type": "struct"
         },
         "tableIdentifier": null,
         "typeStr": "pyspark.sql.connect.dataframe.DataFrame"
        }
       ],
       "dbfsResultPath": null,
       "isJsonSchema": true,
       "metadata": {
        "createTempViewForImplicitDf": true,
        "dataframeName": "_sqldf",
        "executionCount": 76
       },
       "overflow": false,
       "plotOptions": {
        "customPlotOptions": {},
        "displayType": "table",
        "pivotAggregation": null,
        "pivotColumns": null,
        "xColumns": null,
        "yColumns": null
       },
       "removedWidgets": [],
       "schema": [
        {
         "metadata": "{}",
         "name": "version",
         "type": "\"long\""
        },
        {
         "metadata": "{}",
         "name": "timestamp",
         "type": "\"timestamp\""
        },
        {
         "metadata": "{}",
         "name": "userId",
         "type": "\"string\""
        },
        {
         "metadata": "{}",
         "name": "userName",
         "type": "\"string\""
        },
        {
         "metadata": "{}",
         "name": "operation",
         "type": "\"string\""
        },
        {
         "metadata": "{}",
         "name": "operationParameters",
         "type": "{\"keyType\":\"string\",\"type\":\"map\",\"valueContainsNull\":true,\"valueType\":\"string\"}"
        },
        {
         "metadata": "{}",
         "name": "job",
         "type": "{\"fields\":[{\"metadata\":{},\"name\":\"jobId\",\"nullable\":true,\"type\":\"string\"},{\"metadata\":{},\"name\":\"jobName\",\"nullable\":true,\"type\":\"string\"},{\"metadata\":{},\"name\":\"jobRunId\",\"nullable\":true,\"type\":\"string\"},{\"metadata\":{},\"name\":\"runId\",\"nullable\":true,\"type\":\"string\"},{\"metadata\":{},\"name\":\"jobOwnerId\",\"nullable\":true,\"type\":\"string\"},{\"metadata\":{},\"name\":\"triggerType\",\"nullable\":true,\"type\":\"string\"}],\"type\":\"struct\"}"
        },
        {
         "metadata": "{}",
         "name": "notebook",
         "type": "{\"fields\":[{\"metadata\":{},\"name\":\"notebookId\",\"nullable\":true,\"type\":\"string\"}],\"type\":\"struct\"}"
        },
        {
         "metadata": "{}",
         "name": "clusterId",
         "type": "\"string\""
        },
        {
         "metadata": "{}",
         "name": "readVersion",
         "type": "\"long\""
        },
        {
         "metadata": "{}",
         "name": "isolationLevel",
         "type": "\"string\""
        },
        {
         "metadata": "{}",
         "name": "isBlindAppend",
         "type": "\"boolean\""
        },
        {
         "metadata": "{}",
         "name": "operationMetrics",
         "type": "{\"keyType\":\"string\",\"type\":\"map\",\"valueContainsNull\":true,\"valueType\":\"string\"}"
        },
        {
         "metadata": "{}",
         "name": "userMetadata",
         "type": "\"string\""
        },
        {
         "metadata": "{}",
         "name": "engineInfo",
         "type": "\"string\""
        }
       ],
       "type": "table"
      }
     },
     "output_type": "display_data"
    }
   ],
   "source": [
    "%sql\n",
    "DESCRIBE HISTORY delta.`/Volumes/my_catalog/my_schema/session4new/gold_delta`;\n"
   ]
  },
  {
   "cell_type": "code",
   "execution_count": 0,
   "metadata": {
    "application/vnd.databricks.v1+cell": {
     "cellMetadata": {
      "byteLimit": 2048000,
      "implicitDf": true,
      "rowLimit": 10000
     },
     "inputWidgets": {},
     "nuid": "1977ab2d-2d67-49bf-b604-110aa5ce09bf",
     "showTitle": false,
     "tableResultSettingsMap": {},
     "title": ""
    }
   },
   "outputs": [
    {
     "output_type": "display_data",
     "data": {
      "text/html": [
       "<style scoped>\n",
       "  .table-result-container {\n",
       "    max-height: 300px;\n",
       "    overflow: auto;\n",
       "  }\n",
       "  table, th, td {\n",
       "    border: 1px solid black;\n",
       "    border-collapse: collapse;\n",
       "  }\n",
       "  th, td {\n",
       "    padding: 5px;\n",
       "  }\n",
       "  th {\n",
       "    text-align: left;\n",
       "  }\n",
       "</style><div class='table-result-container'><table class='table-result'><thead style='background-color: white'><tr><th>store</th><th>sale_date</th><th>daily_total_sales</th><th>performance_flag</th></tr></thead><tbody><tr><td>Store_A</td><td>2025-10-01</td><td>855.0</td><td>Normal</td></tr><tr><td>Store_A</td><td>2025-10-02</td><td>306.0</td><td>Normal</td></tr><tr><td>Store_A</td><td>2025-10-03</td><td>382.5</td><td>Normal</td></tr><tr><td>Store_C</td><td>2025-10-03</td><td>1245.0</td><td>Normal</td></tr><tr><td>Store_C</td><td>2025-10-01</td><td>300.0</td><td>Normal</td></tr><tr><td>Store_C</td><td>2025-10-02</td><td>450.0</td><td>Normal</td></tr><tr><td>Store_B</td><td>2025-10-03</td><td>480.0</td><td>Normal</td></tr><tr><td>Store_B</td><td>2025-10-02</td><td>1390.0</td><td>Normal</td></tr><tr><td>Store_B</td><td>2025-10-01</td><td>440.0</td><td>Normal</td></tr></tbody></table></div>"
      ]
     },
     "metadata": {
      "application/vnd.databricks.v1+output": {
       "addedWidgets": {},
       "aggData": [],
       "aggError": "",
       "aggOverflow": false,
       "aggSchema": [],
       "aggSeriesLimitReached": false,
       "aggType": "",
       "arguments": {},
       "columnCustomDisplayInfos": {},
       "data": [
        [
         "Store_A",
         "2025-10-01",
         855.0,
         "Normal"
        ],
        [
         "Store_A",
         "2025-10-02",
         306.0,
         "Normal"
        ],
        [
         "Store_A",
         "2025-10-03",
         382.5,
         "Normal"
        ],
        [
         "Store_C",
         "2025-10-03",
         1245.0,
         "Normal"
        ],
        [
         "Store_C",
         "2025-10-01",
         300.0,
         "Normal"
        ],
        [
         "Store_C",
         "2025-10-02",
         450.0,
         "Normal"
        ],
        [
         "Store_B",
         "2025-10-03",
         480.0,
         "Normal"
        ],
        [
         "Store_B",
         "2025-10-02",
         1390.0,
         "Normal"
        ],
        [
         "Store_B",
         "2025-10-01",
         440.0,
         "Normal"
        ]
       ],
       "datasetInfos": [
        {
         "name": "_sqldf",
         "schema": {
          "fields": [
           {
            "metadata": {},
            "name": "store",
            "nullable": true,
            "type": "string"
           },
           {
            "metadata": {
             "__detected_date_formats": "yyyy-M-d"
            },
            "name": "sale_date",
            "nullable": true,
            "type": "string"
           },
           {
            "metadata": {},
            "name": "daily_total_sales",
            "nullable": true,
            "type": "double"
           },
           {
            "metadata": {},
            "name": "performance_flag",
            "nullable": true,
            "type": "string"
           }
          ],
          "type": "struct"
         },
         "tableIdentifier": null,
         "typeStr": "pyspark.sql.connect.dataframe.DataFrame"
        }
       ],
       "dbfsResultPath": null,
       "isJsonSchema": true,
       "metadata": {
        "createTempViewForImplicitDf": true,
        "dataframeName": "_sqldf",
        "executionCount": 77
       },
       "overflow": false,
       "plotOptions": {
        "customPlotOptions": {},
        "displayType": "table",
        "pivotAggregation": null,
        "pivotColumns": null,
        "xColumns": null,
        "yColumns": null
       },
       "removedWidgets": [],
       "schema": [
        {
         "metadata": "{}",
         "name": "store",
         "type": "\"string\""
        },
        {
         "metadata": "{\"__detected_date_formats\": \"yyyy-M-d\"}",
         "name": "sale_date",
         "type": "\"string\""
        },
        {
         "metadata": "{}",
         "name": "daily_total_sales",
         "type": "\"double\""
        },
        {
         "metadata": "{}",
         "name": "performance_flag",
         "type": "\"string\""
        }
       ],
       "type": "table"
      }
     },
     "output_type": "display_data"
    }
   ],
   "source": [
    "%sql\n",
    "SELECT * FROM delta.`/Volumes/my_catalog/my_schema/session4new/gold_delta@v0`;\n"
   ]
  },
  {
   "cell_type": "code",
   "execution_count": 0,
   "metadata": {
    "application/vnd.databricks.v1+cell": {
     "cellMetadata": {
      "byteLimit": 2048000,
      "implicitDf": true,
      "rowLimit": 10000
     },
     "inputWidgets": {},
     "nuid": "732c90f9-0e27-448c-a67d-427b6770d738",
     "showTitle": false,
     "tableResultSettingsMap": {},
     "title": ""
    }
   },
   "outputs": [
    {
     "output_type": "execute_result",
     "data": {
      "text/plain": [
       "DataFrame[num_affected_rows: bigint, num_inserted_rows: bigint]"
      ]
     },
     "execution_count": 13,
     "metadata": {},
     "output_type": "execute_result"
    }
   ],
   "source": [
    "spark.sql(\"\"\"\n",
    "CREATE TABLE IF NOT EXISTS my_catalog.my_schema.bronze_sales\n",
    "USING DELTA\n",
    "AS SELECT * FROM delta.`/Volumes/my_catalog/my_schema/session4new/bronze_delta`\n",
    "\"\"\")\n",
    "\n",
    "spark.sql(\"\"\"\n",
    "CREATE TABLE IF NOT EXISTS my_catalog.my_schema.silver_sales\n",
    "USING DELTA\n",
    "AS SELECT * FROM delta.`/Volumes/my_catalog/my_schema/session4new/silver_delta`\n",
    "\"\"\")\n",
    "\n",
    "spark.sql(\"\"\"\n",
    "CREATE TABLE IF NOT EXISTS my_catalog.my_schema.gold_sales\n",
    "USING DELTA\n",
    "AS SELECT * FROM delta.`/Volumes/my_catalog/my_schema/session4new/gold_delta`\n",
    "\"\"\")\n"
   ]
  },
  {
   "cell_type": "code",
   "execution_count": 0,
   "metadata": {
    "application/vnd.databricks.v1+cell": {
     "cellMetadata": {
      "byteLimit": 2048000,
      "implicitDf": true,
      "rowLimit": 10000
     },
     "inputWidgets": {},
     "nuid": "0770a395-c224-46fe-b6b1-74da0b94b780",
     "showTitle": false,
     "tableResultSettingsMap": {
      "0": {
       "dataGridStateBlob": "{\"version\":1,\"tableState\":{\"columnPinning\":{\"left\":[\"#row_number#\"],\"right\":[]},\"columnSizing\":{},\"columnVisibility\":{}},\"settings\":{\"columns\":{}},\"syncTimestamp\":1761669292721}",
       "filterBlob": null,
       "queryPlanFiltersBlob": null,
       "tableResultIndex": 0
      }
     },
     "title": ""
    }
   },
   "outputs": [
    {
     "output_type": "display_data",
     "data": {
      "text/html": [
       "<style scoped>\n",
       "  .table-result-container {\n",
       "    max-height: 300px;\n",
       "    overflow: auto;\n",
       "  }\n",
       "  table, th, td {\n",
       "    border: 1px solid black;\n",
       "    border-collapse: collapse;\n",
       "  }\n",
       "  th, td {\n",
       "    padding: 5px;\n",
       "  }\n",
       "  th {\n",
       "    text-align: left;\n",
       "  }\n",
       "</style><div class='table-result-container'><table class='table-result'><thead style='background-color: white'><tr><th>store</th><th>sale_date</th><th>daily_total_sales</th><th>performance_flag</th></tr></thead><tbody><tr><td>Store_A</td><td>2025-10-01</td><td>855.0</td><td>Normal</td></tr><tr><td>Store_A</td><td>2025-10-02</td><td>306.0</td><td>Normal</td></tr><tr><td>Store_A</td><td>2025-10-03</td><td>382.5</td><td>Normal</td></tr><tr><td>Store_B</td><td>2025-10-03</td><td>480.0</td><td>Normal</td></tr><tr><td>Store_B</td><td>2025-10-02</td><td>1390.0</td><td>Normal</td></tr><tr><td>Store_B</td><td>2025-10-01</td><td>440.0</td><td>Normal</td></tr><tr><td>Store_C</td><td>2025-10-03</td><td>1245.0</td><td>Normal</td></tr><tr><td>Store_C</td><td>2025-10-01</td><td>300.0</td><td>Normal</td></tr><tr><td>Store_C</td><td>2025-10-02</td><td>450.0</td><td>Normal</td></tr></tbody></table></div>"
      ]
     },
     "metadata": {
      "application/vnd.databricks.v1+output": {
       "addedWidgets": {},
       "aggData": [],
       "aggError": "",
       "aggOverflow": false,
       "aggSchema": [],
       "aggSeriesLimitReached": false,
       "aggType": "",
       "arguments": {},
       "columnCustomDisplayInfos": {},
       "data": [
        [
         "Store_A",
         "2025-10-01",
         855.0,
         "Normal"
        ],
        [
         "Store_A",
         "2025-10-02",
         306.0,
         "Normal"
        ],
        [
         "Store_A",
         "2025-10-03",
         382.5,
         "Normal"
        ],
        [
         "Store_B",
         "2025-10-03",
         480.0,
         "Normal"
        ],
        [
         "Store_B",
         "2025-10-02",
         1390.0,
         "Normal"
        ],
        [
         "Store_B",
         "2025-10-01",
         440.0,
         "Normal"
        ],
        [
         "Store_C",
         "2025-10-03",
         1245.0,
         "Normal"
        ],
        [
         "Store_C",
         "2025-10-01",
         300.0,
         "Normal"
        ],
        [
         "Store_C",
         "2025-10-02",
         450.0,
         "Normal"
        ]
       ],
       "datasetInfos": [
        {
         "name": "_sqldf",
         "schema": {
          "fields": [
           {
            "metadata": {},
            "name": "store",
            "nullable": true,
            "type": "string"
           },
           {
            "metadata": {
             "__detected_date_formats": "yyyy-M-d"
            },
            "name": "sale_date",
            "nullable": true,
            "type": "string"
           },
           {
            "metadata": {},
            "name": "daily_total_sales",
            "nullable": true,
            "type": "double"
           },
           {
            "metadata": {},
            "name": "performance_flag",
            "nullable": true,
            "type": "string"
           }
          ],
          "type": "struct"
         },
         "tableIdentifier": null,
         "typeStr": "pyspark.sql.connect.dataframe.DataFrame"
        }
       ],
       "dbfsResultPath": null,
       "isJsonSchema": true,
       "metadata": {
        "createTempViewForImplicitDf": true,
        "dataframeName": "_sqldf",
        "executionCount": 20
       },
       "overflow": false,
       "plotOptions": {
        "customPlotOptions": {},
        "displayType": "table",
        "pivotAggregation": null,
        "pivotColumns": null,
        "xColumns": null,
        "yColumns": null
       },
       "removedWidgets": [],
       "schema": [
        {
         "metadata": "{}",
         "name": "store",
         "type": "\"string\""
        },
        {
         "metadata": "{\"__detected_date_formats\": \"yyyy-M-d\"}",
         "name": "sale_date",
         "type": "\"string\""
        },
        {
         "metadata": "{}",
         "name": "daily_total_sales",
         "type": "\"double\""
        },
        {
         "metadata": "{}",
         "name": "performance_flag",
         "type": "\"string\""
        }
       ],
       "type": "table"
      }
     },
     "output_type": "display_data"
    }
   ],
   "source": [
    "%sql\n",
    "SELECT * FROM my_catalog.my_schema.gold_sales;\n"
   ]
  }
 ],
 "metadata": {
  "application/vnd.databricks.v1+notebook": {
   "computePreferences": null,
   "dashboards": [],
   "environmentMetadata": {
    "base_environment": "",
    "environment_version": "4"
   },
   "inputWidgetPreferences": null,
   "language": "python",
   "notebookMetadata": {
    "mostRecentlyExecutedCommandWithImplicitDF": {
     "commandId": 7313883548140045,
     "dataframes": [
      "_sqldf"
     ]
    },
    "pythonIndentUnit": 4
   },
   "notebookName": "session 4",
   "widgets": {}
  },
  "language_info": {
   "name": "python"
  }
 },
 "nbformat": 4,
 "nbformat_minor": 0
}